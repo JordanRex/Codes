{
 "cells": [
  {
   "cell_type": "code",
   "execution_count": 95,
   "metadata": {
    "scrolled": false
   },
   "outputs": [
    {
     "name": "stdout",
     "output_type": "stream",
     "text": [
      "['.ipynb_checkpoints', '.svn', '2. Target Risk Analysis - Univariates, Bivariates and Missing Value Treatment.py', '3 month iteration results', 'archive', 'AUTOML_BC-Copy1.ipynb', 'AUTOML_BC.ipynb', 'AUTOML_BC_best.ipynb', 'backup.out.bak', 'backup.out.dir', 'backup_bne.pickle', 'backup_le.pickle', 'backup_le_2.pickle', 'barplots.ipynb', 'branches', 'EDA_NB.ipynb', 'FEATURE_ENGINEERING.ipynb', 'final_distribution.png', 'friday_meeting.csv', 'JUNE18_TURNOVER.xlsx', 'MAIN.ipynb', 'MAIN_best.ipynb', 'MAIN_best2.ipynb', 'Missing Data Imputation.ipynb', 'MODEL INTERPRETER.ipynb', 'MODEL_SELECTION_TUNING_TEST_2017Dec_model3.ipynb', 'MODEL_TOP_FEATURES_DISTRIBUTION_Graphs.ipynb', 'NAZ_missing_distribution.csv', 'New folder', 'OTHER_MODELS.ipynb', 'p.csv', 'pred.csv', 'preparation', 'PREPARATION.ipynb', 'salary_bonus_2017.csv', 'snippets', 'stacking_ensemble', 'tags', 'test2.csv', 'test3.csv', 'test_final.csv', 'train_dec2017.csv', 'train_final.csv', 'train_final_ext_1.csv', 'train_final_ext_2.csv', 'train_june2017.csv', 'trunk', 'Turnover Report NAZ 2017 Year End.csv', 'Turnover Report NAZ 2017 Year End.xlsx', 'turnover-2015-final.csv', 'turnover-2016-final.csv', 'turnover_framework', 'ULTIMATE.ipynb', 'valid_dfs.csv', 'valid_final.csv', 'VERTICAL LEVEL MODELS', 'wrong', 'X.csv', 'X_train.csv', 'X_valid.csv', 'Y.csv', 'y_valid.csv']\n"
     ]
    }
   ],
   "source": [
    "## importing the relevant packages:\n",
    "\n",
    "# clear the workspace\n",
    "%reset -f\n",
    "\n",
    "# print list of files in directory\n",
    "import os\n",
    "print(os.listdir())\n",
    "\n",
    "# print/display all plots inline\n",
    "import matplotlib.pyplot as plt\n",
    "import seaborn as sns\n",
    "%matplotlib inline\n",
    "\n",
    "# the base packages\n",
    "import collections # for the Counter function\n",
    "import csv # for reading/writing csv files\n",
    "import pandas as pd, numpy as np, time, gc, bisect\n",
    "\n",
    "# the various packages/modules used across processing (sklearn), modelling (lightgbm) and bayesian optimization (hyperopt, bayes_opt)\n",
    "import sklearn\n",
    "from sklearn.model_selection import train_test_split, cross_validate, GridSearchCV\n",
    "from sklearn import metrics, preprocessing, decomposition\n",
    "from sklearn.cross_validation import cross_val_score, StratifiedKFold, StratifiedShuffleSplit\n",
    "from sklearn.base import TransformerMixin\n",
    "from sklearn.utils import shuffle\n",
    "from sklearn.preprocessing import StandardScaler, MinMaxScaler\n",
    "from sklearn.random_projection import GaussianRandomProjection, SparseRandomProjection\n",
    "import category_encoders as ce\n",
    "\n",
    "from bayes_opt import BayesianOptimization\n",
    "from tqdm import tqdm\n",
    "from hyperopt import hp, tpe, STATUS_OK, fmin, Trials\n",
    "from hyperopt.fmin import fmin\n",
    "from hyperopt.pyll.stochastic import sample\n",
    "\n",
    "# modelling algorithms\n",
    "import xgboost as xgb\n",
    "import lightgbm as lgb\n",
    "from sklearn.ensemble import RandomForestClassifier\n",
    "from sklearn.linear_model import LogisticRegression\n",
    "from sklearn.svm import SVC\n",
    "from sklearn.feature_selection import RFECV, VarianceThreshold\n",
    "\n",
    "# Evaluation of the model\n",
    "from sklearn import model_selection\n",
    "from sklearn.model_selection import KFold\n",
    "from sklearn.metrics import roc_auc_score\n",
    "from timeit import default_timer as timer\n",
    "\n",
    "# Exporting packages for SHAP/LIME\n",
    "import shap\n",
    "import lime\n",
    "import lime.lime_tabular\n",
    "\n",
    "# missing value imputation\n",
    "from fancyimpute import KNN, MICE #, NuclearNormMinimization\n",
    "\n",
    "# define the global variables used later\n",
    "MAX_EVALS = 10 # number of iterations/parameter sets created towards tuning\n",
    "N_FOLDS = 5 # number of cv folds\n",
    "randomseed = 1 # the value for the random state used at various points in the pipeline\n",
    "pd.options.display.max_rows = 1000 # specify if you want the full output in cells rather the truncated list\n",
    "pd.options.display.max_columns = 200"
   ]
  },
  {
   "cell_type": "code",
   "execution_count": 76,
   "metadata": {
    "extensions": {
     "jupyter_dashboards": {
      "version": 1,
      "views": {
       "grid_default": {
        "hidden": true
       },
       "report_default": {}
      }
     }
    }
   },
   "outputs": [],
   "source": [
    "#### MAIN CLASSES ####\n",
    "\n",
    "## Two defined for now ##\n",
    "# 1. DataFrame Imputer\n",
    "#    - for imputing missing values\n",
    "# 2. Prepare Data\n",
    "#    - for sourcing, processing, and returning the train/valid datasets\n",
    "\n",
    "class DataFrameImputer(TransformerMixin):\n",
    "\n",
    "    def __init__(self):\n",
    "        \"\"\"Impute missing values.\n",
    "        Columns of dtype object are imputed with the most frequent value \n",
    "        in column.\n",
    "        Columns of other types are imputed with mean of column.\n",
    "        \"\"\"\n",
    "        \n",
    "    def fit(self, X, y=None):\n",
    "        X.groupby(['pay scale group', 'abinbev entity2'])\n",
    "        self.fill = pd.Series([X[c].value_counts().index[0] if X[c].dtype == np.dtype('O') else X[c].mean() for c in X], \n",
    "                              index=X.columns)\n",
    "        X.groupby('abinbev entity2')\n",
    "        self.fill = pd.Series([X[c].value_counts().index[0] if X[c].dtype == np.dtype('O') else X[c].mean() for c in X], \n",
    "                              index=X.columns)\n",
    "        X.reset_index(drop=True)\n",
    "        self.fill = pd.Series([X[c].value_counts().index[0] if X[c].dtype == np.dtype('O') else X[c].mean() for c in X], \n",
    "                              index=X.columns)\n",
    "        return self\n",
    "\n",
    "    def transform(self, X, y=None):\n",
    "        return X.fillna(self.fill)\n",
    "    \n",
    "    def num_missing(self):\n",
    "        return sum(self.isnull())\n",
    "    \n",
    "    def imputer_method(self, column, method=['mean', 'median', 'most_frequent']):\n",
    "        x = Imputer(missing_values = 'NaN', strategy = method, axis = 0)\n",
    "        return x.fit_transform(self[[column]]).ravel()\n",
    "    \n",
    "    def fancy_impute(X, which_method):\n",
    "        \"\"\" currently supported algorithms are KNN, NNM and MICE from the fancyimpute package\n",
    "        which_method = ['KNN', 'NNM', 'MICE']\n",
    "        \"\"\"\n",
    "        print(which_method, ' based missing value imputation is happening ...', '\\n')\n",
    "        \n",
    "        if which_method == 'NNM': X = NuclearNormMinimization().complete(X) # NNM method\n",
    "        if which_method == 'KNN': X = KNN(k=5, verbose=False).complete(X) # KNN method\n",
    "        if which_method == 'MICE':\n",
    "            X_complete_df = X.copy()\n",
    "            mice = MICE(verbose=False)\n",
    "            X_complete = mice.complete(np.asarray(X.values, dtype=float))\n",
    "            X_complete_df.loc[:, X.columns] = X_complete[:][:]\n",
    "            X = X_complete_df\n",
    "        print('missing value imputation completed', '\\n')\n",
    "        return X\n",
    "\n",
    "class prepare_data():\n",
    "    \n",
    "    def __init__(self):\n",
    "        \"\"\" To prepare data,\n",
    "                1. read in data\n",
    "                2. pre-processing/cleaning\n",
    "                3. creating helper objects for later steps\n",
    "                4. processing for modelling\n",
    "                5. function return objects are the train, valid, response, categ cols/indices, feature names\n",
    "        \"\"\"\n",
    "    \n",
    "    def labelEncoder(train_df, valid_df, categorical_names):\n",
    "        print('label encoding is happening ...', '\\n')\n",
    "        cat_columns = train_df.select_dtypes(include=['object']).columns.values        \n",
    "        for feature in tqdm(cat_columns):\n",
    "            le = preprocessing.LabelEncoder()\n",
    "            le.fit(train_df[feature].astype(str))\n",
    "            train_df[feature] = le.transform(train_df[feature].astype(str))\n",
    "            valid_df[feature] = valid_df[feature].map(lambda i: 'No Data' if i not in le.classes_ else i)\n",
    "            le_classes = le.classes_.tolist()\n",
    "            bisect.insort_left(le_classes, 'No Data')\n",
    "            le.classes_ = le_classes\n",
    "            valid_df[feature] = le.transform(valid_df[feature].astype(str))\n",
    "            categorical_names[feature] = le.classes_\n",
    "        print('label encoding completed', '\\n')\n",
    "        return train_df, valid_df, categorical_names\n",
    "        \n",
    "    def ce_encodings(train_df, valid_df, y_train, y_valid, encoding):\n",
    "        print('category encoding is happening ...', '\\n')\n",
    "        if encoding=='bne':          \n",
    "            enc=ce.BaseNEncoder(base=3)\n",
    "        elif encoding=='be':\n",
    "            enc=ce.BinaryEncoder()\n",
    "        elif encoding=='he':\n",
    "            enc=ce.HashingEncoder()\n",
    "        elif encoding=='oe':\n",
    "            enc=ce.OrdinalEncoder()\n",
    "        elif encoding=='ohe':\n",
    "            enc=ce.BaseNEncoder(base=1)\n",
    "        enc.fit(train_df)\n",
    "        train_df=enc.transform(train_df)\n",
    "        valid_df=enc.transform(valid_df)\n",
    "        print('category encoding completed', '\\n')\n",
    "        return train_df, valid_df\n",
    "    \n",
    "    ## function to get frequency count of elements in a vector/list\n",
    "    def freq_count(input_vector):\n",
    "        return collections.Counter(input_vector)\n",
    "    \n",
    "    def categ_feats(train_df, valid_df, y_train, y_valid, encoding='le'):\n",
    "        x = list(train_df.dtypes)\n",
    "        x_1 = [1 if x == 'O' else 0 for x in x]\n",
    "        categorical_idx = [i for i, x in enumerate(x_1) if x == 1]\n",
    "        # Get feature names and their values for categorical data (needed for LIME)\n",
    "        cat_columns = train_df.select_dtypes(include=['object']).columns.values\n",
    "        categorical_names = {}\n",
    "\n",
    "        train_df, valid_df = prepare_data.categ_feat_eng(train_df, valid_df, cat_columns)\n",
    "\n",
    "        train_df = train_df.drop(['label'], axis = 1)\n",
    "        valid_df = valid_df.drop(['label'], axis = 1)\n",
    "\n",
    "        train_df_cat = train_df[cat_columns]\n",
    "        num_cols = list(set(train_df.columns)-set(train_df_cat.columns))\n",
    "        train_df_num = train_df[num_cols]\n",
    "        valid_df_cat = valid_df[cat_columns]\n",
    "        valid_df_num = valid_df[num_cols]\n",
    "                \n",
    "        if encoding=='le':\n",
    "            train_df_cat, valid_df_cat, categorical_names = prepare_data.labelEncoder(train_df_cat, valid_df_cat, categorical_names)\n",
    "        elif encoding in ['be', 'bne', 'he', 'oe', 'ohe']:\n",
    "            train_df_cat, valid_df_cat = prepare_data.ce_encodings(train_df_cat, valid_df_cat, y_train, y_valid, encoding)\n",
    "        else :\n",
    "            print('Not supported. Use one of [be, bne, he, oe, ohe]', '\\n')\n",
    "        \n",
    "        train = pd.concat([train_df_cat.reset_index(drop=True), train_df_num], axis=1)\n",
    "        valid = pd.concat([valid_df_cat.reset_index(drop=True), valid_df_num], axis=1)\n",
    "        \n",
    "        print('encoding completed ...', '\\n')\n",
    "\n",
    "        return train, valid, categorical_names, categorical_idx\n",
    "    \n",
    "    def categ_feat_eng(train_df, valid_df, cat_columns):\n",
    "        print('categorical feature engineering is happening ...', '\\n')\n",
    "        \n",
    "        global iter\n",
    "        iter = 0\n",
    "        for i in tqdm(cat_columns):\n",
    "            grouped_df = pd.DataFrame(train_df.groupby([i])['label'].agg(['mean', 'std'])).reset_index()\n",
    "            grouped_df.rename(columns={'mean': str('mean_' + cat_columns[iter]),\n",
    "                                       'std': str('std_' + cat_columns[iter])}, inplace=True)\n",
    "            train_df = pd.merge(train_df, grouped_df, how='left')\n",
    "            valid_df = pd.merge(valid_df, grouped_df, how='left')\n",
    "            iter += 1\n",
    "        return train_df, valid_df\n",
    "    \n",
    "    def datetime_feats(train, valid, cols):\n",
    "        \"\"\" contains a nested function that creates several time dimension features from the datetime columns passed \"\"\"\n",
    "        print('datetime feature engineering is happening ...', '\\n')\n",
    "        \n",
    "        def dt_feats(df, col):\n",
    "            df[col] = pd.to_datetime(df[i])\n",
    "            #df[str(col+'_'+'day')] = df[col].dt.day\n",
    "            df[str(col+'_'+'day_name')] = df[col].dt.day_name\n",
    "            #df[str(col+'_'+'dayofweek')] = df[col].dt.dayofweek\n",
    "            df[str(col+'_'+'dayofyear')] = df[col].dt.dayofyear\n",
    "            #df[str(col+'_'+'days_in_month')] = df[col].dt.days_in_month\n",
    "            df[str(col+'_'+'month')] = df[col].dt.month\n",
    "            df[str(col+'_'+'month_name')] = df[col].dt.month_name\n",
    "            df[str(col+'_'+'quarter')] = df[col].dt.quarter\n",
    "            df[str(col+'_'+'week')] = df[col].dt.week\n",
    "            #df[str(col+'_'+'weekday')] = df[col].dt.weekday\n",
    "            df[str(col+'_'+'year')] = df[col].dt.year\n",
    "            #df[col] = df[col].dt.date\n",
    "            df = df.drop([col], axis = 1)\n",
    "            return df\n",
    "        for i in cols:\n",
    "            train = dt_feats(train, i)\n",
    "            valid = dt_feats(valid, i)\n",
    "        return train, valid\n",
    "    \n",
    "    def create(input_file_path, input_file_path_2, input_file_path_3, response, cols_to_remove = ['id'], random_seed = 1,\n",
    "                            encoding = 'le'):        \n",
    "        train = pd.read_csv(input_file_path, na_values=['No Data', ' ', 'UNKNOWN'])\n",
    "        test = pd.read_csv(input_file_path_3, na_values=['No Data', ' ', 'UNKNOWN'])\n",
    "        valid = pd.read_csv(input_file_path_2, na_values=['No Data', ' ', 'UNKNOWN'])\n",
    "        train_ext_1 = pd.read_csv('train_final_ext_2.csv', na_values=['No Data', ' ', 'UNKNOWN'])\n",
    "        \n",
    "        # remove all the columns specified by user\n",
    "        train.drop(cols_to_remove, axis = 1, inplace = True)\n",
    "        valid = pd.DataFrame(data = valid[train.columns])\n",
    "        test = pd.DataFrame(data = test[train.columns])\n",
    "        train_ext_1 = pd.DataFrame(data = train_ext_1[train.columns])\n",
    "        \n",
    "        # clean the column names\n",
    "        chars_to_remove = [' ', '.', '(', ')', '__', '-']\n",
    "        for i in chars_to_remove:\n",
    "            train.columns = train.columns.str.strip().str.lower().str.replace(i, '_')\n",
    "            valid.columns = valid.columns.str.strip().str.lower().str.replace(i, '_')\n",
    "            test.columns = test.columns.str.strip().str.lower().str.replace(i, '_')\n",
    "            train_ext_1.columns = train_ext_1.columns.str.strip().str.lower().str.replace(i, '_')\n",
    "        \n",
    "        print('original train df shape is: ', train.shape, '\\n')\n",
    "\n",
    "        train = train.append(pd.DataFrame(data = test), ignore_index=True)\n",
    "        train = train.append(pd.DataFrame(data = train_ext_1), ignore_index=True)\n",
    "        print('new train df shape is: ', train.shape, '\\n')\n",
    "        \n",
    "        # creating the datetime features from the datetime columns\n",
    "        cols = [s for s in train.columns.values if 'date' in s]        \n",
    "        train, valid = prepare_data.datetime_feats(train, valid, cols)\n",
    "        \n",
    "        # missing value threshold control (for both rows and columns)\n",
    "        print(train.shape, '\\n')\n",
    "        train.dropna(thresh=0.6*(train.shape[0]), axis=1, inplace = True)\n",
    "        train.dropna(thresh=0.6*(train.shape[1]), axis=0, inplace = True)\n",
    "        print(train.shape, '\\n')\n",
    "        valid = valid[train.columns]\n",
    "        valid.dropna(thresh=0.6*(valid.shape[0]), axis=1, inplace = True)\n",
    "        train = train[valid.columns]\n",
    "                \n",
    "        # reset the index since inplace operations happened earlier\n",
    "        train.index = pd.RangeIndex(len(train.index))\n",
    "        valid.index = pd.RangeIndex(len(valid.index))\n",
    "        \n",
    "        valid_ids = valid[['original_id', 'label']]\n",
    "        valid_ids.to_csv('valid_dfs.csv', index=False)\n",
    "        valid.drop('original_id', axis=1, inplace=True)\n",
    "        train.drop('original_id', axis=1, inplace=True)\n",
    "        \n",
    "        # the class balance in the training dataset for the response\n",
    "        print(prepare_data.freq_count(train[response]), '\\n')\n",
    "\n",
    "        # shuffle the dataframes so that the training is done in a random order.\n",
    "        #X_train = pd.DataFrame(shuffle(train))\n",
    "        #X_valid = pd.DataFrame(shuffle(valid))\n",
    "        X_train = pd.DataFrame(train)\n",
    "        X_valid = pd.DataFrame(valid)\n",
    "        \n",
    "        # creating the response vector\n",
    "        y_train = X_train[response].values\n",
    "        y_valid = X_valid[response].values\n",
    "        \n",
    "        X_train, X_valid, categ_names, categ_idx = prepare_data.categ_feats(X_train, X_valid, y_train, y_valid, encoding)\n",
    "\n",
    "        # remove highly correlated features to reduce further computation time\n",
    "        print('correlation analysis is happening ...', '\\n')\n",
    "        # Create correlation matrix\n",
    "        corr_matrix = X_train.corr().abs()\n",
    "        # Select upper triangle of correlation matrix\n",
    "        upper = corr_matrix.where(np.triu(np.ones(corr_matrix.shape), k=1).astype(np.bool))\n",
    "        # Find index of feature columns with correlation greater than 0.8\n",
    "        to_drop = [column for column in upper.columns if any(upper[column] > 0.8)]        \n",
    "        # Drop features\n",
    "        print(to_drop, '\\n')\n",
    "        X_train.drop(to_drop, axis=1, inplace=True)\n",
    "        X_valid.drop(to_drop, axis=1, inplace=True)\n",
    "        \n",
    "        # store all feature names\n",
    "        feat_names = X_train.columns.values\n",
    "        feat_names2 = X_valid.columns.values\n",
    "        \n",
    "        # missing value imputation\n",
    "        X_train = DataFrameImputer.fancy_impute(X_train, which_method='KNN')\n",
    "        X_valid = DataFrameImputer.fancy_impute(X_valid, which_method='KNN')\n",
    "        \n",
    "        # returning as pandas dataframes to retain feature names for LIME and feature importance plots\n",
    "        X_train = pd.DataFrame(data=X_train, columns=feat_names)\n",
    "        X_valid = pd.DataFrame(data=X_valid, columns=feat_names2)\n",
    "        \n",
    "        return X_train, X_valid, y_train, y_valid, categ_names, categ_idx, feat_names"
   ]
  },
  {
   "cell_type": "code",
   "execution_count": 8,
   "metadata": {
    "extensions": {
     "jupyter_dashboards": {
      "version": 1,
      "views": {
       "grid_default": {
        "col": 4,
        "height": 39,
        "hidden": false,
        "row": 0,
        "width": 4
       },
       "report_default": {}
      }
     }
    }
   },
   "outputs": [
    {
     "name": "stdout",
     "output_type": "stream",
     "text": [
      "original train df shape is:  (6102, 79) \n",
      "\n",
      "new train df shape is:  (12181, 79) \n",
      "\n",
      "datetime feature engineering is happening ... \n",
      "\n",
      "(12181, 91) \n",
      "\n",
      "(10701, 89) \n",
      "\n",
      "Counter({0: 10059, 1: 642}) \n",
      "\n",
      "categorical feature engineering is happening ... \n",
      "\n"
     ]
    },
    {
     "name": "stderr",
     "output_type": "stream",
     "text": [
      "100%|██████████████████████████████████████████████████████████████████████████████████| 45/45 [00:10<00:00,  4.11it/s]\n"
     ]
    },
    {
     "name": "stdout",
     "output_type": "stream",
     "text": [
      "label encoding is happening ... \n",
      "\n"
     ]
    },
    {
     "name": "stderr",
     "output_type": "stream",
     "text": [
      "  0%|                                                                                           | 0/45 [00:00<?, ?it/s]C:\\Users\\Lenovo\\Anaconda3\\lib\\site-packages\\ipykernel\\__main__.py:74: SettingWithCopyWarning: \n",
      "A value is trying to be set on a copy of a slice from a DataFrame.\n",
      "Try using .loc[row_indexer,col_indexer] = value instead\n",
      "\n",
      "See the caveats in the documentation: http://pandas.pydata.org/pandas-docs/stable/indexing.html#indexing-view-versus-copy\n",
      "C:\\Users\\Lenovo\\Anaconda3\\lib\\site-packages\\ipykernel\\__main__.py:75: SettingWithCopyWarning: \n",
      "A value is trying to be set on a copy of a slice from a DataFrame.\n",
      "Try using .loc[row_indexer,col_indexer] = value instead\n",
      "\n",
      "See the caveats in the documentation: http://pandas.pydata.org/pandas-docs/stable/indexing.html#indexing-view-versus-copy\n",
      "C:\\Users\\Lenovo\\Anaconda3\\lib\\site-packages\\ipykernel\\__main__.py:79: SettingWithCopyWarning: \n",
      "A value is trying to be set on a copy of a slice from a DataFrame.\n",
      "Try using .loc[row_indexer,col_indexer] = value instead\n",
      "\n",
      "See the caveats in the documentation: http://pandas.pydata.org/pandas-docs/stable/indexing.html#indexing-view-versus-copy\n",
      "100%|██████████████████████████████████████████████████████████████████████████████████| 45/45 [00:10<00:00,  4.20it/s]\n"
     ]
    },
    {
     "name": "stdout",
     "output_type": "stream",
     "text": [
      "label encoding completed \n",
      "\n",
      "encoding completed ... \n",
      "\n",
      "correlation analysis is happening ... \n",
      "\n",
      "['job_family', 'functional_area', 'g_total_comparison', 'gender_relation', 'target_by_cost_center', 'target_by_org_id', 'target_by_aid_band', 'target_by_me_band', 'target_by_fa_band', 'target_by_cc_band', 'target_by_oid_band', 'gt_percentage_team2', 'std_macro_entity_type', 'mean_target_by_band', 'original_hire_date_quarter', 'ebm_level_of_the_job', 'position_start_date_month', 'mean_m_gender', 'mean_manager_pay_scale', 'std_target_by_cc_band', 'bt_percentage_team2', 'annual_salary', 'mean_target_by_appraiser', 'mean_g_total_comparison_team', 'original_hire_date_dayofyear', 'std_target_by_fa_band', 'gt_percentage_team', 'position_start_date_dayofyear', 'mean_cr_team2', 'mean_original_hire_date_day_name', 'service_months', 'mean_opr_2', 'mean_original_hire_date_month_name', 'std_target_by_org_id', 'std_original_hire_date_day_name', 'std_bonus_comparison_team', 'std_target_by_aid_band', 'std_incentive_flag', 'std_opr_3', 'std_g_total_comparison_team2', 'mean_cr', 'mean_incentive_flag', 'mean_gender_relation', 'mean_position_start_date_day_name', 'mean_target_by_cc_band', 'std_original_hire_date_month_name', 'std_pay_scale_group', 'cr_percentage_team', 'mean_opr_change', 'std_m_gender', 'std_gender', 'mean_gender', 'mean_macro_entity_type', 'std_job_family', 'std_gender_relation', 'std_cr_team', 'mean_target_by_me_band', 'std_target_by_macro_entity', 'std_m_opr_1', 'mean_position_start_date_month_name', 'gt_percentage', 'std_global_job', 'std_cost_center', 'std_m_opr_change', 'std_g_total_comparison', 'original_hire_date_month', 'mean_m_opr_3', 'mean_target_by_cost_center', 'mean_bonus_comparison', 'std_m_opr_2', 'std_opr_1', 'std_position_start_date_month_name', 'mean_opr_1', 'std_bonus_comparison_team2', 'bonus_total', 'std_opr_change', 'position_start_date_year', 'std_target_by_band', 'std_target_by_oid_band'] \n",
      "\n",
      "KNN  based missing value imputation is happening ... \n",
      "\n",
      "missing value imputation completed \n",
      "\n",
      "KNN  based missing value imputation is happening ... \n",
      "\n",
      "missing value imputation completed \n",
      "\n"
     ]
    }
   ],
   "source": [
    "# create data function call\n",
    "# CV approach\n",
    "# train and valid features/response dataframes returned\n",
    "# categorical column names/indices and all feature names also returned\n",
    "\n",
    "X_train, X_valid, y_train, y_valid, categ_names, categ_idx, feat_names = prepare_data.create(input_file_path='train_final.csv',\n",
    "                                                                  input_file_path_2='valid_final.csv', input_file_path_3='test_final.csv',\n",
    "                                                                                             response = 'label',\n",
    "                                cols_to_remove = ['global id', 'pers. subarea text',\n",
    "                                                  'manager global id', 'personnel number manager', \n",
    "                                                  'short text of organizational unit', 'position text', \n",
    "                                                  'physical work location-description', 'physical work location-city',\n",
    "                                                  'manager position desc', 'costcenter description',\n",
    "                                                  'local entity description', 'appraiser id', 'time in position'], encoding = 'le')"
   ]
  },
  {
   "cell_type": "code",
   "execution_count": 77,
   "metadata": {
    "extensions": {
     "jupyter_dashboards": {
      "version": 1,
      "views": {
       "grid_default": {
        "hidden": true
       },
       "report_default": {}
      }
     }
    }
   },
   "outputs": [
    {
     "name": "stdout",
     "output_type": "stream",
     "text": [
      "(16215, 91)\n",
      "(5734, 91)\n",
      "(16215,)\n",
      "(5734,)\n",
      "Counter({0: 15557, 1: 658})\n",
      "Counter({0: 5453, 1: 281})\n"
     ]
    }
   ],
   "source": [
    "import pickle\n",
    "\n",
    "# f = open(\"backup_le_2.pickle\", \"wb\")\n",
    "# pickle.dump(X_train, f)\n",
    "# pickle.dump(X_valid, f)\n",
    "# pickle.dump(y_train, f)\n",
    "# pickle.dump(y_valid, f)\n",
    "# f.close()\n",
    "\n",
    "f = open(\"backup_le.pickle\", \"rb\")\n",
    "X_train = pickle.load(f)\n",
    "X_valid = pickle.load(f)\n",
    "y_train = pickle.load(f)\n",
    "y_valid = pickle.load(f)\n",
    "f.close()\n",
    "\n",
    "#################################################################################################################################\n",
    "\n",
    "print(X_train.shape)\n",
    "#print(X_test.shape)\n",
    "print(X_valid.shape)\n",
    "\n",
    "print(y_train.shape)\n",
    "#print(y_test.shape)\n",
    "print(y_valid.shape)\n",
    "\n",
    "print(collections.Counter(y_train))\n",
    "#print(collections.Counter(y_test))\n",
    "print(collections.Counter(y_valid))"
   ]
  },
  {
   "cell_type": "markdown",
   "metadata": {
    "extensions": {
     "jupyter_dashboards": {
      "version": 1,
      "views": {
       "grid_default": {
        "col": 0,
        "height": 12,
        "hidden": false,
        "row": 39,
        "width": 12
       },
       "report_default": {}
      }
     }
    }
   },
   "source": [
    "## FEATURE ENGINEERING MODULE\n",
    "\n",
    "- Decomposition features\n",
    "    - PCA\n",
    "    - ICA\n",
    "    - TSVD\n",
    "    - GRP\n",
    "    - SRP\n",
    "    - ...\n",
    "- Clustering output feaatures\n",
    "    - KMeans\n",
    "    - ...\n",
    "- Deterministic features\n",
    "    - Binning\n",
    "    - ..."
   ]
  },
  {
   "cell_type": "code",
   "execution_count": 78,
   "metadata": {
    "extensions": {
     "jupyter_dashboards": {
      "version": 1,
      "views": {
       "grid_default": {
        "hidden": true
       },
       "report_default": {}
      }
     }
    }
   },
   "outputs": [],
   "source": [
    "class feat_eng():\n",
    "    \n",
    "    def __init__():\n",
    "        \"\"\" this module contains several functions for creating new features. find below a brief description of each \"\"\"\n",
    "    \n",
    "    def scalers(train, valid, which_method):\n",
    "        if which_method == 'ss':\n",
    "            sc = StandardScaler()\n",
    "            sc.fit(train)\n",
    "            train = pd.DataFrame(sc.transform(train), columns=train.columns.values)\n",
    "            valid = pd.DataFrame(sc.transform(valid), columns=valid.columns.values)\n",
    "            return train, valid # scale all variables to zero mean and unit variance, required for PCA and related\n",
    "        if which_method == 'mm':\n",
    "            mm = MinMaxScaler()\n",
    "            mm.fit(train)\n",
    "            train = pd.DataFrame(mm.transform(train), columns=train.columns.values)\n",
    "            valid = pd.DataFrame(mm.transform(valid), columns=train.columns.values)\n",
    "            return train, valid # use this method to iterate\n",
    "    \n",
    "    def decomp_various():\n",
    "        return None\n",
    "    \n",
    "    def pca_feats(train, valid, n = .95):\n",
    "            train, valid = feat_eng.scalers(train, valid, which_method='ss')\n",
    "            pca_fit = decomposition.PCA(n_components=n)\n",
    "            pca_fit.fit(train)\n",
    "            pca_train = pd.DataFrame(pca_fit.transform(train))\n",
    "            pca_valid = pd.DataFrame(pca_fit.transform(valid))\n",
    "            pca_cols = list(set(list(pca_train)))\n",
    "            pca_cols = ['pca_' + str(s) for s in pca_cols]\n",
    "            pca_train.columns = pca_cols\n",
    "            pca_valid.columns = pca_cols\n",
    "            return pca_train, pca_valid\n",
    "        \n",
    "    def ica_feats(train, valid, n = 5):\n",
    "            train, valid = feat_eng.scalers(train, valid, which_method='ss')\n",
    "            ica_fit = decomposition.FastICA(n_components=n)\n",
    "            ica_fit.fit(train)\n",
    "            ica_train = pd.DataFrame(ica_fit.transform(train))\n",
    "            ica_valid = pd.DataFrame(ica_fit.transform(valid))\n",
    "            ica_cols = list(set(list(ica_train)))\n",
    "            ica_cols = ['ica_' + str(s) for s in ica_cols]\n",
    "            ica_train.columns = ica_cols\n",
    "            ica_valid.columns = ica_cols\n",
    "            return ica_train, ica_valid\n",
    "        \n",
    "    def tsvd_feats(train, valid, n = 5):\n",
    "            train, valid = feat_eng.scalers(train, valid, which_method='ss')\n",
    "            tsvd_fit = decomposition.TruncatedSVD(n_components=n)\n",
    "            tsvd_fit.fit(train)\n",
    "            tsvd_train = pd.DataFrame(tsvd_fit.transform(train))\n",
    "            tsvd_valid = pd.DataFrame(tsvd_fit.transform(valid))\n",
    "            tsvd_cols = list(set(list(tsvd_train)))\n",
    "            tsvd_cols = ['tsvd_' + str(s) for s in tsvd_cols]\n",
    "            tsvd_train.columns = tsvd_cols\n",
    "            tsvd_valid.columns = tsvd_cols\n",
    "            return tsvd_train, tsvd_valid\n",
    "        \n",
    "    def grp_feats(train, valid, n = 5):\n",
    "            train, valid = feat_eng.scalers(train, valid, which_method='ss')\n",
    "            grp_fit = GaussianRandomProjection(n_components=n, eps=0.3)\n",
    "            grp_fit.fit(train)\n",
    "            grp_train = pd.DataFrame(grp_fit.transform(train))\n",
    "            grp_valid = pd.DataFrame(grp_fit.transform(valid))\n",
    "            grp_cols = list(set(list(grp_train)))\n",
    "            grp_cols = ['grp_' + str(s) for s in grp_cols]\n",
    "            grp_train.columns = grp_cols\n",
    "            grp_valid.columns = grp_cols\n",
    "            return grp_train, grp_valid\n",
    "    \n",
    "    def srp_feats(train, valid, n = 5):\n",
    "            train, valid = feat_eng.scalers(train, valid, which_method='ss')\n",
    "            srp_fit = SparseRandomProjection(n_components=n, dense_output=True, eps=0.3)\n",
    "            srp_fit.fit(train)\n",
    "            srp_train = pd.DataFrame(srp_fit.transform(train))\n",
    "            srp_valid = pd.DataFrame(srp_fit.transform(valid))\n",
    "            srp_cols = list(set(list(srp_train)))\n",
    "            srp_cols = ['srp_' + str(s) for s in srp_cols]\n",
    "            srp_train.columns = srp_cols\n",
    "            srp_valid.columns = srp_cols\n",
    "            return srp_train, srp_valid\n",
    "        \n",
    "    def return_combined(train, valid, list_objects = ['pca', 'ica', 'tsvd', 'grp', 'srp']):\n",
    "        if 'pca' in list_objects:\n",
    "            train = pd.concat([train.reset_index(drop=True), pca_train], axis=1)\n",
    "            valid = pd.concat([valid.reset_index(drop=True), pca_valid], axis=1)\n",
    "        if 'ica' in list_objects:\n",
    "            train = pd.concat([train.reset_index(drop=True), ica_train], axis=1)\n",
    "            valid = pd.concat([valid.reset_index(drop=True), ica_valid], axis=1)\n",
    "        if 'tsvd' in list_objects:\n",
    "            train = pd.concat([train.reset_index(drop=True), tsvd_train], axis=1)\n",
    "            valid = pd.concat([valid.reset_index(drop=True), tsvd_valid], axis=1)\n",
    "        if 'grp' in list_objects:\n",
    "            train = pd.concat([train.reset_index(drop=True), grp_train], axis=1)\n",
    "            valid = pd.concat([valid.reset_index(drop=True), grp_valid], axis=1)\n",
    "        if 'srp' in list_objects:\n",
    "            train = pd.concat([train.reset_index(drop=True), srp_train], axis=1)\n",
    "            valid = pd.concat([valid.reset_index(drop=True), srp_valid], axis=1)\n",
    "        return train, valid"
   ]
  },
  {
   "cell_type": "code",
   "execution_count": 79,
   "metadata": {
    "extensions": {
     "jupyter_dashboards": {
      "version": 1,
      "views": {
       "grid_default": {
        "hidden": true
       },
       "report_default": {}
      }
     }
    }
   },
   "outputs": [
    {
     "name": "stderr",
     "output_type": "stream",
     "text": [
      "C:\\Users\\Lenovo\\Anaconda3\\lib\\site-packages\\sklearn\\decomposition\\fastica_.py:118: UserWarning: FastICA did not converge. Consider increasing tolerance or the maximum number of iterations.\n",
      "  warnings.warn('FastICA did not converge. Consider increasing '\n"
     ]
    }
   ],
   "source": [
    "## calling the various feat engineering functions and adding those features\n",
    "## pca, ica, tsvd, grp, srp\n",
    "pca_train, pca_valid = feat_eng.pca_feats(train=X_train, valid=X_valid, n=.95)\n",
    "ica_train, ica_valid = feat_eng.ica_feats(train=X_train, valid=X_valid, n=5)\n",
    "tsvd_train, tsvd_valid = feat_eng.tsvd_feats(train=X_train, valid=X_valid, n=5)\n",
    "grp_train, grp_valid = feat_eng.grp_feats(train=X_train, valid=X_valid, n=5)\n",
    "srp_train, srp_valid = feat_eng.srp_feats(train=X_train, valid=X_valid, n=5)\n",
    "\n",
    "## scale the data\n",
    "X_train, X_valid = feat_eng.scalers(train=X_train, valid=X_valid, which_method='ss')\n",
    "\n",
    "## return the final datasets with the added features\n",
    "X_train, X_valid = feat_eng.return_combined(train = X_train, valid = X_valid)"
   ]
  },
  {
   "cell_type": "code",
   "execution_count": 80,
   "metadata": {
    "extensions": {
     "jupyter_dashboards": {
      "version": 1,
      "views": {
       "grid_default": {
        "hidden": true
       },
       "report_default": {}
      }
     }
    }
   },
   "outputs": [],
   "source": [
    "## k-means clustering features\n",
    "\n",
    "from sklearn.cluster import KMeans\n",
    "\n",
    "class kmeans_feats():\n",
    "    def __init__():\n",
    "        \"\"\" module for adding features based on kmeans clusters generated \"\"\"\n",
    "    \n",
    "    def clusterer(train_df, valid_df, n):\n",
    "        clusterer = KMeans(n, random_state=1, init='k-means++')\n",
    "        \n",
    "        # fit the clusterer\n",
    "        clusterer.fit(train_df)\n",
    "        \n",
    "        train_clusters = clusterer.predict(train_df)\n",
    "        valid_clusters = clusterer.predict(valid_df)\n",
    "        \n",
    "        return train_clusters, valid_clusters\n",
    "    \n",
    "    def combine(train_df, valid_df, m=5):\n",
    "        for i in range(2, m):\n",
    "            t, v = kmeans_feats.clusterer(train_df, valid_df, n=i)\n",
    "            col_name = str('kmeans_'+ str(i))\n",
    "            t = pd.DataFrame({col_name: t})\n",
    "            v = pd.DataFrame({col_name: v})\n",
    "            \n",
    "            train_df = pd.concat([train_df.reset_index(drop=True), t], axis=1)\n",
    "            valid_df = pd.concat([valid_df.reset_index(drop=True), v], axis=1)\n",
    "            \n",
    "        return train_df, valid_df"
   ]
  },
  {
   "cell_type": "code",
   "execution_count": 81,
   "metadata": {
    "extensions": {
     "jupyter_dashboards": {
      "version": 1,
      "views": {
       "grid_default": {
        "hidden": true
       },
       "report_default": {}
      }
     }
    }
   },
   "outputs": [],
   "source": [
    "X_train, X_valid = kmeans_feats.combine(X_train, X_valid, m=10)"
   ]
  },
  {
   "cell_type": "code",
   "execution_count": 82,
   "metadata": {
    "extensions": {
     "jupyter_dashboards": {
      "version": 1,
      "views": {
       "grid_default": {
        "hidden": true
       },
       "report_default": {}
      }
     }
    }
   },
   "outputs": [],
   "source": [
    "## FEATURE SELECTION\n",
    "\n",
    "class feat_selection():\n",
    "    \n",
    "    def __init__():\n",
    "        \"\"\" this module is for dynamic feature selection after all the processing and feat engineering phases. ideally this\n",
    "        module is followed by the modelling phase immediately \"\"\"\n",
    "\n",
    "    # removing near zero variance columns\n",
    "    def variance_threshold_selector(train, valid, threshold):\n",
    "        print('input data shape is: ', train.shape, '\\n')\n",
    "        selector = VarianceThreshold(threshold)\n",
    "        selector.fit(train)\n",
    "        X = train[train.columns[selector.get_support(indices=True)]]\n",
    "        Y = valid[valid.columns[selector.get_support(indices=True)]]\n",
    "        #display(pd.DataFrame(X.head(5)))\n",
    "        print('output data shape is: ', X.shape, '\\n')\n",
    "        return X, Y\n",
    "\n",
    "    # using RFECV\n",
    "    def rfecv(train, valid, y_train):\n",
    "        # Create the RFE object and compute a cross-validated score.\n",
    "        #model = LogisticRegression(C=0.1, penalty='l1')\n",
    "        model = RandomForestClassifier(max_depth=7, max_features=0.25, n_estimators=100, n_jobs=1)\n",
    "        rfecv = RFECV(estimator=model, step=5, scoring='roc_auc', verbose=True)\n",
    "        rfecv.fit(train, y_train)\n",
    "\n",
    "        print(\"Optimal number of features : %d\" % rfecv.n_features_)\n",
    "\n",
    "        # Plot number of features VS. cross-validation scores\n",
    "#         plt.figure()\n",
    "#         plt.xlabel(\"Number of features selected\")\n",
    "#         plt.ylabel(\"Cross validation score (roc-auc)\")\n",
    "#         plt.plot(range(1, len(rfecv.grid_scores_) + 1), rfecv.grid_scores_)\n",
    "#         plt.show()\n",
    "\n",
    "        features = [f for f,s in zip(train.columns, rfecv.support_) if s]\n",
    "        train = train[features]\n",
    "        valid = valid[features]\n",
    "        return train, valid\n",
    "    \n",
    "    def feat_selection(train, valid, y_t, t=0.1):\n",
    "        # read in the train, valid and y_train objects\n",
    "        X, Y = feat_selection.variance_threshold_selector(train, valid, threshold=t)\n",
    "        \n",
    "        X, Y = feat_selection.rfecv(train=X, valid=Y, y_train=y_t)\n",
    "        \n",
    "        return X, Y"
   ]
  },
  {
   "cell_type": "code",
   "execution_count": 53,
   "metadata": {
    "collapsed": true,
    "extensions": {
     "jupyter_dashboards": {
      "version": 1,
      "views": {
       "grid_default": {
        "hidden": true
       },
       "report_default": {}
      }
     }
    }
   },
   "outputs": [
    {
     "name": "stdout",
     "output_type": "stream",
     "text": [
      "input data shape is:  (16215, 184) \n",
      "\n",
      "output data shape is:  (16215, 174) \n",
      "\n",
      "Fitting estimator with 174 features.\n",
      "Fitting estimator with 169 features.\n",
      "Fitting estimator with 164 features.\n",
      "Fitting estimator with 159 features.\n",
      "Fitting estimator with 154 features.\n",
      "Fitting estimator with 149 features.\n",
      "Fitting estimator with 144 features.\n",
      "Fitting estimator with 139 features.\n",
      "Fitting estimator with 134 features.\n",
      "Fitting estimator with 129 features.\n",
      "Fitting estimator with 124 features.\n",
      "Fitting estimator with 119 features.\n",
      "Fitting estimator with 114 features.\n",
      "Fitting estimator with 109 features.\n",
      "Fitting estimator with 104 features.\n",
      "Fitting estimator with 99 features.\n",
      "Fitting estimator with 94 features.\n",
      "Fitting estimator with 89 features.\n",
      "Fitting estimator with 84 features.\n",
      "Fitting estimator with 79 features.\n",
      "Fitting estimator with 74 features.\n",
      "Fitting estimator with 69 features.\n",
      "Fitting estimator with 64 features.\n",
      "Fitting estimator with 59 features.\n",
      "Fitting estimator with 54 features.\n",
      "Fitting estimator with 49 features.\n",
      "Fitting estimator with 44 features.\n",
      "Fitting estimator with 39 features.\n",
      "Fitting estimator with 34 features.\n",
      "Fitting estimator with 29 features.\n",
      "Fitting estimator with 24 features.\n",
      "Fitting estimator with 19 features.\n",
      "Fitting estimator with 14 features.\n",
      "Fitting estimator with 9 features.\n",
      "Fitting estimator with 4 features.\n",
      "Fitting estimator with 174 features.\n",
      "Fitting estimator with 169 features.\n",
      "Fitting estimator with 164 features.\n",
      "Fitting estimator with 159 features.\n",
      "Fitting estimator with 154 features.\n",
      "Fitting estimator with 149 features.\n",
      "Fitting estimator with 144 features.\n",
      "Fitting estimator with 139 features.\n",
      "Fitting estimator with 134 features.\n",
      "Fitting estimator with 129 features.\n",
      "Fitting estimator with 124 features.\n",
      "Fitting estimator with 119 features.\n",
      "Fitting estimator with 114 features.\n",
      "Fitting estimator with 109 features.\n",
      "Fitting estimator with 104 features.\n",
      "Fitting estimator with 99 features.\n",
      "Fitting estimator with 94 features.\n",
      "Fitting estimator with 89 features.\n",
      "Fitting estimator with 84 features.\n",
      "Fitting estimator with 79 features.\n",
      "Fitting estimator with 74 features.\n",
      "Fitting estimator with 69 features.\n",
      "Fitting estimator with 64 features.\n",
      "Fitting estimator with 59 features.\n",
      "Fitting estimator with 54 features.\n",
      "Fitting estimator with 49 features.\n",
      "Fitting estimator with 44 features.\n",
      "Fitting estimator with 39 features.\n",
      "Fitting estimator with 34 features.\n",
      "Fitting estimator with 29 features.\n",
      "Fitting estimator with 24 features.\n",
      "Fitting estimator with 19 features.\n",
      "Fitting estimator with 14 features.\n",
      "Fitting estimator with 9 features.\n",
      "Fitting estimator with 4 features.\n",
      "Fitting estimator with 174 features.\n",
      "Fitting estimator with 169 features.\n",
      "Fitting estimator with 164 features.\n",
      "Fitting estimator with 159 features.\n",
      "Fitting estimator with 154 features.\n",
      "Fitting estimator with 149 features.\n",
      "Fitting estimator with 144 features.\n",
      "Fitting estimator with 139 features.\n",
      "Fitting estimator with 134 features.\n",
      "Fitting estimator with 129 features.\n",
      "Fitting estimator with 124 features.\n",
      "Fitting estimator with 119 features.\n",
      "Fitting estimator with 114 features.\n",
      "Fitting estimator with 109 features.\n",
      "Fitting estimator with 104 features.\n",
      "Fitting estimator with 99 features.\n",
      "Fitting estimator with 94 features.\n",
      "Fitting estimator with 89 features.\n",
      "Fitting estimator with 84 features.\n",
      "Fitting estimator with 79 features.\n",
      "Fitting estimator with 74 features.\n",
      "Fitting estimator with 69 features.\n",
      "Fitting estimator with 64 features.\n",
      "Fitting estimator with 59 features.\n",
      "Fitting estimator with 54 features.\n",
      "Fitting estimator with 49 features.\n",
      "Fitting estimator with 44 features.\n",
      "Fitting estimator with 39 features.\n",
      "Fitting estimator with 34 features.\n",
      "Fitting estimator with 29 features.\n",
      "Fitting estimator with 24 features.\n",
      "Fitting estimator with 19 features.\n",
      "Fitting estimator with 14 features.\n",
      "Fitting estimator with 9 features.\n",
      "Fitting estimator with 4 features.\n",
      "Optimal number of features : 29\n"
     ]
    },
    {
     "data": {
      "image/png": "[encoded data removed]",
      "text/plain": [
       "<Figure size 432x288 with 1 Axes>"
      ]
     },
     "metadata": {},
     "output_type": "display_data"
    }
   ],
   "source": [
    "X_train, X_valid = feat_selection.feat_selection(train=X_train, valid=X_valid, y_t=y_train, t=0.1)"
   ]
  },
  {
   "cell_type": "code",
   "execution_count": 83,
   "metadata": {},
   "outputs": [
    {
     "name": "stdout",
     "output_type": "stream",
     "text": [
      "input data shape is:  (16215, 184) \n",
      "\n",
      "output data shape is:  (16215, 174) \n",
      "\n"
     ]
    }
   ],
   "source": [
    "X_train, X_valid = feat_selection.variance_threshold_selector(train=X_train, valid=X_valid, threshold=0.1)"
   ]
  },
  {
   "cell_type": "code",
   "execution_count": 84,
   "metadata": {},
   "outputs": [
    {
     "name": "stderr",
     "output_type": "stream",
     "text": [
      "C:\\Users\\Lenovo\\Anaconda3\\lib\\site-packages\\sklearn\\utils\\deprecation.py:77: DeprecationWarning: Function _ratio_float is deprecated; Use a float for 'ratio' is deprecated from version 0.2. The support will be removed in 0.4. Use a dict, str, or a callable instead.\n",
      "  warnings.warn(msg, category=DeprecationWarning)\n"
     ]
    },
    {
     "name": "stdout",
     "output_type": "stream",
     "text": [
      "(18937, 174) (18937,) Counter({0: 11170, 1: 7767})\n"
     ]
    }
   ],
   "source": [
    "\"\"\" Explicitly doing sampling. Use with care if going ahead with the CV based approach. Keep ratio low if so (recommended)\n",
    "\n",
    "oversampling the minority class using techniques from SMOTE (for oversampling) and ENN/Tomek (for undersampling/cleaning)\n",
    "ENN worked out better than Tomek\n",
    "added support for undersampling with ENN/RENN/AllKNN \"\"\"\n",
    "\n",
    "from imblearn.over_sampling import ADASYN, SMOTE, RandomOverSampler\n",
    "from imblearn.combine import SMOTETomek, SMOTEENN\n",
    "from imblearn.under_sampling import AllKNN, EditedNearestNeighbours, RepeatedEditedNearestNeighbours\n",
    "\n",
    "feat_names = X_train.columns.values\n",
    "\n",
    "### OVERSAMPLING (ADASYN) ###\n",
    "    # Apply ADASYN\n",
    "# ada = ADASYN(random_state=0)\n",
    "# X_train, y_train = ada.fit_sample(X_train, y_train)\n",
    "\n",
    "### OVERSAMPLING (SMOTE) AND THEN UNDERSAMPLING (ENN/Tomek) ###\n",
    "    # Apply SMOTE + Tomek links\n",
    "# sm = SMOTETomek(random_state=0, ratio=0.75)\n",
    "# X_train, y_train = sm.fit_sample(X_train, y_train)\n",
    "    # Apply SMOTE + ENN\n",
    "smote_enn = SMOTEENN(random_state=0, ratio=0.5)\n",
    "X_train, y_train = smote_enn.fit_sample(X_train, y_train)\n",
    "\n",
    "### UNDERSAMPLING (ENN/RENN/AllKNN) ###\n",
    "    # Apply ENN\n",
    "# enn = EditedNearestNeighbours(random_state=0)\n",
    "# X_train, y_train = enn.fit_sample(X_train, y_train)\n",
    "    # Apply RENN\n",
    "# renn = RepeatedEditedNearestNeighbours(random_state=0)\n",
    "# X_train, y_train = renn.fit_sample(X_train, y_train)\n",
    "    # Apply AllKNN\n",
    "# allknn = AllKNN(random_state=0)\n",
    "# X_train, y_train = allknn.fit_sample(X_train, y_train)\n",
    "\n",
    "X_train = pd.DataFrame(data=X_train,columns=feat_names)\n",
    "\n",
    "print(X_train.shape, y_train.shape, collections.Counter(y_train))"
   ]
  },
  {
   "cell_type": "code",
   "execution_count": 85,
   "metadata": {},
   "outputs": [
    {
     "data": {
      "text/plain": [
       "' XGBOOST '"
      ]
     },
     "execution_count": 85,
     "metadata": {},
     "output_type": "execute_result"
    }
   ],
   "source": [
    "\"\"\" XGBOOST \"\"\""
   ]
  },
  {
   "cell_type": "code",
   "execution_count": 86,
   "metadata": {},
   "outputs": [],
   "source": [
    "## xgboost class for tuning parameters and returning the best model\n",
    "\n",
    "class xgboost_model():\n",
    "    \n",
    "    def __init__():\n",
    "        \"\"\" this class initializes some functions used in the xgboost pipeline \"\"\"\n",
    "    \n",
    "    # define your custom evaluation metric here\n",
    "    # currently defined: recall, precision, f1, roc-auc, weighted of recall/precision metrics\n",
    "    def f1_score(preds, dtrain):\n",
    "        labels = dtrain.get_label()\n",
    "        #y_preds = [1 if y >= 0.5 else 0 for y in preds] # binaryzing your output\n",
    "        #rscore = sklearn.metrics.recall_score(y_pred=y_preds, y_true=labels)\n",
    "        #pscore = sklearn.metrics.precision_score(y_pred=y_preds, y_true=labels)\n",
    "        #score = sklearn.metrics.f1_score(y_pred=y_preds, y_true=labels)\n",
    "        score = sklearn.metrics.roc_auc_score(y_score=preds, y_true=labels)\n",
    "        #score = (4*rscore + pscore)/5\n",
    "        return 'score', score\n",
    "    \n",
    "    # function to be minimized and sent to the optimize function of hyperopt\n",
    "    def xgb_score(params):\n",
    "        global ITERATION\n",
    "        ITERATION += 1\n",
    "        randomseed = 1\n",
    "        \n",
    "        # Make sure parameters that need to be integers are integers\n",
    "        for parameter_name in ['max_depth', 'scale_pos_weight']:\n",
    "            params[parameter_name] = int(params[parameter_name])\n",
    "                    \n",
    "        dtrain = xgb.DMatrix(data=X_train.values, feature_names=X_train.columns.values, label=y_train)\n",
    "        xgb_cv = xgb.cv(params = params, num_boost_round=1000, nfold=N_FOLDS, dtrain=dtrain, early_stopping_rounds=5,\n",
    "                       feval = xgboost_model.f1_score, maximize = True, stratified = True, verbose_eval=False) # may tune on the stratified flag\n",
    "        num_rounds = len(xgb_cv['test-score-mean'])\n",
    "        bst_score = xgb_cv['test-score-mean'][num_rounds-1]\n",
    "        #print('evaluation metric score of iteration is: ', bst_score, '\\n')\n",
    "        return {'loss': (1 - bst_score), 'status': STATUS_OK, 'params': params, 'num_boost': num_rounds, \n",
    "                'bst_score': bst_score, 'base_score': params['base_score']}\n",
    "    \n",
    "    # function to do hyperparameter tuning with hyperopt (bayesian based method)\n",
    "    def optimize(X_train, y_train):\n",
    "        # Keep track of evals\n",
    "        global ITERATION\n",
    "        ITERATION = 0\n",
    "        global trials\n",
    "        trials = Trials()\n",
    "        \n",
    "        # space to be traversed for the hyperopt function\n",
    "        space = {\n",
    "            'base_score' : hp.quniform('base_score', 0.1, 0.9, 0.01),\n",
    "             'learning_rate' : hp.uniform('learning_rate', 0.001, 0.2),\n",
    "             #'max_depth' : hp.choice('max_depth', np.arange(3, 8, dtype=int)),\n",
    "            'max_depth' : hp.quniform('max_depth', 5, 20, 1),\n",
    "             'min_child_weight' : hp.quniform('min_child_weight', 0, 5, 0.2),\n",
    "             'subsample' : hp.quniform('subsample', 0.7, 0.85, 0.05),\n",
    "             'gamma' : hp.quniform('gamma', 0, 1, 0.1),\n",
    "            'reg_lambda' : hp.uniform ('reg_lambda', 0, 1),\n",
    "             'colsample_bytree' : hp.quniform('colsample_bytree', 0.7, 0.85, 0.05),\n",
    "            'scale_pos_weight' : hp.quniform('scale_pos_weight', 1, 5, 1),\n",
    "            'objective' : 'binary:logistic'}\n",
    "        \n",
    "        best = fmin(xgboost_model.xgb_score, space, algo=tpe.suggest, trials=trials, max_evals=MAX_EVALS,\n",
    "                    rstate=np.random.RandomState(randomseed))\n",
    "        best = trials.best_trial['result']['params']\n",
    "        num_rounds = trials.best_trial['result']['num_boost']\n",
    "        \n",
    "        return trials, best, num_rounds # results of all the iterations, the best one and the number of rounds for the best run\n",
    "    \n",
    "    # train and return a model with the best params\n",
    "    def xgb_train(best_params, num_rounds):\n",
    "        dtrain = xgb.DMatrix(data=X_train.values, feature_names=X_train.columns.values, label=y_train)\n",
    "        model = xgb.train(best_params, dtrain=dtrain, maximize=True, num_boost_round=num_rounds, feval=xgboost_model.f1_score)\n",
    "        return model\n",
    "\n",
    "    # function to input a model and test matrix to output predictions and score parameters\n",
    "    def xgb_predict(X_test, y_test, model, trials, mode = \"validate\", threshold = 0.2):\n",
    "        dtest = xgb.DMatrix(data=X_test, feature_names=X_test.columns.values)\n",
    "        pred = model.predict(dtest)\n",
    "        #predict = np.where(pred > trials.best_trial['result']['base_score'], 1, 0)\n",
    "        predict = np.where(pred > threshold, 1, 0)\n",
    "        \n",
    "        if mode == \"validate\":\n",
    "            recall_score = sklearn.metrics.recall_score(y_pred=predict, y_true=y_test)\n",
    "            precision_score = sklearn.metrics.precision_score(y_pred=predict, y_true=y_test)\n",
    "            f1_score = sklearn.metrics.f1_score(y_pred=predict, y_true=y_test)\n",
    "            auc_score = roc_auc_score(y_test, pred)\n",
    "            tn, fp, fn, tp = sklearn.metrics.confusion_matrix(y_pred=predict, y_true=y_test).ravel()\n",
    "            print(sklearn.metrics.confusion_matrix(y_pred=predict, y_true=y_test), '\\n')\n",
    "            print('recall score is: ', recall_score)\n",
    "            print('precision score is: ', precision_score)\n",
    "            print('f1_score is: ', f1_score)\n",
    "            print('accuracy score: ', sklearn.metrics.accuracy_score(y_true=y_test, y_pred=predict))\n",
    "            print('The final AUC after taking the best params and num_rounds when it stopped is {:.4f}.'.format(auc_score), '\\n')\n",
    "            return pred, predict, tn, fp, fn, tp\n",
    "        else:\n",
    "            return pred\n",
    "        \n",
    "    # function to return cv results for train dataset (recall/precision/f1/accuracy)\n",
    "    def xgb_cv(X_train, y_train, best_params):\n",
    "        model = xgb.XGBClassifier(**best, silent=True)\n",
    "        xgb_cv_scores = sklearn.model_selection.cross_val_predict(model, X_train, y_train, cv=5)\n",
    "        print('recall: ', sklearn.metrics.recall_score(y_pred=xgb_cv_scores, y_true=y_train))\n",
    "        print('precision: ', sklearn.metrics.precision_score(y_pred=xgb_cv_scores, y_true=y_train))\n",
    "        print('f1: ', sklearn.metrics.f1_score(y_pred=xgb_cv_scores, y_true=y_train))\n",
    "        print('accuracy: ', sklearn.metrics.accuracy_score(y_pred=xgb_cv_scores, y_true=y_train))"
   ]
  },
  {
   "cell_type": "code",
   "execution_count": 87,
   "metadata": {
    "scrolled": true
   },
   "outputs": [
    {
     "name": "stdout",
     "output_type": "stream",
     "text": [
      "best score was:  0.9981142000000001 \n",
      "\n"
     ]
    }
   ],
   "source": [
    "\"\"\" calling the model creation functions to return the trials (results object) and the best parameters.\n",
    "the best parameters are used to train the model and the predicted results are returned with the .xgb_predict call \"\"\"\n",
    "\n",
    "# return the trials and best parameters\n",
    "trials, best, num_rounds = xgboost_model.optimize(X_train=X_train, y_train=y_train)\n",
    "print('best score was: ', 1 - trials.average_best_error(), '\\n')\n",
    "#print(trials.best_trial['result']['bst_score'])\n",
    "\n",
    "# return the model object trained with the best parameters\n",
    "model = xgboost_model.xgb_train(best, num_rounds)\n",
    "\n",
    "# uncomment below line if you went ahead with the train/test split approach over the CV based approach\n",
    "#pred, predict, tn, fp, fn, tp = xgboost_model.xgb_predict(X_test=X_test, model=model, y_test=y_test, mode='validate', trials=trials)"
   ]
  },
  {
   "cell_type": "code",
   "execution_count": 88,
   "metadata": {},
   "outputs": [
    {
     "name": "stderr",
     "output_type": "stream",
     "text": [
      "C:\\Users\\Lenovo\\Anaconda3\\lib\\site-packages\\sklearn\\preprocessing\\label.py:151: DeprecationWarning: The truth value of an empty array is ambiguous. Returning False, but in future this will result in an error. Use `array.size > 0` to check that an array is not empty.\n",
      "  if diff:\n",
      "C:\\Users\\Lenovo\\Anaconda3\\lib\\site-packages\\sklearn\\preprocessing\\label.py:151: DeprecationWarning: The truth value of an empty array is ambiguous. Returning False, but in future this will result in an error. Use `array.size > 0` to check that an array is not empty.\n",
      "  if diff:\n",
      "C:\\Users\\Lenovo\\Anaconda3\\lib\\site-packages\\sklearn\\preprocessing\\label.py:151: DeprecationWarning: The truth value of an empty array is ambiguous. Returning False, but in future this will result in an error. Use `array.size > 0` to check that an array is not empty.\n",
      "  if diff:\n",
      "C:\\Users\\Lenovo\\Anaconda3\\lib\\site-packages\\sklearn\\preprocessing\\label.py:151: DeprecationWarning: The truth value of an empty array is ambiguous. Returning False, but in future this will result in an error. Use `array.size > 0` to check that an array is not empty.\n",
      "  if diff:\n",
      "C:\\Users\\Lenovo\\Anaconda3\\lib\\site-packages\\sklearn\\preprocessing\\label.py:151: DeprecationWarning: The truth value of an empty array is ambiguous. Returning False, but in future this will result in an error. Use `array.size > 0` to check that an array is not empty.\n",
      "  if diff:\n"
     ]
    },
    {
     "name": "stdout",
     "output_type": "stream",
     "text": [
      "recall:  0.9752800308999614\n",
      "precision:  0.7662350799109853\n",
      "f1:  0.8582110689401234\n",
      "accuracy:  0.8678248930664836\n"
     ]
    }
   ],
   "source": [
    "# cv results\n",
    "xgboost_model.xgb_cv(X_train, y_train, best)"
   ]
  },
  {
   "cell_type": "code",
   "execution_count": 94,
   "metadata": {},
   "outputs": [
    {
     "name": "stdout",
     "output_type": "stream",
     "text": [
      "[[2930 2523]\n",
      " [ 102  179]] \n",
      "\n",
      "recall score is:  0.6370106761565836\n",
      "precision score is:  0.06624722427831237\n",
      "f1_score is:  0.12001340931947703\n",
      "accuracy score:  0.5422043948378096\n",
      "The final AUC after taking the best params and num_rounds when it stopped is 0.6172. \n",
      "\n"
     ]
    }
   ],
   "source": [
    "xgb_pred, xgb_predict, tn, fp, fn, tp = xgboost_model.xgb_predict(X_test=X_valid, model=model, y_test=y_valid, mode='validate',\n",
    "                                                                  trials=trials, threshold = 0.04)"
   ]
  },
  {
   "cell_type": "code",
   "execution_count": 69,
   "metadata": {},
   "outputs": [],
   "source": [
    "# xgb_pred, xgb_predict\n",
    "valid_dfs = pd.read_csv('valid_dfs.csv')\n",
    "TO_file = pd.read_excel('JUNE18_TURNOVER.xlsx')\n",
    "TO_file = TO_file[['Global ID', 'Termination Month']]\n",
    "TO_file.columns = ['original_id', 'term_month']\n",
    "\n",
    "pred_df = pd.DataFrame(xgb_pred)\n",
    "p = pd.concat([pred_df.reset_index(drop=True), pd.DataFrame(xgb_predict)], axis=1)\n",
    "p.columns = ['prob', 'predict']\n",
    "\n",
    "p['decile'] = pd.qcut(x=p['prob'], q=10, labels=False)\n",
    "p = pd.concat([p.reset_index(drop=True), valid_dfs], axis=1)\n",
    "\n",
    "p = pd.merge(p, TO_file, how='left')\n",
    "#p=p[p['label'] == 1]\n",
    "\n",
    "p.to_csv('p.csv', index=False)"
   ]
  },
  {
   "cell_type": "code",
   "execution_count": 60,
   "metadata": {},
   "outputs": [
    {
     "name": "stdout",
     "output_type": "stream",
     "text": [
      "true negatives:  2356\n",
      "false positives:  3097\n",
      "false negatives:  72\n",
      "true positives:  209\n"
     ]
    }
   ],
   "source": [
    "print('true negatives: ', tn)\n",
    "print('false positives: ', fp)\n",
    "print('false negatives: ', fn)\n",
    "print('true positives: ', tp)"
   ]
  },
  {
   "cell_type": "code",
   "execution_count": null,
   "metadata": {},
   "outputs": [],
   "source": [
    "p, r, thresholds = metrics.precision_recall_curve(y_true=y_valid, probas_pred=xgb_pred)\n",
    "\n",
    "def plot_precision_recall_vs_threshold(precisions, recalls, thresholds):\n",
    "    \"\"\"\n",
    "    Modified from:\n",
    "    Hands-On Machine learning with Scikit-Learn\n",
    "    and TensorFlow; p.89\n",
    "    \"\"\"\n",
    "    plt.figure(figsize=(8, 8))\n",
    "    plt.title(\"Precision and Recall Scores as a function of the decision threshold\")\n",
    "    plt.plot(thresholds, precisions[:-1], \"b--\", label=\"Precision\")\n",
    "    plt.plot(thresholds, recalls[:-1], \"g-\", label=\"Recall\")\n",
    "    plt.ylabel(\"Score\")\n",
    "    plt.xlabel(\"Decision Threshold\")\n",
    "    plt.legend(loc='best')\n",
    "    \n",
    "plot_precision_recall_vs_threshold(p, r, thresholds)"
   ]
  },
  {
   "cell_type": "code",
   "execution_count": 70,
   "metadata": {},
   "outputs": [],
   "source": [
    "import pickle\n",
    "\n",
    "pickle.dump(model, open(\"xgb_june17.pickle.dat\", \"wb\"))\n",
    "#loaded_model = pickle.load(open(\"xgb_june17.pickle.dat\", \"rb\"))"
   ]
  },
  {
   "cell_type": "code",
   "execution_count": 27,
   "metadata": {
    "scrolled": true
   },
   "outputs": [
    {
     "data": {
      "text/plain": [
       "<matplotlib.axes._subplots.AxesSubplot at 0x16601515fd0>"
      ]
     },
     "execution_count": 27,
     "metadata": {},
     "output_type": "execute_result"
    },
    {
     "data": {
      "image/png": "[encoded data removed]",
      "text/plain": [
       "<Figure size 432x288 with 1 Axes>"
      ]
     },
     "metadata": {},
     "output_type": "display_data"
    }
   ],
   "source": [
    "## important features from the best model above\n",
    "\n",
    "xgb.plot_importance(booster=model, max_num_features=20, show_values=False)"
   ]
  },
  {
   "cell_type": "code",
   "execution_count": 21,
   "metadata": {},
   "outputs": [
    {
     "data": {
      "text/plain": [
       "' LIGHTGBM '"
      ]
     },
     "execution_count": 21,
     "metadata": {},
     "output_type": "execute_result"
    }
   ],
   "source": [
    "\"\"\" LIGHTGBM \"\"\""
   ]
  },
  {
   "cell_type": "code",
   "execution_count": 139,
   "metadata": {},
   "outputs": [],
   "source": [
    "# lightgbm class for tuning\n",
    "\n",
    "class lightgbm_model():\n",
    "    \n",
    "    def __init__():\n",
    "        \"\"\" this class initializes some functions used in the lightgbm pipeline \"\"\"\n",
    "    \n",
    "    def score(preds, train_set):\n",
    "        labels = train_set.get_label()\n",
    "        y_preds = [1 if y >= 0.5 else 0 for y in preds] # binaryzing your output\n",
    "\n",
    "        rscore = sklearn.metrics.recall_score(y_pred=y_preds, y_true=labels)\n",
    "        pscore = sklearn.metrics.precision_score(y_pred=y_preds, y_true=labels)\n",
    "        #score = sklearn.metrics.f1_score(y_pred=y_preds, y_true=labels)\n",
    "        #score = sklearn.metrics.roc_auc_score(y_score=y_preds, y_true=labels)\n",
    "        score = (4*rscore + pscore)/5\n",
    "        \n",
    "        return 'score', score, True\n",
    "    \n",
    "    def lgbm_score(params):        \n",
    "        global ITERATION\n",
    "        ITERATION += 1\n",
    "        \n",
    "        # Retrieve the subsample if present otherwise set to 1.0\n",
    "        subsample = params['boosting_type'].get('subsample', 1.0)\n",
    "        # Extract the boosting type\n",
    "        params['boosting_type'] = params['boosting_type']['boosting_type']\n",
    "        params['subsample'] = subsample\n",
    "\n",
    "        # Make sure parameters that need to be integers are integers\n",
    "        for parameter_name in ['num_leaves', 'subsample_for_bin', 'min_child_samples']:\n",
    "            params[parameter_name] = int(params[parameter_name])\n",
    "        \n",
    "        start = timer()\n",
    "        # Perform n_folds cross validation\n",
    "        cv_results = lgb.cv(params, train_set, num_boost_round = 1000, nfold = N_FOLDS, \n",
    "                            early_stopping_rounds = 10, feval = lightgbm_model.score, seed = randomseed)\n",
    "        run_time = timer() - start\n",
    "        \n",
    "        # Extract the best score\n",
    "        best_score = np.max(cv_results['score-mean'])\n",
    "        \n",
    "        # Loss must be minimized\n",
    "        loss = 1 - best_score\n",
    "\n",
    "        # Boosting rounds that returned the highest cv score\n",
    "        n_estimators = int(np.argmax(cv_results['score-mean']) + 1)\n",
    "\n",
    "        # Dictionary with information for evaluation\n",
    "        return {'loss': loss, 'params': params, 'iteration': ITERATION,\n",
    "                'estimators': n_estimators, \n",
    "                'train_time': run_time, 'status': STATUS_OK}\n",
    "    \n",
    "    def optimize():\n",
    "        # Keep track of evals\n",
    "        global ITERATION\n",
    "        ITERATION = 0\n",
    "        global trials\n",
    "        trials = Trials()\n",
    "        \n",
    "        space = {\n",
    "            'boosting_type': hp.choice('boosting_type', [{'boosting_type': 'gbdt', 'subsample': hp.uniform('gdbt_subsample', 0.75, 0.9)}, \n",
    "                                                         {'boosting_type': 'dart', 'subsample': hp.uniform('dart_subsample', 0.75, 0.9)},\n",
    "                                                         {'boosting_type': 'goss', 'subsample': 1.0}]),\n",
    "            'num_leaves': hp.quniform('num_leaves', 100, 1000, 50),\n",
    "            'learning_rate': hp.loguniform('learning_rate', np.log(0.01), np.log(0.2)),\n",
    "            'subsample_for_bin': hp.quniform('subsample_for_bin', 30000, 300000, 20000),\n",
    "            'min_child_samples': hp.quniform('min_child_samples', 1, 3, 1),\n",
    "            'reg_alpha': hp.uniform('reg_alpha', 0.0, 1.0),\n",
    "            'reg_lambda': hp.uniform('reg_lambda', 0.0, 1.0),\n",
    "            'subsample': hp.uniform('subsample', 0.7, 0.9),\n",
    "            'colsample_bytree': hp.uniform('colsample_by_tree', 0.6, 0.8),\n",
    "            'scale_pos_weight': hp.quniform('scale_pos_weight', 1, 3, 1),\n",
    "            'objective': 'binary'\n",
    "        }\n",
    "        \n",
    "        # Run optimization\n",
    "        best = fmin(fn = lightgbm_model.lgbm_score, space = space, algo = tpe.suggest, \n",
    "            max_evals = MAX_EVALS, trials = trials, rstate = np.random.RandomState(randomseed))\n",
    "        best = trials.best_trial['result']['params']\n",
    "        nestimators = trials.best_trial['result']['estimators']\n",
    "        return best, trials, nestimators\n",
    "    \n",
    "    def lgbm_train(best_params, nestimators):\n",
    "        train_set = lgb.Dataset(X_train, label = y_train)\n",
    "        #model = lgb.LGBMClassifier(silent = False, random_state = randomseed, objective = 'binary', n_estimators=nestimators)\n",
    "        model = lgb.train(best_params, train_set=train_set, num_boost_round=nestimators, feval=lightgbm_model.score)\n",
    "        #model.set_params(**best_params)\n",
    "        #model.fit(X_train, y_train, eval_metric = \"auc\")\n",
    "        return model\n",
    "    \n",
    "    def lgbm_predict(X_test, y_test, model, mode = \"validate\"):\n",
    "        #test_set = lgb.Dataset(X_test.values, feature_name=X_test.columns.values, label=y_test)\n",
    "        pred = model.predict(X_test)\n",
    "        predict = np.where(pred > 0.044, 1, 0)\n",
    "        \n",
    "        if mode == \"validate\":\n",
    "            recall_score = sklearn.metrics.recall_score(y_pred=predict, y_true=y_test)\n",
    "            precision_score = sklearn.metrics.precision_score(y_pred=predict, y_true=y_test)\n",
    "            f1_score = sklearn.metrics.f1_score(y_pred=predict, y_true=y_test)\n",
    "            auc_score = roc_auc_score(y_test, pred)\n",
    "            tn, fp, fn, tp = sklearn.metrics.confusion_matrix(y_pred=predict, y_true=y_test).ravel()\n",
    "            print(sklearn.metrics.confusion_matrix(y_pred=predict, y_true=y_test), '\\n')\n",
    "            print('recall score is: ', recall_score)\n",
    "            print('precision score is: ', precision_score)\n",
    "            print('f1_score is: ', f1_score)\n",
    "            print('accuracy score: ', sklearn.metrics.accuracy_score(y_true=y_test, y_pred=predict))\n",
    "            print('The final AUC after taking the best params and num_rounds when it stopped is {:.4f}.'.format(auc_score), '\\n')\n",
    "            return pred, predict, tn, fp, fn, tp\n",
    "        else:\n",
    "            return pred\n",
    "        \n",
    "    def lgbm_cv(X_train, y_train, best):\n",
    "        model = lgb.LGBMClassifier(**best, silent=True)\n",
    "        lgb_cv_scores = sklearn.model_selection.cross_val_predict(model, X_train, y_train, cv=5)\n",
    "        print('recall: ', sklearn.metrics.recall_score(y_pred=lgb_cv_scores, y_true=y_train))\n",
    "        print('precision: ', sklearn.metrics.precision_score(y_pred=lgb_cv_scores, y_true=y_train))\n",
    "        print('f1: ', sklearn.metrics.f1_score(y_pred=lgb_cv_scores, y_true=y_train))\n",
    "        print('accuracy: ', sklearn.metrics.accuracy_score(y_pred=lgb_cv_scores, y_true=y_train))"
   ]
  },
  {
   "cell_type": "code",
   "execution_count": 140,
   "metadata": {},
   "outputs": [],
   "source": [
    "# Create a lgb dataset\n",
    "train_set = lgb.Dataset(X_train, label = y_train)"
   ]
  },
  {
   "cell_type": "code",
   "execution_count": 141,
   "metadata": {},
   "outputs": [
    {
     "name": "stderr",
     "output_type": "stream",
     "text": [
      "C:\\Users\\Lenovo\\Anaconda3\\lib\\site-packages\\sklearn\\metrics\\classification.py:1135: UndefinedMetricWarning: Precision is ill-defined and being set to 0.0 due to no predicted samples.\n",
      "  'precision', 'predicted', average, warn_for)\n"
     ]
    },
    {
     "ename": "KeyboardInterrupt",
     "evalue": "",
     "output_type": "error",
     "traceback": [
      "\u001b[1;31m---------------------------------------------------------------------------\u001b[0m",
      "\u001b[1;31mKeyboardInterrupt\u001b[0m                         Traceback (most recent call last)",
      "\u001b[1;32m<ipython-input-141-0249760ef351>\u001b[0m in \u001b[0;36m<module>\u001b[1;34m()\u001b[0m\n\u001b[0;32m      1\u001b[0m \u001b[1;31m# calling the lightgbm function and best model\u001b[0m\u001b[1;33m\u001b[0m\u001b[1;33m\u001b[0m\u001b[0m\n\u001b[1;32m----> 2\u001b[1;33m \u001b[0mbest\u001b[0m\u001b[1;33m,\u001b[0m \u001b[0mtrials\u001b[0m\u001b[1;33m,\u001b[0m \u001b[0mnestimators\u001b[0m \u001b[1;33m=\u001b[0m \u001b[0mlightgbm_model\u001b[0m\u001b[1;33m.\u001b[0m\u001b[0moptimize\u001b[0m\u001b[1;33m(\u001b[0m\u001b[1;33m)\u001b[0m\u001b[1;33m\u001b[0m\u001b[0m\n\u001b[0m\u001b[0;32m      3\u001b[0m \u001b[0mprint\u001b[0m\u001b[1;33m(\u001b[0m\u001b[1;36m1\u001b[0m \u001b[1;33m-\u001b[0m \u001b[0mtrials\u001b[0m\u001b[1;33m.\u001b[0m\u001b[0maverage_best_error\u001b[0m\u001b[1;33m(\u001b[0m\u001b[1;33m)\u001b[0m\u001b[1;33m,\u001b[0m \u001b[1;34m'\\n'\u001b[0m\u001b[1;33m)\u001b[0m\u001b[1;33m\u001b[0m\u001b[0m\n\u001b[0;32m      4\u001b[0m \u001b[1;33m\u001b[0m\u001b[0m\n\u001b[0;32m      5\u001b[0m \u001b[0mmodel\u001b[0m \u001b[1;33m=\u001b[0m \u001b[0mlightgbm_model\u001b[0m\u001b[1;33m.\u001b[0m\u001b[0mlgbm_train\u001b[0m\u001b[1;33m(\u001b[0m\u001b[0mbest\u001b[0m\u001b[1;33m,\u001b[0m \u001b[0mnestimators\u001b[0m\u001b[1;33m)\u001b[0m\u001b[1;33m\u001b[0m\u001b[0m\n",
      "\u001b[1;32m<ipython-input-139-810f962d5410>\u001b[0m in \u001b[0;36moptimize\u001b[1;34m()\u001b[0m\n\u001b[0;32m     77\u001b[0m         \u001b[1;31m# Run optimization\u001b[0m\u001b[1;33m\u001b[0m\u001b[1;33m\u001b[0m\u001b[0m\n\u001b[0;32m     78\u001b[0m         best = fmin(fn = lightgbm_model.lgbm_score, space = space, algo = tpe.suggest, \n\u001b[1;32m---> 79\u001b[1;33m             max_evals = MAX_EVALS, trials = trials, rstate = np.random.RandomState(randomseed))\n\u001b[0m\u001b[0;32m     80\u001b[0m         \u001b[0mbest\u001b[0m \u001b[1;33m=\u001b[0m \u001b[0mtrials\u001b[0m\u001b[1;33m.\u001b[0m\u001b[0mbest_trial\u001b[0m\u001b[1;33m[\u001b[0m\u001b[1;34m'result'\u001b[0m\u001b[1;33m]\u001b[0m\u001b[1;33m[\u001b[0m\u001b[1;34m'params'\u001b[0m\u001b[1;33m]\u001b[0m\u001b[1;33m\u001b[0m\u001b[0m\n\u001b[0;32m     81\u001b[0m         \u001b[0mnestimators\u001b[0m \u001b[1;33m=\u001b[0m \u001b[0mtrials\u001b[0m\u001b[1;33m.\u001b[0m\u001b[0mbest_trial\u001b[0m\u001b[1;33m[\u001b[0m\u001b[1;34m'result'\u001b[0m\u001b[1;33m]\u001b[0m\u001b[1;33m[\u001b[0m\u001b[1;34m'estimators'\u001b[0m\u001b[1;33m]\u001b[0m\u001b[1;33m\u001b[0m\u001b[0m\n",
      "\u001b[1;32m~\\Anaconda3\\lib\\site-packages\\hyperopt\\fmin.py\u001b[0m in \u001b[0;36mfmin\u001b[1;34m(fn, space, algo, max_evals, trials, rstate, allow_trials_fmin, pass_expr_memo_ctrl, catch_eval_exceptions, verbose, return_argmin)\u001b[0m\n\u001b[0;32m    305\u001b[0m             \u001b[0mverbose\u001b[0m\u001b[1;33m=\u001b[0m\u001b[0mverbose\u001b[0m\u001b[1;33m,\u001b[0m\u001b[1;33m\u001b[0m\u001b[0m\n\u001b[0;32m    306\u001b[0m             \u001b[0mcatch_eval_exceptions\u001b[0m\u001b[1;33m=\u001b[0m\u001b[0mcatch_eval_exceptions\u001b[0m\u001b[1;33m,\u001b[0m\u001b[1;33m\u001b[0m\u001b[0m\n\u001b[1;32m--> 307\u001b[1;33m             \u001b[0mreturn_argmin\u001b[0m\u001b[1;33m=\u001b[0m\u001b[0mreturn_argmin\u001b[0m\u001b[1;33m,\u001b[0m\u001b[1;33m\u001b[0m\u001b[0m\n\u001b[0m\u001b[0;32m    308\u001b[0m         )\n\u001b[0;32m    309\u001b[0m \u001b[1;33m\u001b[0m\u001b[0m\n",
      "\u001b[1;32m~\\Anaconda3\\lib\\site-packages\\hyperopt\\base.py\u001b[0m in \u001b[0;36mfmin\u001b[1;34m(self, fn, space, algo, max_evals, rstate, verbose, pass_expr_memo_ctrl, catch_eval_exceptions, return_argmin)\u001b[0m\n\u001b[0;32m    633\u001b[0m             \u001b[0mpass_expr_memo_ctrl\u001b[0m\u001b[1;33m=\u001b[0m\u001b[0mpass_expr_memo_ctrl\u001b[0m\u001b[1;33m,\u001b[0m\u001b[1;33m\u001b[0m\u001b[0m\n\u001b[0;32m    634\u001b[0m             \u001b[0mcatch_eval_exceptions\u001b[0m\u001b[1;33m=\u001b[0m\u001b[0mcatch_eval_exceptions\u001b[0m\u001b[1;33m,\u001b[0m\u001b[1;33m\u001b[0m\u001b[0m\n\u001b[1;32m--> 635\u001b[1;33m             return_argmin=return_argmin)\n\u001b[0m\u001b[0;32m    636\u001b[0m \u001b[1;33m\u001b[0m\u001b[0m\n\u001b[0;32m    637\u001b[0m \u001b[1;33m\u001b[0m\u001b[0m\n",
      "\u001b[1;32m~\\Anaconda3\\lib\\site-packages\\hyperopt\\fmin.py\u001b[0m in \u001b[0;36mfmin\u001b[1;34m(fn, space, algo, max_evals, trials, rstate, allow_trials_fmin, pass_expr_memo_ctrl, catch_eval_exceptions, verbose, return_argmin)\u001b[0m\n\u001b[0;32m    318\u001b[0m                     verbose=verbose)\n\u001b[0;32m    319\u001b[0m     \u001b[0mrval\u001b[0m\u001b[1;33m.\u001b[0m\u001b[0mcatch_eval_exceptions\u001b[0m \u001b[1;33m=\u001b[0m \u001b[0mcatch_eval_exceptions\u001b[0m\u001b[1;33m\u001b[0m\u001b[0m\n\u001b[1;32m--> 320\u001b[1;33m     \u001b[0mrval\u001b[0m\u001b[1;33m.\u001b[0m\u001b[0mexhaust\u001b[0m\u001b[1;33m(\u001b[0m\u001b[1;33m)\u001b[0m\u001b[1;33m\u001b[0m\u001b[0m\n\u001b[0m\u001b[0;32m    321\u001b[0m     \u001b[1;32mif\u001b[0m \u001b[0mreturn_argmin\u001b[0m\u001b[1;33m:\u001b[0m\u001b[1;33m\u001b[0m\u001b[0m\n\u001b[0;32m    322\u001b[0m         \u001b[1;32mreturn\u001b[0m \u001b[0mtrials\u001b[0m\u001b[1;33m.\u001b[0m\u001b[0margmin\u001b[0m\u001b[1;33m\u001b[0m\u001b[0m\n",
      "\u001b[1;32m~\\Anaconda3\\lib\\site-packages\\hyperopt\\fmin.py\u001b[0m in \u001b[0;36mexhaust\u001b[1;34m(self)\u001b[0m\n\u001b[0;32m    197\u001b[0m     \u001b[1;32mdef\u001b[0m \u001b[0mexhaust\u001b[0m\u001b[1;33m(\u001b[0m\u001b[0mself\u001b[0m\u001b[1;33m)\u001b[0m\u001b[1;33m:\u001b[0m\u001b[1;33m\u001b[0m\u001b[0m\n\u001b[0;32m    198\u001b[0m         \u001b[0mn_done\u001b[0m \u001b[1;33m=\u001b[0m \u001b[0mlen\u001b[0m\u001b[1;33m(\u001b[0m\u001b[0mself\u001b[0m\u001b[1;33m.\u001b[0m\u001b[0mtrials\u001b[0m\u001b[1;33m)\u001b[0m\u001b[1;33m\u001b[0m\u001b[0m\n\u001b[1;32m--> 199\u001b[1;33m         \u001b[0mself\u001b[0m\u001b[1;33m.\u001b[0m\u001b[0mrun\u001b[0m\u001b[1;33m(\u001b[0m\u001b[0mself\u001b[0m\u001b[1;33m.\u001b[0m\u001b[0mmax_evals\u001b[0m \u001b[1;33m-\u001b[0m \u001b[0mn_done\u001b[0m\u001b[1;33m,\u001b[0m \u001b[0mblock_until_done\u001b[0m\u001b[1;33m=\u001b[0m\u001b[0mself\u001b[0m\u001b[1;33m.\u001b[0m\u001b[0masync\u001b[0m\u001b[1;33m)\u001b[0m\u001b[1;33m\u001b[0m\u001b[0m\n\u001b[0m\u001b[0;32m    200\u001b[0m         \u001b[0mself\u001b[0m\u001b[1;33m.\u001b[0m\u001b[0mtrials\u001b[0m\u001b[1;33m.\u001b[0m\u001b[0mrefresh\u001b[0m\u001b[1;33m(\u001b[0m\u001b[1;33m)\u001b[0m\u001b[1;33m\u001b[0m\u001b[0m\n\u001b[0;32m    201\u001b[0m         \u001b[1;32mreturn\u001b[0m \u001b[0mself\u001b[0m\u001b[1;33m\u001b[0m\u001b[0m\n",
      "\u001b[1;32m~\\Anaconda3\\lib\\site-packages\\hyperopt\\fmin.py\u001b[0m in \u001b[0;36mrun\u001b[1;34m(self, N, block_until_done)\u001b[0m\n\u001b[0;32m    171\u001b[0m             \u001b[1;32melse\u001b[0m\u001b[1;33m:\u001b[0m\u001b[1;33m\u001b[0m\u001b[0m\n\u001b[0;32m    172\u001b[0m                 \u001b[1;31m# -- loop over trials and do the jobs directly\u001b[0m\u001b[1;33m\u001b[0m\u001b[1;33m\u001b[0m\u001b[0m\n\u001b[1;32m--> 173\u001b[1;33m                 \u001b[0mself\u001b[0m\u001b[1;33m.\u001b[0m\u001b[0mserial_evaluate\u001b[0m\u001b[1;33m(\u001b[0m\u001b[1;33m)\u001b[0m\u001b[1;33m\u001b[0m\u001b[0m\n\u001b[0m\u001b[0;32m    174\u001b[0m \u001b[1;33m\u001b[0m\u001b[0m\n\u001b[0;32m    175\u001b[0m             \u001b[1;32mif\u001b[0m \u001b[0mstopped\u001b[0m\u001b[1;33m:\u001b[0m\u001b[1;33m\u001b[0m\u001b[0m\n",
      "\u001b[1;32m~\\Anaconda3\\lib\\site-packages\\hyperopt\\fmin.py\u001b[0m in \u001b[0;36mserial_evaluate\u001b[1;34m(self, N)\u001b[0m\n\u001b[0;32m     90\u001b[0m                 \u001b[0mctrl\u001b[0m \u001b[1;33m=\u001b[0m \u001b[0mbase\u001b[0m\u001b[1;33m.\u001b[0m\u001b[0mCtrl\u001b[0m\u001b[1;33m(\u001b[0m\u001b[0mself\u001b[0m\u001b[1;33m.\u001b[0m\u001b[0mtrials\u001b[0m\u001b[1;33m,\u001b[0m \u001b[0mcurrent_trial\u001b[0m\u001b[1;33m=\u001b[0m\u001b[0mtrial\u001b[0m\u001b[1;33m)\u001b[0m\u001b[1;33m\u001b[0m\u001b[0m\n\u001b[0;32m     91\u001b[0m                 \u001b[1;32mtry\u001b[0m\u001b[1;33m:\u001b[0m\u001b[1;33m\u001b[0m\u001b[0m\n\u001b[1;32m---> 92\u001b[1;33m                     \u001b[0mresult\u001b[0m \u001b[1;33m=\u001b[0m \u001b[0mself\u001b[0m\u001b[1;33m.\u001b[0m\u001b[0mdomain\u001b[0m\u001b[1;33m.\u001b[0m\u001b[0mevaluate\u001b[0m\u001b[1;33m(\u001b[0m\u001b[0mspec\u001b[0m\u001b[1;33m,\u001b[0m \u001b[0mctrl\u001b[0m\u001b[1;33m)\u001b[0m\u001b[1;33m\u001b[0m\u001b[0m\n\u001b[0m\u001b[0;32m     93\u001b[0m                 \u001b[1;32mexcept\u001b[0m \u001b[0mException\u001b[0m \u001b[1;32mas\u001b[0m \u001b[0me\u001b[0m\u001b[1;33m:\u001b[0m\u001b[1;33m\u001b[0m\u001b[0m\n\u001b[0;32m     94\u001b[0m                     \u001b[0mlogger\u001b[0m\u001b[1;33m.\u001b[0m\u001b[0minfo\u001b[0m\u001b[1;33m(\u001b[0m\u001b[1;34m'job exception: %s'\u001b[0m \u001b[1;33m%\u001b[0m \u001b[0mstr\u001b[0m\u001b[1;33m(\u001b[0m\u001b[0me\u001b[0m\u001b[1;33m)\u001b[0m\u001b[1;33m)\u001b[0m\u001b[1;33m\u001b[0m\u001b[0m\n",
      "\u001b[1;32m~\\Anaconda3\\lib\\site-packages\\hyperopt\\base.py\u001b[0m in \u001b[0;36mevaluate\u001b[1;34m(self, config, ctrl, attach_attachments)\u001b[0m\n\u001b[0;32m    838\u001b[0m                 \u001b[0mmemo\u001b[0m\u001b[1;33m=\u001b[0m\u001b[0mmemo\u001b[0m\u001b[1;33m,\u001b[0m\u001b[1;33m\u001b[0m\u001b[0m\n\u001b[0;32m    839\u001b[0m                 print_node_on_error=self.rec_eval_print_node_on_error)\n\u001b[1;32m--> 840\u001b[1;33m             \u001b[0mrval\u001b[0m \u001b[1;33m=\u001b[0m \u001b[0mself\u001b[0m\u001b[1;33m.\u001b[0m\u001b[0mfn\u001b[0m\u001b[1;33m(\u001b[0m\u001b[0mpyll_rval\u001b[0m\u001b[1;33m)\u001b[0m\u001b[1;33m\u001b[0m\u001b[0m\n\u001b[0m\u001b[0;32m    841\u001b[0m \u001b[1;33m\u001b[0m\u001b[0m\n\u001b[0;32m    842\u001b[0m         \u001b[1;32mif\u001b[0m \u001b[0misinstance\u001b[0m\u001b[1;33m(\u001b[0m\u001b[0mrval\u001b[0m\u001b[1;33m,\u001b[0m \u001b[1;33m(\u001b[0m\u001b[0mfloat\u001b[0m\u001b[1;33m,\u001b[0m \u001b[0mint\u001b[0m\u001b[1;33m,\u001b[0m \u001b[0mnp\u001b[0m\u001b[1;33m.\u001b[0m\u001b[0mnumber\u001b[0m\u001b[1;33m)\u001b[0m\u001b[1;33m)\u001b[0m\u001b[1;33m:\u001b[0m\u001b[1;33m\u001b[0m\u001b[0m\n",
      "\u001b[1;32m<ipython-input-139-810f962d5410>\u001b[0m in \u001b[0;36mlgbm_score\u001b[1;34m(params)\u001b[0m\n\u001b[0;32m     35\u001b[0m         \u001b[1;31m# Perform n_folds cross validation\u001b[0m\u001b[1;33m\u001b[0m\u001b[1;33m\u001b[0m\u001b[0m\n\u001b[0;32m     36\u001b[0m         cv_results = lgb.cv(params, train_set, num_boost_round = 1000, nfold = N_FOLDS, \n\u001b[1;32m---> 37\u001b[1;33m                             early_stopping_rounds = 10, feval = lightgbm_model.score, seed = randomseed)\n\u001b[0m\u001b[0;32m     38\u001b[0m         \u001b[0mrun_time\u001b[0m \u001b[1;33m=\u001b[0m \u001b[0mtimer\u001b[0m\u001b[1;33m(\u001b[0m\u001b[1;33m)\u001b[0m \u001b[1;33m-\u001b[0m \u001b[0mstart\u001b[0m\u001b[1;33m\u001b[0m\u001b[0m\n\u001b[0;32m     39\u001b[0m \u001b[1;33m\u001b[0m\u001b[0m\n",
      "\u001b[1;32m~\\Anaconda3\\lib\\site-packages\\lightgbm\\engine.py\u001b[0m in \u001b[0;36mcv\u001b[1;34m(params, train_set, num_boost_round, folds, nfold, stratified, shuffle, metrics, fobj, feval, init_model, feature_name, categorical_feature, early_stopping_rounds, fpreproc, verbose_eval, show_stdv, seed, callbacks)\u001b[0m\n\u001b[0;32m    449\u001b[0m                                     \u001b[0mend_iteration\u001b[0m\u001b[1;33m=\u001b[0m\u001b[0mnum_boost_round\u001b[0m\u001b[1;33m,\u001b[0m\u001b[1;33m\u001b[0m\u001b[0m\n\u001b[0;32m    450\u001b[0m                                     evaluation_result_list=None))\n\u001b[1;32m--> 451\u001b[1;33m         \u001b[0mcvfolds\u001b[0m\u001b[1;33m.\u001b[0m\u001b[0mupdate\u001b[0m\u001b[1;33m(\u001b[0m\u001b[0mfobj\u001b[0m\u001b[1;33m=\u001b[0m\u001b[0mfobj\u001b[0m\u001b[1;33m)\u001b[0m\u001b[1;33m\u001b[0m\u001b[0m\n\u001b[0m\u001b[0;32m    452\u001b[0m         \u001b[0mres\u001b[0m \u001b[1;33m=\u001b[0m \u001b[0m_agg_cv_result\u001b[0m\u001b[1;33m(\u001b[0m\u001b[0mcvfolds\u001b[0m\u001b[1;33m.\u001b[0m\u001b[0meval_valid\u001b[0m\u001b[1;33m(\u001b[0m\u001b[0mfeval\u001b[0m\u001b[1;33m)\u001b[0m\u001b[1;33m)\u001b[0m\u001b[1;33m\u001b[0m\u001b[0m\n\u001b[0;32m    453\u001b[0m         \u001b[1;32mfor\u001b[0m \u001b[0m_\u001b[0m\u001b[1;33m,\u001b[0m \u001b[0mkey\u001b[0m\u001b[1;33m,\u001b[0m \u001b[0mmean\u001b[0m\u001b[1;33m,\u001b[0m \u001b[0m_\u001b[0m\u001b[1;33m,\u001b[0m \u001b[0mstd\u001b[0m \u001b[1;32min\u001b[0m \u001b[0mres\u001b[0m\u001b[1;33m:\u001b[0m\u001b[1;33m\u001b[0m\u001b[0m\n",
      "\u001b[1;32m~\\Anaconda3\\lib\\site-packages\\lightgbm\\engine.py\u001b[0m in \u001b[0;36mhandlerFunction\u001b[1;34m(*args, **kwargs)\u001b[0m\n\u001b[0;32m    247\u001b[0m             \u001b[0mret\u001b[0m \u001b[1;33m=\u001b[0m \u001b[1;33m[\u001b[0m\u001b[1;33m]\u001b[0m\u001b[1;33m\u001b[0m\u001b[0m\n\u001b[0;32m    248\u001b[0m             \u001b[1;32mfor\u001b[0m \u001b[0mbooster\u001b[0m \u001b[1;32min\u001b[0m \u001b[0mself\u001b[0m\u001b[1;33m.\u001b[0m\u001b[0mboosters\u001b[0m\u001b[1;33m:\u001b[0m\u001b[1;33m\u001b[0m\u001b[0m\n\u001b[1;32m--> 249\u001b[1;33m                 \u001b[0mret\u001b[0m\u001b[1;33m.\u001b[0m\u001b[0mappend\u001b[0m\u001b[1;33m(\u001b[0m\u001b[0mgetattr\u001b[0m\u001b[1;33m(\u001b[0m\u001b[0mbooster\u001b[0m\u001b[1;33m,\u001b[0m \u001b[0mname\u001b[0m\u001b[1;33m)\u001b[0m\u001b[1;33m(\u001b[0m\u001b[1;33m*\u001b[0m\u001b[0margs\u001b[0m\u001b[1;33m,\u001b[0m \u001b[1;33m**\u001b[0m\u001b[0mkwargs\u001b[0m\u001b[1;33m)\u001b[0m\u001b[1;33m)\u001b[0m\u001b[1;33m\u001b[0m\u001b[0m\n\u001b[0m\u001b[0;32m    250\u001b[0m             \u001b[1;32mreturn\u001b[0m \u001b[0mret\u001b[0m\u001b[1;33m\u001b[0m\u001b[0m\n\u001b[0;32m    251\u001b[0m         \u001b[1;32mreturn\u001b[0m \u001b[0mhandlerFunction\u001b[0m\u001b[1;33m\u001b[0m\u001b[0m\n",
      "\u001b[1;32m~\\Anaconda3\\lib\\site-packages\\lightgbm\\basic.py\u001b[0m in \u001b[0;36mupdate\u001b[1;34m(self, train_set, fobj)\u001b[0m\n\u001b[0;32m   1526\u001b[0m             _safe_call(_LIB.LGBM_BoosterUpdateOneIter(\n\u001b[0;32m   1527\u001b[0m                 \u001b[0mself\u001b[0m\u001b[1;33m.\u001b[0m\u001b[0mhandle\u001b[0m\u001b[1;33m,\u001b[0m\u001b[1;33m\u001b[0m\u001b[0m\n\u001b[1;32m-> 1528\u001b[1;33m                 ctypes.byref(is_finished)))\n\u001b[0m\u001b[0;32m   1529\u001b[0m             \u001b[0mself\u001b[0m\u001b[1;33m.\u001b[0m\u001b[0m__is_predicted_cur_iter\u001b[0m \u001b[1;33m=\u001b[0m \u001b[1;33m[\u001b[0m\u001b[1;32mFalse\u001b[0m \u001b[1;32mfor\u001b[0m \u001b[0m_\u001b[0m \u001b[1;32min\u001b[0m \u001b[0mrange_\u001b[0m\u001b[1;33m(\u001b[0m\u001b[0mself\u001b[0m\u001b[1;33m.\u001b[0m\u001b[0m__num_dataset\u001b[0m\u001b[1;33m)\u001b[0m\u001b[1;33m]\u001b[0m\u001b[1;33m\u001b[0m\u001b[0m\n\u001b[0;32m   1530\u001b[0m             \u001b[1;32mreturn\u001b[0m \u001b[0mis_finished\u001b[0m\u001b[1;33m.\u001b[0m\u001b[0mvalue\u001b[0m \u001b[1;33m==\u001b[0m \u001b[1;36m1\u001b[0m\u001b[1;33m\u001b[0m\u001b[0m\n",
      "\u001b[1;31mKeyboardInterrupt\u001b[0m: "
     ]
    }
   ],
   "source": [
    "# calling the lightgbm function and best model\n",
    "best, trials, nestimators = lightgbm_model.optimize()\n",
    "print(1 - trials.average_best_error(), '\\n')\n",
    "\n",
    "model = lightgbm_model.lgbm_train(best, nestimators)"
   ]
  },
  {
   "cell_type": "code",
   "execution_count": null,
   "metadata": {},
   "outputs": [],
   "source": [
    "# cv results\n",
    "lightgbm_model.lgbm_cv(X_train, y_train, best)"
   ]
  },
  {
   "cell_type": "code",
   "execution_count": null,
   "metadata": {},
   "outputs": [],
   "source": [
    "# using lightgbm model on the validation set\n",
    "lgb_pred, lgb_predict, tn, fp, fn, tp = lightgbm_model.lgbm_predict(X_test=X_valid, model=model, y_test=y_valid, mode='validate')"
   ]
  },
  {
   "cell_type": "code",
   "execution_count": null,
   "metadata": {},
   "outputs": [],
   "source": [
    "p, r, thresholds = metrics.precision_recall_curve(y_true=y_valid, probas_pred=lgb_pred)\n",
    "\n",
    "def plot_precision_recall_vs_threshold(precisions, recalls, thresholds):\n",
    "    \"\"\"\n",
    "    Modified from:\n",
    "    Hands-On Machine learning with Scikit-Learn\n",
    "    and TensorFlow; p.89\n",
    "    \"\"\"\n",
    "    plt.figure(figsize=(8, 8))\n",
    "    plt.title(\"Precision and Recall Scores as a function of the decision threshold\")\n",
    "    plt.plot(thresholds, precisions[:-1], \"b--\", label=\"Precision\")\n",
    "    plt.plot(thresholds, recalls[:-1], \"g-\", label=\"Recall\")\n",
    "    plt.ylabel(\"Score\")\n",
    "    plt.xlabel(\"Decision Threshold\")\n",
    "    plt.legend(loc='best')\n",
    "    \n",
    "plot_precision_recall_vs_threshold(p, r, thresholds)"
   ]
  },
  {
   "cell_type": "code",
   "execution_count": null,
   "metadata": {},
   "outputs": [],
   "source": [
    "\"\"\" RANDOM FOREST \"\"\""
   ]
  },
  {
   "cell_type": "code",
   "execution_count": null,
   "metadata": {},
   "outputs": [],
   "source": [
    "# random forest class for tuning\n",
    "\n",
    "class rf_model():\n",
    "    \n",
    "    def __init__():\n",
    "        \"\"\" this class initializes some functions used in the random forest pipeline \"\"\"\n",
    "        \n",
    "    def rf_score(params):        \n",
    "        global ITERATION\n",
    "        ITERATION += 1\n",
    "\n",
    "        # Make sure parameters that need to be integers are integers\n",
    "        for parameter_name in ['max_depth', 'n_estimators']:\n",
    "            params[parameter_name] = int(params[parameter_name])\n",
    "                \n",
    "        rf_results = RandomForestClassifier(**params, random_state=randomseed)\n",
    "        #rf_results.fit(X_train, y_train)\n",
    "        rf_cv_scores = sklearn.model_selection.cross_val_predict(rf_results, X_train, y_train, cv=5, verbose=False)        \n",
    "        recall_score = sklearn.metrics.recall_score(y_pred=rf_cv_scores, y_true=y_train)\n",
    "        precision_score = sklearn.metrics.precision_score(y_pred=rf_cv_scores, y_true=y_train)\n",
    "        f1_score = sklearn.metrics.f1_score(y_pred=rf_cv_scores, y_true=y_train)\n",
    "\n",
    "        return {'loss': (1 - recall_score), 'status': STATUS_OK, 'params': params, 'iteration': ITERATION}\n",
    "    \n",
    "    def optimize():\n",
    "        # Keep track of evals\n",
    "        global ITERATION\n",
    "        ITERATION = 0\n",
    "        \n",
    "        global trials\n",
    "        trials = Trials()\n",
    "        space = {\n",
    "            'max_depth' : hp.quniform('max_depth', 5, 10, 1),\n",
    "            'max_features': hp.choice('max_features', range(20, int((X_train.shape[:][1])/5))),\n",
    "            'criterion': hp.choice('criterion', [\"gini\", \"entropy\"]),\n",
    "            'n_estimators': hp.choice('n_estimators', np.arange(200, 1000))\n",
    "        }\n",
    "        \n",
    "        # Run optimization\n",
    "        best = fmin(fn = rf_model.rf_score, space = space, algo = tpe.suggest, \n",
    "            max_evals = MAX_EVALS, trials = trials, rstate = np.random.RandomState(randomseed))\n",
    "        best = trials.best_trial['result']['params']\n",
    "        return best, trials\n",
    "    \n",
    "    def rf_train(best_params):\n",
    "        model = RandomForestClassifier(random_state = randomseed)\n",
    "        model.set_params(**best_params)\n",
    "        model.fit(X_train, y_train)\n",
    "        return model\n",
    "    \n",
    "    def rf_predict(X_test, y_test, model, mode = \"validate\"):\n",
    "        pred = model.predict_proba(X_test)[:, 1]\n",
    "        predict = np.where(pred > 0.12, 1, 0)\n",
    "        \n",
    "        if mode == \"validate\":\n",
    "            recall_score = sklearn.metrics.recall_score(y_pred=predict, y_true=y_test)\n",
    "            precision_score = sklearn.metrics.precision_score(y_pred=predict, y_true=y_test)\n",
    "            f1_score = sklearn.metrics.f1_score(y_pred=predict, y_true=y_test)\n",
    "            auc_score = roc_auc_score(y_test, pred)\n",
    "            tn, fp, fn, tp = sklearn.metrics.confusion_matrix(y_pred=predict, y_true=y_test).ravel()\n",
    "            print(sklearn.metrics.confusion_matrix(y_pred=predict, y_true=y_test), '\\n')\n",
    "            print('recall score is: ', recall_score)\n",
    "            print('precision score is: ', precision_score)\n",
    "            print('f1_score is: ', f1_score)\n",
    "            print('accuracy score: ', sklearn.metrics.accuracy_score(y_true=y_test, y_pred=predict))\n",
    "            print('The final AUC after taking the best params and num_rounds when it stopped is {:.4f}.'.format(auc_score), '\\n')\n",
    "            return pred, predict, tn, fp, fn, tp\n",
    "        else:\n",
    "            return pred\n",
    "        \n",
    "    def rf_cv(X_train, y_train, best):\n",
    "        model = RandomForestClassifier(**best, verbose=False)\n",
    "        rf_cv_scores = sklearn.model_selection.cross_val_predict(model, X_train, y_train, cv=5)\n",
    "        print('recall: ', sklearn.metrics.recall_score(y_pred=rf_cv_scores, y_true=y_train))\n",
    "        print('precision: ', sklearn.metrics.precision_score(y_pred=rf_cv_scores, y_true=y_train))\n",
    "        print('f1: ', sklearn.metrics.f1_score(y_pred=rf_cv_scores, y_true=y_train))\n",
    "        print('accuracy: ', sklearn.metrics.accuracy_score(y_pred=rf_cv_scores, y_true=y_train))"
   ]
  },
  {
   "cell_type": "code",
   "execution_count": null,
   "metadata": {},
   "outputs": [],
   "source": [
    "# calling the randomforest function and returning the best model\n",
    "best, trials = rf_model.optimize()\n",
    "print(1 - trials.average_best_error(), '\\n')\n",
    "\n",
    "model = rf_model.rf_train(best)"
   ]
  },
  {
   "cell_type": "code",
   "execution_count": null,
   "metadata": {},
   "outputs": [],
   "source": [
    "# cv results\n",
    "rf_model.rf_cv(X_train, y_train, best)"
   ]
  },
  {
   "cell_type": "code",
   "execution_count": null,
   "metadata": {},
   "outputs": [],
   "source": [
    "# predicting using the best random forest model on the validation set\n",
    "rf_pred, rf_predict, tn, fp, fn, tp = rf_model.rf_predict(X_test=X_valid, model=model, y_test=y_valid, mode='validate')"
   ]
  },
  {
   "cell_type": "code",
   "execution_count": null,
   "metadata": {},
   "outputs": [],
   "source": [
    "print('true negatives: ', tn)\n",
    "print('false positives: ', fp)\n",
    "print('false negatives: ', fn)\n",
    "print('true positives: ', tp)"
   ]
  },
  {
   "cell_type": "code",
   "execution_count": null,
   "metadata": {},
   "outputs": [],
   "source": [
    "\"\"\" SIMPLE LOGIT MODEL \"\"\""
   ]
  },
  {
   "cell_type": "code",
   "execution_count": 114,
   "metadata": {},
   "outputs": [
    {
     "ename": "ValueError",
     "evalue": "Input contains NaN, infinity or a value too large for dtype('float64').",
     "output_type": "error",
     "traceback": [
      "\u001b[1;31m---------------------------------------------------------------------------\u001b[0m",
      "\u001b[1;31mValueError\u001b[0m                                Traceback (most recent call last)",
      "\u001b[1;32m<ipython-input-114-5280a97a50a3>\u001b[0m in \u001b[0;36m<module>\u001b[1;34m()\u001b[0m\n\u001b[0;32m     14\u001b[0m \u001b[1;33m\u001b[0m\u001b[0m\n\u001b[0;32m     15\u001b[0m \u001b[1;31m# Fit grid search\u001b[0m\u001b[1;33m\u001b[0m\u001b[1;33m\u001b[0m\u001b[0m\n\u001b[1;32m---> 16\u001b[1;33m \u001b[0mmodel_fit\u001b[0m \u001b[1;33m=\u001b[0m \u001b[0mclf\u001b[0m\u001b[1;33m.\u001b[0m\u001b[0mfit\u001b[0m\u001b[1;33m(\u001b[0m\u001b[0mX_train\u001b[0m\u001b[1;33m,\u001b[0m \u001b[0my_train\u001b[0m\u001b[1;33m)\u001b[0m\u001b[1;33m\u001b[0m\u001b[0m\n\u001b[0m\u001b[0;32m     17\u001b[0m \u001b[1;33m\u001b[0m\u001b[0m\n\u001b[0;32m     18\u001b[0m \u001b[1;31m# View best hyperparameters\u001b[0m\u001b[1;33m\u001b[0m\u001b[1;33m\u001b[0m\u001b[0m\n",
      "\u001b[1;32m~\\Anaconda3\\lib\\site-packages\\sklearn\\model_selection\\_search.py\u001b[0m in \u001b[0;36mfit\u001b[1;34m(self, X, y, groups, **fit_params)\u001b[0m\n\u001b[0;32m    637\u001b[0m                                   error_score=self.error_score)\n\u001b[0;32m    638\u001b[0m           for parameters, (train, test) in product(candidate_params,\n\u001b[1;32m--> 639\u001b[1;33m                                                    cv.split(X, y, groups)))\n\u001b[0m\u001b[0;32m    640\u001b[0m \u001b[1;33m\u001b[0m\u001b[0m\n\u001b[0;32m    641\u001b[0m         \u001b[1;31m# if one choose to see train score, \"out\" will contain train score info\u001b[0m\u001b[1;33m\u001b[0m\u001b[1;33m\u001b[0m\u001b[0m\n",
      "\u001b[1;32m~\\Anaconda3\\lib\\site-packages\\sklearn\\externals\\joblib\\parallel.py\u001b[0m in \u001b[0;36m__call__\u001b[1;34m(self, iterable)\u001b[0m\n\u001b[0;32m    777\u001b[0m             \u001b[1;31m# was dispatched. In particular this covers the edge\u001b[0m\u001b[1;33m\u001b[0m\u001b[1;33m\u001b[0m\u001b[0m\n\u001b[0;32m    778\u001b[0m             \u001b[1;31m# case of Parallel used with an exhausted iterator.\u001b[0m\u001b[1;33m\u001b[0m\u001b[1;33m\u001b[0m\u001b[0m\n\u001b[1;32m--> 779\u001b[1;33m             \u001b[1;32mwhile\u001b[0m \u001b[0mself\u001b[0m\u001b[1;33m.\u001b[0m\u001b[0mdispatch_one_batch\u001b[0m\u001b[1;33m(\u001b[0m\u001b[0miterator\u001b[0m\u001b[1;33m)\u001b[0m\u001b[1;33m:\u001b[0m\u001b[1;33m\u001b[0m\u001b[0m\n\u001b[0m\u001b[0;32m    780\u001b[0m                 \u001b[0mself\u001b[0m\u001b[1;33m.\u001b[0m\u001b[0m_iterating\u001b[0m \u001b[1;33m=\u001b[0m \u001b[1;32mTrue\u001b[0m\u001b[1;33m\u001b[0m\u001b[0m\n\u001b[0;32m    781\u001b[0m             \u001b[1;32melse\u001b[0m\u001b[1;33m:\u001b[0m\u001b[1;33m\u001b[0m\u001b[0m\n",
      "\u001b[1;32m~\\Anaconda3\\lib\\site-packages\\sklearn\\externals\\joblib\\parallel.py\u001b[0m in \u001b[0;36mdispatch_one_batch\u001b[1;34m(self, iterator)\u001b[0m\n\u001b[0;32m    623\u001b[0m                 \u001b[1;32mreturn\u001b[0m \u001b[1;32mFalse\u001b[0m\u001b[1;33m\u001b[0m\u001b[0m\n\u001b[0;32m    624\u001b[0m             \u001b[1;32melse\u001b[0m\u001b[1;33m:\u001b[0m\u001b[1;33m\u001b[0m\u001b[0m\n\u001b[1;32m--> 625\u001b[1;33m                 \u001b[0mself\u001b[0m\u001b[1;33m.\u001b[0m\u001b[0m_dispatch\u001b[0m\u001b[1;33m(\u001b[0m\u001b[0mtasks\u001b[0m\u001b[1;33m)\u001b[0m\u001b[1;33m\u001b[0m\u001b[0m\n\u001b[0m\u001b[0;32m    626\u001b[0m                 \u001b[1;32mreturn\u001b[0m \u001b[1;32mTrue\u001b[0m\u001b[1;33m\u001b[0m\u001b[0m\n\u001b[0;32m    627\u001b[0m \u001b[1;33m\u001b[0m\u001b[0m\n",
      "\u001b[1;32m~\\Anaconda3\\lib\\site-packages\\sklearn\\externals\\joblib\\parallel.py\u001b[0m in \u001b[0;36m_dispatch\u001b[1;34m(self, batch)\u001b[0m\n\u001b[0;32m    586\u001b[0m         \u001b[0mdispatch_timestamp\u001b[0m \u001b[1;33m=\u001b[0m \u001b[0mtime\u001b[0m\u001b[1;33m.\u001b[0m\u001b[0mtime\u001b[0m\u001b[1;33m(\u001b[0m\u001b[1;33m)\u001b[0m\u001b[1;33m\u001b[0m\u001b[0m\n\u001b[0;32m    587\u001b[0m         \u001b[0mcb\u001b[0m \u001b[1;33m=\u001b[0m \u001b[0mBatchCompletionCallBack\u001b[0m\u001b[1;33m(\u001b[0m\u001b[0mdispatch_timestamp\u001b[0m\u001b[1;33m,\u001b[0m \u001b[0mlen\u001b[0m\u001b[1;33m(\u001b[0m\u001b[0mbatch\u001b[0m\u001b[1;33m)\u001b[0m\u001b[1;33m,\u001b[0m \u001b[0mself\u001b[0m\u001b[1;33m)\u001b[0m\u001b[1;33m\u001b[0m\u001b[0m\n\u001b[1;32m--> 588\u001b[1;33m         \u001b[0mjob\u001b[0m \u001b[1;33m=\u001b[0m \u001b[0mself\u001b[0m\u001b[1;33m.\u001b[0m\u001b[0m_backend\u001b[0m\u001b[1;33m.\u001b[0m\u001b[0mapply_async\u001b[0m\u001b[1;33m(\u001b[0m\u001b[0mbatch\u001b[0m\u001b[1;33m,\u001b[0m \u001b[0mcallback\u001b[0m\u001b[1;33m=\u001b[0m\u001b[0mcb\u001b[0m\u001b[1;33m)\u001b[0m\u001b[1;33m\u001b[0m\u001b[0m\n\u001b[0m\u001b[0;32m    589\u001b[0m         \u001b[0mself\u001b[0m\u001b[1;33m.\u001b[0m\u001b[0m_jobs\u001b[0m\u001b[1;33m.\u001b[0m\u001b[0mappend\u001b[0m\u001b[1;33m(\u001b[0m\u001b[0mjob\u001b[0m\u001b[1;33m)\u001b[0m\u001b[1;33m\u001b[0m\u001b[0m\n\u001b[0;32m    590\u001b[0m \u001b[1;33m\u001b[0m\u001b[0m\n",
      "\u001b[1;32m~\\Anaconda3\\lib\\site-packages\\sklearn\\externals\\joblib\\_parallel_backends.py\u001b[0m in \u001b[0;36mapply_async\u001b[1;34m(self, func, callback)\u001b[0m\n\u001b[0;32m    109\u001b[0m     \u001b[1;32mdef\u001b[0m \u001b[0mapply_async\u001b[0m\u001b[1;33m(\u001b[0m\u001b[0mself\u001b[0m\u001b[1;33m,\u001b[0m \u001b[0mfunc\u001b[0m\u001b[1;33m,\u001b[0m \u001b[0mcallback\u001b[0m\u001b[1;33m=\u001b[0m\u001b[1;32mNone\u001b[0m\u001b[1;33m)\u001b[0m\u001b[1;33m:\u001b[0m\u001b[1;33m\u001b[0m\u001b[0m\n\u001b[0;32m    110\u001b[0m         \u001b[1;34m\"\"\"Schedule a func to be run\"\"\"\u001b[0m\u001b[1;33m\u001b[0m\u001b[0m\n\u001b[1;32m--> 111\u001b[1;33m         \u001b[0mresult\u001b[0m \u001b[1;33m=\u001b[0m \u001b[0mImmediateResult\u001b[0m\u001b[1;33m(\u001b[0m\u001b[0mfunc\u001b[0m\u001b[1;33m)\u001b[0m\u001b[1;33m\u001b[0m\u001b[0m\n\u001b[0m\u001b[0;32m    112\u001b[0m         \u001b[1;32mif\u001b[0m \u001b[0mcallback\u001b[0m\u001b[1;33m:\u001b[0m\u001b[1;33m\u001b[0m\u001b[0m\n\u001b[0;32m    113\u001b[0m             \u001b[0mcallback\u001b[0m\u001b[1;33m(\u001b[0m\u001b[0mresult\u001b[0m\u001b[1;33m)\u001b[0m\u001b[1;33m\u001b[0m\u001b[0m\n",
      "\u001b[1;32m~\\Anaconda3\\lib\\site-packages\\sklearn\\externals\\joblib\\_parallel_backends.py\u001b[0m in \u001b[0;36m__init__\u001b[1;34m(self, batch)\u001b[0m\n\u001b[0;32m    330\u001b[0m         \u001b[1;31m# Don't delay the application, to avoid keeping the input\u001b[0m\u001b[1;33m\u001b[0m\u001b[1;33m\u001b[0m\u001b[0m\n\u001b[0;32m    331\u001b[0m         \u001b[1;31m# arguments in memory\u001b[0m\u001b[1;33m\u001b[0m\u001b[1;33m\u001b[0m\u001b[0m\n\u001b[1;32m--> 332\u001b[1;33m         \u001b[0mself\u001b[0m\u001b[1;33m.\u001b[0m\u001b[0mresults\u001b[0m \u001b[1;33m=\u001b[0m \u001b[0mbatch\u001b[0m\u001b[1;33m(\u001b[0m\u001b[1;33m)\u001b[0m\u001b[1;33m\u001b[0m\u001b[0m\n\u001b[0m\u001b[0;32m    333\u001b[0m \u001b[1;33m\u001b[0m\u001b[0m\n\u001b[0;32m    334\u001b[0m     \u001b[1;32mdef\u001b[0m \u001b[0mget\u001b[0m\u001b[1;33m(\u001b[0m\u001b[0mself\u001b[0m\u001b[1;33m)\u001b[0m\u001b[1;33m:\u001b[0m\u001b[1;33m\u001b[0m\u001b[0m\n",
      "\u001b[1;32m~\\Anaconda3\\lib\\site-packages\\sklearn\\externals\\joblib\\parallel.py\u001b[0m in \u001b[0;36m__call__\u001b[1;34m(self)\u001b[0m\n\u001b[0;32m    129\u001b[0m \u001b[1;33m\u001b[0m\u001b[0m\n\u001b[0;32m    130\u001b[0m     \u001b[1;32mdef\u001b[0m \u001b[0m__call__\u001b[0m\u001b[1;33m(\u001b[0m\u001b[0mself\u001b[0m\u001b[1;33m)\u001b[0m\u001b[1;33m:\u001b[0m\u001b[1;33m\u001b[0m\u001b[0m\n\u001b[1;32m--> 131\u001b[1;33m         \u001b[1;32mreturn\u001b[0m \u001b[1;33m[\u001b[0m\u001b[0mfunc\u001b[0m\u001b[1;33m(\u001b[0m\u001b[1;33m*\u001b[0m\u001b[0margs\u001b[0m\u001b[1;33m,\u001b[0m \u001b[1;33m**\u001b[0m\u001b[0mkwargs\u001b[0m\u001b[1;33m)\u001b[0m \u001b[1;32mfor\u001b[0m \u001b[0mfunc\u001b[0m\u001b[1;33m,\u001b[0m \u001b[0margs\u001b[0m\u001b[1;33m,\u001b[0m \u001b[0mkwargs\u001b[0m \u001b[1;32min\u001b[0m \u001b[0mself\u001b[0m\u001b[1;33m.\u001b[0m\u001b[0mitems\u001b[0m\u001b[1;33m]\u001b[0m\u001b[1;33m\u001b[0m\u001b[0m\n\u001b[0m\u001b[0;32m    132\u001b[0m \u001b[1;33m\u001b[0m\u001b[0m\n\u001b[0;32m    133\u001b[0m     \u001b[1;32mdef\u001b[0m \u001b[0m__len__\u001b[0m\u001b[1;33m(\u001b[0m\u001b[0mself\u001b[0m\u001b[1;33m)\u001b[0m\u001b[1;33m:\u001b[0m\u001b[1;33m\u001b[0m\u001b[0m\n",
      "\u001b[1;32m~\\Anaconda3\\lib\\site-packages\\sklearn\\externals\\joblib\\parallel.py\u001b[0m in \u001b[0;36m<listcomp>\u001b[1;34m(.0)\u001b[0m\n\u001b[0;32m    129\u001b[0m \u001b[1;33m\u001b[0m\u001b[0m\n\u001b[0;32m    130\u001b[0m     \u001b[1;32mdef\u001b[0m \u001b[0m__call__\u001b[0m\u001b[1;33m(\u001b[0m\u001b[0mself\u001b[0m\u001b[1;33m)\u001b[0m\u001b[1;33m:\u001b[0m\u001b[1;33m\u001b[0m\u001b[0m\n\u001b[1;32m--> 131\u001b[1;33m         \u001b[1;32mreturn\u001b[0m \u001b[1;33m[\u001b[0m\u001b[0mfunc\u001b[0m\u001b[1;33m(\u001b[0m\u001b[1;33m*\u001b[0m\u001b[0margs\u001b[0m\u001b[1;33m,\u001b[0m \u001b[1;33m**\u001b[0m\u001b[0mkwargs\u001b[0m\u001b[1;33m)\u001b[0m \u001b[1;32mfor\u001b[0m \u001b[0mfunc\u001b[0m\u001b[1;33m,\u001b[0m \u001b[0margs\u001b[0m\u001b[1;33m,\u001b[0m \u001b[0mkwargs\u001b[0m \u001b[1;32min\u001b[0m \u001b[0mself\u001b[0m\u001b[1;33m.\u001b[0m\u001b[0mitems\u001b[0m\u001b[1;33m]\u001b[0m\u001b[1;33m\u001b[0m\u001b[0m\n\u001b[0m\u001b[0;32m    132\u001b[0m \u001b[1;33m\u001b[0m\u001b[0m\n\u001b[0;32m    133\u001b[0m     \u001b[1;32mdef\u001b[0m \u001b[0m__len__\u001b[0m\u001b[1;33m(\u001b[0m\u001b[0mself\u001b[0m\u001b[1;33m)\u001b[0m\u001b[1;33m:\u001b[0m\u001b[1;33m\u001b[0m\u001b[0m\n",
      "\u001b[1;32m~\\Anaconda3\\lib\\site-packages\\sklearn\\model_selection\\_validation.py\u001b[0m in \u001b[0;36m_fit_and_score\u001b[1;34m(estimator, X, y, scorer, train, test, verbose, parameters, fit_params, return_train_score, return_parameters, return_n_test_samples, return_times, error_score)\u001b[0m\n\u001b[0;32m    456\u001b[0m             \u001b[0mestimator\u001b[0m\u001b[1;33m.\u001b[0m\u001b[0mfit\u001b[0m\u001b[1;33m(\u001b[0m\u001b[0mX_train\u001b[0m\u001b[1;33m,\u001b[0m \u001b[1;33m**\u001b[0m\u001b[0mfit_params\u001b[0m\u001b[1;33m)\u001b[0m\u001b[1;33m\u001b[0m\u001b[0m\n\u001b[0;32m    457\u001b[0m         \u001b[1;32melse\u001b[0m\u001b[1;33m:\u001b[0m\u001b[1;33m\u001b[0m\u001b[0m\n\u001b[1;32m--> 458\u001b[1;33m             \u001b[0mestimator\u001b[0m\u001b[1;33m.\u001b[0m\u001b[0mfit\u001b[0m\u001b[1;33m(\u001b[0m\u001b[0mX_train\u001b[0m\u001b[1;33m,\u001b[0m \u001b[0my_train\u001b[0m\u001b[1;33m,\u001b[0m \u001b[1;33m**\u001b[0m\u001b[0mfit_params\u001b[0m\u001b[1;33m)\u001b[0m\u001b[1;33m\u001b[0m\u001b[0m\n\u001b[0m\u001b[0;32m    459\u001b[0m \u001b[1;33m\u001b[0m\u001b[0m\n\u001b[0;32m    460\u001b[0m     \u001b[1;32mexcept\u001b[0m \u001b[0mException\u001b[0m \u001b[1;32mas\u001b[0m \u001b[0me\u001b[0m\u001b[1;33m:\u001b[0m\u001b[1;33m\u001b[0m\u001b[0m\n",
      "\u001b[1;32m~\\Anaconda3\\lib\\site-packages\\sklearn\\linear_model\\logistic.py\u001b[0m in \u001b[0;36mfit\u001b[1;34m(self, X, y, sample_weight)\u001b[0m\n\u001b[0;32m   1214\u001b[0m \u001b[1;33m\u001b[0m\u001b[0m\n\u001b[0;32m   1215\u001b[0m         X, y = check_X_y(X, y, accept_sparse='csr', dtype=_dtype,\n\u001b[1;32m-> 1216\u001b[1;33m                          order=\"C\")\n\u001b[0m\u001b[0;32m   1217\u001b[0m         \u001b[0mcheck_classification_targets\u001b[0m\u001b[1;33m(\u001b[0m\u001b[0my\u001b[0m\u001b[1;33m)\u001b[0m\u001b[1;33m\u001b[0m\u001b[0m\n\u001b[0;32m   1218\u001b[0m         \u001b[0mself\u001b[0m\u001b[1;33m.\u001b[0m\u001b[0mclasses_\u001b[0m \u001b[1;33m=\u001b[0m \u001b[0mnp\u001b[0m\u001b[1;33m.\u001b[0m\u001b[0munique\u001b[0m\u001b[1;33m(\u001b[0m\u001b[0my\u001b[0m\u001b[1;33m)\u001b[0m\u001b[1;33m\u001b[0m\u001b[0m\n",
      "\u001b[1;32m~\\Anaconda3\\lib\\site-packages\\sklearn\\utils\\validation.py\u001b[0m in \u001b[0;36mcheck_X_y\u001b[1;34m(X, y, accept_sparse, dtype, order, copy, force_all_finite, ensure_2d, allow_nd, multi_output, ensure_min_samples, ensure_min_features, y_numeric, warn_on_dtype, estimator)\u001b[0m\n\u001b[0;32m    571\u001b[0m     X = check_array(X, accept_sparse, dtype, order, copy, force_all_finite,\n\u001b[0;32m    572\u001b[0m                     \u001b[0mensure_2d\u001b[0m\u001b[1;33m,\u001b[0m \u001b[0mallow_nd\u001b[0m\u001b[1;33m,\u001b[0m \u001b[0mensure_min_samples\u001b[0m\u001b[1;33m,\u001b[0m\u001b[1;33m\u001b[0m\u001b[0m\n\u001b[1;32m--> 573\u001b[1;33m                     ensure_min_features, warn_on_dtype, estimator)\n\u001b[0m\u001b[0;32m    574\u001b[0m     \u001b[1;32mif\u001b[0m \u001b[0mmulti_output\u001b[0m\u001b[1;33m:\u001b[0m\u001b[1;33m\u001b[0m\u001b[0m\n\u001b[0;32m    575\u001b[0m         y = check_array(y, 'csr', force_all_finite=True, ensure_2d=False,\n",
      "\u001b[1;32m~\\Anaconda3\\lib\\site-packages\\sklearn\\utils\\validation.py\u001b[0m in \u001b[0;36mcheck_array\u001b[1;34m(array, accept_sparse, dtype, order, copy, force_all_finite, ensure_2d, allow_nd, ensure_min_samples, ensure_min_features, warn_on_dtype, estimator)\u001b[0m\n\u001b[0;32m    451\u001b[0m                              % (array.ndim, estimator_name))\n\u001b[0;32m    452\u001b[0m         \u001b[1;32mif\u001b[0m \u001b[0mforce_all_finite\u001b[0m\u001b[1;33m:\u001b[0m\u001b[1;33m\u001b[0m\u001b[0m\n\u001b[1;32m--> 453\u001b[1;33m             \u001b[0m_assert_all_finite\u001b[0m\u001b[1;33m(\u001b[0m\u001b[0marray\u001b[0m\u001b[1;33m)\u001b[0m\u001b[1;33m\u001b[0m\u001b[0m\n\u001b[0m\u001b[0;32m    454\u001b[0m \u001b[1;33m\u001b[0m\u001b[0m\n\u001b[0;32m    455\u001b[0m     \u001b[0mshape_repr\u001b[0m \u001b[1;33m=\u001b[0m \u001b[0m_shape_repr\u001b[0m\u001b[1;33m(\u001b[0m\u001b[0marray\u001b[0m\u001b[1;33m.\u001b[0m\u001b[0mshape\u001b[0m\u001b[1;33m)\u001b[0m\u001b[1;33m\u001b[0m\u001b[0m\n",
      "\u001b[1;32m~\\Anaconda3\\lib\\site-packages\\sklearn\\utils\\validation.py\u001b[0m in \u001b[0;36m_assert_all_finite\u001b[1;34m(X)\u001b[0m\n\u001b[0;32m     42\u001b[0m             and not np.isfinite(X).all()):\n\u001b[0;32m     43\u001b[0m         raise ValueError(\"Input contains NaN, infinity\"\n\u001b[1;32m---> 44\u001b[1;33m                          \" or a value too large for %r.\" % X.dtype)\n\u001b[0m\u001b[0;32m     45\u001b[0m \u001b[1;33m\u001b[0m\u001b[0m\n\u001b[0;32m     46\u001b[0m \u001b[1;33m\u001b[0m\u001b[0m\n",
      "\u001b[1;31mValueError\u001b[0m: Input contains NaN, infinity or a value too large for dtype('float64')."
     ]
    }
   ],
   "source": [
    "# implementing only the baseline logistic model\n",
    "# need to add support for parameter tuning\n",
    "\n",
    "#kfold = model_selection.KFold(n_splits=5, random_state=1)\n",
    "modelCV = LogisticRegression()\n",
    "# Create regularization penalty space\n",
    "penalty = ['l1', 'l2']\n",
    "# Create regularization hyperparameter space\n",
    "C = np.logspace(0, 5, 10)\n",
    "# Create hyperparameter options\n",
    "hyperparameters = dict(C=C, penalty=penalty)\n",
    "# Create grid search using 5-fold cross validation\n",
    "clf = GridSearchCV(modelCV, hyperparameters, cv=5, verbose=0)\n",
    "\n",
    "# Fit grid search\n",
    "model_fit = clf.fit(X_train, y_train)\n",
    "\n",
    "# View best hyperparameters\n",
    "print('Best Penalty:', model_fit.best_estimator_.get_params()['penalty'])\n",
    "print('Best C:', model_fit.best_estimator_.get_params()['C'])\n",
    "\n",
    "#scoring = 'recall' # give precision or f1\n",
    "#results = model_selection.cross_val_score(modelCV, X_train, y_train, cv=kfold, scoring=scoring)\n",
    "#print(\"5-fold cross validation average accuracy: %.3f\" % (results.mean()))"
   ]
  },
  {
   "cell_type": "code",
   "execution_count": 80,
   "metadata": {},
   "outputs": [
    {
     "name": "stdout",
     "output_type": "stream",
     "text": [
      "auc:  0.5\n",
      "recall:  0.0\n"
     ]
    },
    {
     "name": "stderr",
     "output_type": "stream",
     "text": [
      "C:\\Users\\Lenovo\\Anaconda3\\lib\\site-packages\\sklearn\\metrics\\classification.py:1135: UndefinedMetricWarning: Precision is ill-defined and being set to 0.0 due to no predicted samples.\n",
      "  'precision', 'predicted', average, warn_for)\n"
     ]
    },
    {
     "name": "stdout",
     "output_type": "stream",
     "text": [
      "precision:  0.0\n"
     ]
    },
    {
     "name": "stderr",
     "output_type": "stream",
     "text": [
      "C:\\Users\\Lenovo\\Anaconda3\\lib\\site-packages\\sklearn\\metrics\\classification.py:1135: UndefinedMetricWarning: F-score is ill-defined and being set to 0.0 due to no predicted samples.\n",
      "  'precision', 'predicted', average, warn_for)\n"
     ]
    },
    {
     "name": "stdout",
     "output_type": "stream",
     "text": [
      "f1:  0.0\n"
     ]
    }
   ],
   "source": [
    "# getting the predictions for the actual test set\n",
    "log_pred = model_fit.best_estimator_.predict_proba(X=X_valid)[:, 1]\n",
    "log_predict = np.where(log_pred > 0.5, 1, 0)\n",
    "\n",
    "# print the various evaluation metrics\n",
    "print('auc: ', sklearn.metrics.roc_auc_score(y_score=log_pred, y_true=y_valid))\n",
    "print('recall: ', sklearn.metrics.recall_score(y_pred=log_predict, y_true=y_valid))\n",
    "print('precision: ', sklearn.metrics.precision_score(y_pred=log_predict, y_true=y_valid))\n",
    "print('f1: ', sklearn.metrics.f1_score(y_pred=log_predict, y_true=y_valid))"
   ]
  },
  {
   "cell_type": "code",
   "execution_count": null,
   "metadata": {},
   "outputs": [],
   "source": [
    "\"\"\" SVC \"\"\""
   ]
  },
  {
   "cell_type": "code",
   "execution_count": 81,
   "metadata": {},
   "outputs": [],
   "source": [
    "from sklearn.preprocessing import MinMaxScaler\n",
    "\n",
    "scaling = MinMaxScaler(feature_range=(-1,1)).fit(X_train)\n",
    "X_train = scaling.transform(X_train)\n",
    "X_valid = scaling.transform(X_valid)"
   ]
  },
  {
   "cell_type": "code",
   "execution_count": 82,
   "metadata": {},
   "outputs": [
    {
     "name": "stdout",
     "output_type": "stream",
     "text": [
      "# Tuning hyper-parameters for precision\n"
     ]
    },
    {
     "name": "stderr",
     "output_type": "stream",
     "text": [
      "C:\\Users\\Lenovo\\Anaconda3\\lib\\site-packages\\sklearn\\metrics\\classification.py:1135: UndefinedMetricWarning: Precision is ill-defined and being set to 0.0 in labels with no predicted samples.\n",
      "  'precision', 'predicted', average, warn_for)\n",
      "C:\\Users\\Lenovo\\Anaconda3\\lib\\site-packages\\sklearn\\metrics\\classification.py:1135: UndefinedMetricWarning: Precision is ill-defined and being set to 0.0 in labels with no predicted samples.\n",
      "  'precision', 'predicted', average, warn_for)\n",
      "C:\\Users\\Lenovo\\Anaconda3\\lib\\site-packages\\sklearn\\metrics\\classification.py:1135: UndefinedMetricWarning: Precision is ill-defined and being set to 0.0 in labels with no predicted samples.\n",
      "  'precision', 'predicted', average, warn_for)\n",
      "C:\\Users\\Lenovo\\Anaconda3\\lib\\site-packages\\sklearn\\metrics\\classification.py:1135: UndefinedMetricWarning: Precision is ill-defined and being set to 0.0 in labels with no predicted samples.\n",
      "  'precision', 'predicted', average, warn_for)\n",
      "C:\\Users\\Lenovo\\Anaconda3\\lib\\site-packages\\sklearn\\metrics\\classification.py:1135: UndefinedMetricWarning: Precision is ill-defined and being set to 0.0 in labels with no predicted samples.\n",
      "  'precision', 'predicted', average, warn_for)\n",
      "C:\\Users\\Lenovo\\Anaconda3\\lib\\site-packages\\sklearn\\metrics\\classification.py:1135: UndefinedMetricWarning: Precision is ill-defined and being set to 0.0 in labels with no predicted samples.\n",
      "  'precision', 'predicted', average, warn_for)\n",
      "C:\\Users\\Lenovo\\Anaconda3\\lib\\site-packages\\sklearn\\metrics\\classification.py:1135: UndefinedMetricWarning: Precision is ill-defined and being set to 0.0 in labels with no predicted samples.\n",
      "  'precision', 'predicted', average, warn_for)\n",
      "C:\\Users\\Lenovo\\Anaconda3\\lib\\site-packages\\sklearn\\metrics\\classification.py:1135: UndefinedMetricWarning: Precision is ill-defined and being set to 0.0 in labels with no predicted samples.\n",
      "  'precision', 'predicted', average, warn_for)\n",
      "C:\\Users\\Lenovo\\Anaconda3\\lib\\site-packages\\sklearn\\metrics\\classification.py:1135: UndefinedMetricWarning: Precision is ill-defined and being set to 0.0 in labels with no predicted samples.\n",
      "  'precision', 'predicted', average, warn_for)\n"
     ]
    },
    {
     "name": "stdout",
     "output_type": "stream",
     "text": [
      "Best parameters set found on development set: \n",
      "\n",
      "{'gamma': 'auto', 'kernel': 'rbf'}\n",
      "Grid scores on development set:\n",
      "0.896 (+/-0.009) for {'C': 1, 'kernel': 'linear'}\n",
      "0.903 (+/-0.008) for {'C': 10, 'kernel': 'linear'}\n",
      "0.392 (+/-0.400) for {'degree': 5, 'kernel': 'poly'}\n",
      "0.292 (+/-0.000) for {'degree': 10, 'kernel': 'poly'}\n",
      "0.934 (+/-0.027) for {'gamma': 'auto', 'kernel': 'rbf'}\n",
      "Detailed classification report:\n",
      "The model is trained on the full development set.\n",
      "The scores are computed on the full evaluation set.\n"
     ]
    },
    {
     "name": "stderr",
     "output_type": "stream",
     "text": [
      "C:\\Users\\Lenovo\\Anaconda3\\lib\\site-packages\\sklearn\\metrics\\classification.py:1135: UndefinedMetricWarning: Precision and F-score are ill-defined and being set to 0.0 in labels with no predicted samples.\n",
      "  'precision', 'predicted', average, warn_for)\n"
     ]
    },
    {
     "name": "stdout",
     "output_type": "stream",
     "text": [
      "             precision    recall  f1-score   support\n",
      "\n",
      "          0       0.95      1.00      0.97      5453\n",
      "          1       0.00      0.00      0.00       281\n",
      "\n",
      "avg / total       0.90      0.95      0.93      5734\n",
      "\n",
      "# Tuning hyper-parameters for recall\n",
      "Best parameters set found on development set: \n",
      "\n",
      "{'gamma': 'auto', 'kernel': 'rbf'}\n",
      "Grid scores on development set:\n",
      "0.903 (+/-0.010) for {'C': 1, 'kernel': 'linear'}\n",
      "0.911 (+/-0.010) for {'C': 10, 'kernel': 'linear'}\n",
      "0.500 (+/-0.001) for {'degree': 5, 'kernel': 'poly'}\n",
      "0.500 (+/-0.000) for {'degree': 10, 'kernel': 'poly'}\n",
      "0.933 (+/-0.048) for {'gamma': 'auto', 'kernel': 'rbf'}\n",
      "Detailed classification report:\n",
      "The model is trained on the full development set.\n",
      "The scores are computed on the full evaluation set.\n"
     ]
    },
    {
     "name": "stderr",
     "output_type": "stream",
     "text": [
      "C:\\Users\\Lenovo\\Anaconda3\\lib\\site-packages\\sklearn\\metrics\\classification.py:1135: UndefinedMetricWarning: Precision and F-score are ill-defined and being set to 0.0 in labels with no predicted samples.\n",
      "  'precision', 'predicted', average, warn_for)\n"
     ]
    },
    {
     "name": "stdout",
     "output_type": "stream",
     "text": [
      "             precision    recall  f1-score   support\n",
      "\n",
      "          0       0.95      1.00      0.97      5453\n",
      "          1       0.00      0.00      0.00       281\n",
      "\n",
      "avg / total       0.90      0.95      0.93      5734\n",
      "\n"
     ]
    }
   ],
   "source": [
    "from sklearn.metrics import classification_report\n",
    "\n",
    "# Set the parameters by cross-validation\n",
    "tuned_parameters = [{'kernel': ['linear'], 'C': [1, 10]},\n",
    "                   {'kernel': ['poly'], 'degree': [5, 10]},\n",
    "                   {'kernel': ['rbf'], 'gamma': ['auto']}]\n",
    "\"\"\"  several more parameters need to be included \n",
    "        1. other kernel types (rbf, poly)\n",
    "        2. class balancing parameter (class weight) \n",
    "        3. cv (stratified, non-stratified, KFolds) \n",
    "\n",
    "tuned_parameters = [{'kernel': ['linear'], 'C': [1, 10, 100]},\n",
    "                    {'kernel': ['poly'], 'degree': [5, 10, 20]},\n",
    "                    {'kernel': ['rbf'], 'gamma': }]\n",
    "        \n",
    "        \n",
    "        \"\"\"\n",
    "\n",
    "scores = ['precision', 'recall']\n",
    "\n",
    "for score in scores:\n",
    "    print(\"# Tuning hyper-parameters for %s\" % score)\n",
    "\n",
    "    clf = GridSearchCV(SVC(probability=True), tuned_parameters, cv=StratifiedKFold(y=y_train, n_folds=5),\n",
    "                       scoring='%s_macro' % score)\n",
    "    clf.fit(X_train, y_train)\n",
    "\n",
    "    print(\"Best parameters set found on development set:\", '\\n')\n",
    "    print(clf.best_params_)\n",
    "    print(\"Grid scores on development set:\")\n",
    "    means = clf.cv_results_['mean_test_score']\n",
    "    stds = clf.cv_results_['std_test_score']\n",
    "    for mean, std, params in zip(means, stds, clf.cv_results_['params']):\n",
    "        print(\"%0.3f (+/-%0.03f) for %r\"\n",
    "              % (mean, std * 2, params))\n",
    "\n",
    "    print(\"Detailed classification report:\")\n",
    "    print(\"The model is trained on the full development set.\")\n",
    "    print(\"The scores are computed on the full evaluation set.\")\n",
    "    y_true, y_pred = y_valid, clf.predict(X_valid)\n",
    "    print(classification_report(y_true, y_pred))"
   ]
  },
  {
   "cell_type": "code",
   "execution_count": 84,
   "metadata": {},
   "outputs": [
    {
     "name": "stdout",
     "output_type": "stream",
     "text": [
      "recall:  0.0\n"
     ]
    },
    {
     "name": "stderr",
     "output_type": "stream",
     "text": [
      "C:\\Users\\Lenovo\\Anaconda3\\lib\\site-packages\\sklearn\\metrics\\classification.py:1135: UndefinedMetricWarning: Precision is ill-defined and being set to 0.0 due to no predicted samples.\n",
      "  'precision', 'predicted', average, warn_for)\n"
     ]
    },
    {
     "name": "stdout",
     "output_type": "stream",
     "text": [
      "precision:  0.0\n"
     ]
    },
    {
     "name": "stderr",
     "output_type": "stream",
     "text": [
      "C:\\Users\\Lenovo\\Anaconda3\\lib\\site-packages\\sklearn\\metrics\\classification.py:1135: UndefinedMetricWarning: F-score is ill-defined and being set to 0.0 due to no predicted samples.\n",
      "  'precision', 'predicted', average, warn_for)\n"
     ]
    },
    {
     "name": "stdout",
     "output_type": "stream",
     "text": [
      "f1:  0.0\n",
      "accuracy:  0.9509940704569236\n"
     ]
    }
   ],
   "source": [
    "svc_pred = clf.best_estimator_.predict_proba(X=X_valid)[:, 1]\n",
    "svc_predict = clf.best_estimator_.predict(X=X_valid)\n",
    "print('recall: ', sklearn.metrics.recall_score(y_pred=svc_predict, y_true=y_valid))\n",
    "print('precision: ', sklearn.metrics.precision_score(y_pred=svc_predict, y_true=y_valid))\n",
    "print('f1: ', sklearn.metrics.f1_score(y_pred=svc_predict, y_true=y_valid))\n",
    "print('accuracy: ', sklearn.metrics.accuracy_score(y_pred=svc_predict, y_true=y_valid))"
   ]
  },
  {
   "cell_type": "code",
   "execution_count": 86,
   "metadata": {},
   "outputs": [],
   "source": [
    "predictions_df_probs = pd.DataFrame({'xgb_pred': xgb_pred,\n",
    "                                  'lgb_pred': lgb_pred,\n",
    "                                  'rf_pred': rf_pred,\n",
    "                                  'log_pred': log_pred,\n",
    "                                    'svc_pred': svc_pred,\n",
    "                                    'actual': y_valid})"
   ]
  },
  {
   "cell_type": "code",
   "execution_count": 87,
   "metadata": {},
   "outputs": [
    {
     "data": {
      "text/html": [
       "<div>\n",
       "<style scoped>\n",
       "    .dataframe tbody tr th:only-of-type {\n",
       "        vertical-align: middle;\n",
       "    }\n",
       "\n",
       "    .dataframe tbody tr th {\n",
       "        vertical-align: top;\n",
       "    }\n",
       "\n",
       "    .dataframe thead th {\n",
       "        text-align: right;\n",
       "    }\n",
       "</style>\n",
       "<table border=\"1\" class=\"dataframe\">\n",
       "  <thead>\n",
       "    <tr style=\"text-align: right;\">\n",
       "      <th></th>\n",
       "      <th>xgb_pred</th>\n",
       "      <th>lgb_pred</th>\n",
       "      <th>rf_pred</th>\n",
       "      <th>log_pred</th>\n",
       "      <th>svc_pred</th>\n",
       "      <th>actual</th>\n",
       "    </tr>\n",
       "  </thead>\n",
       "  <tbody>\n",
       "    <tr>\n",
       "      <th>0</th>\n",
       "      <td>0.006148</td>\n",
       "      <td>0.108690</td>\n",
       "      <td>0.039658</td>\n",
       "      <td>0.0</td>\n",
       "      <td>1.000000e-07</td>\n",
       "      <td>0</td>\n",
       "    </tr>\n",
       "    <tr>\n",
       "      <th>1</th>\n",
       "      <td>0.043399</td>\n",
       "      <td>0.135363</td>\n",
       "      <td>0.080101</td>\n",
       "      <td>0.0</td>\n",
       "      <td>1.000000e-07</td>\n",
       "      <td>0</td>\n",
       "    </tr>\n",
       "    <tr>\n",
       "      <th>2</th>\n",
       "      <td>0.281030</td>\n",
       "      <td>0.354230</td>\n",
       "      <td>0.283404</td>\n",
       "      <td>0.0</td>\n",
       "      <td>1.000000e-07</td>\n",
       "      <td>0</td>\n",
       "    </tr>\n",
       "    <tr>\n",
       "      <th>3</th>\n",
       "      <td>0.538680</td>\n",
       "      <td>0.293763</td>\n",
       "      <td>0.458449</td>\n",
       "      <td>0.0</td>\n",
       "      <td>1.000000e-07</td>\n",
       "      <td>0</td>\n",
       "    </tr>\n",
       "    <tr>\n",
       "      <th>4</th>\n",
       "      <td>0.009010</td>\n",
       "      <td>0.118185</td>\n",
       "      <td>0.080996</td>\n",
       "      <td>0.0</td>\n",
       "      <td>1.000000e-07</td>\n",
       "      <td>0</td>\n",
       "    </tr>\n",
       "    <tr>\n",
       "      <th>5</th>\n",
       "      <td>0.005451</td>\n",
       "      <td>0.109935</td>\n",
       "      <td>0.045332</td>\n",
       "      <td>0.0</td>\n",
       "      <td>1.000000e-07</td>\n",
       "      <td>0</td>\n",
       "    </tr>\n",
       "    <tr>\n",
       "      <th>6</th>\n",
       "      <td>0.005802</td>\n",
       "      <td>0.124478</td>\n",
       "      <td>0.030440</td>\n",
       "      <td>0.0</td>\n",
       "      <td>1.000000e-07</td>\n",
       "      <td>0</td>\n",
       "    </tr>\n",
       "    <tr>\n",
       "      <th>7</th>\n",
       "      <td>0.017966</td>\n",
       "      <td>0.093955</td>\n",
       "      <td>0.048342</td>\n",
       "      <td>0.0</td>\n",
       "      <td>1.000000e-07</td>\n",
       "      <td>0</td>\n",
       "    </tr>\n",
       "    <tr>\n",
       "      <th>8</th>\n",
       "      <td>0.010260</td>\n",
       "      <td>0.097249</td>\n",
       "      <td>0.013883</td>\n",
       "      <td>0.0</td>\n",
       "      <td>1.000000e-07</td>\n",
       "      <td>0</td>\n",
       "    </tr>\n",
       "    <tr>\n",
       "      <th>9</th>\n",
       "      <td>0.010389</td>\n",
       "      <td>0.132889</td>\n",
       "      <td>0.091374</td>\n",
       "      <td>0.0</td>\n",
       "      <td>1.000000e-07</td>\n",
       "      <td>0</td>\n",
       "    </tr>\n",
       "  </tbody>\n",
       "</table>\n",
       "</div>"
      ],
      "text/plain": [
       "   xgb_pred  lgb_pred   rf_pred  log_pred      svc_pred  actual\n",
       "0  0.006148  0.108690  0.039658       0.0  1.000000e-07       0\n",
       "1  0.043399  0.135363  0.080101       0.0  1.000000e-07       0\n",
       "2  0.281030  0.354230  0.283404       0.0  1.000000e-07       0\n",
       "3  0.538680  0.293763  0.458449       0.0  1.000000e-07       0\n",
       "4  0.009010  0.118185  0.080996       0.0  1.000000e-07       0\n",
       "5  0.005451  0.109935  0.045332       0.0  1.000000e-07       0\n",
       "6  0.005802  0.124478  0.030440       0.0  1.000000e-07       0\n",
       "7  0.017966  0.093955  0.048342       0.0  1.000000e-07       0\n",
       "8  0.010260  0.097249  0.013883       0.0  1.000000e-07       0\n",
       "9  0.010389  0.132889  0.091374       0.0  1.000000e-07       0"
      ]
     },
     "execution_count": 87,
     "metadata": {},
     "output_type": "execute_result"
    }
   ],
   "source": [
    "predictions_df_probs[predictions_df_probs['actual'] == 0].head(10)"
   ]
  },
  {
   "cell_type": "code",
   "execution_count": 88,
   "metadata": {},
   "outputs": [
    {
     "data": {
      "text/html": [
       "<div>\n",
       "<style scoped>\n",
       "    .dataframe tbody tr th:only-of-type {\n",
       "        vertical-align: middle;\n",
       "    }\n",
       "\n",
       "    .dataframe tbody tr th {\n",
       "        vertical-align: top;\n",
       "    }\n",
       "\n",
       "    .dataframe thead th {\n",
       "        text-align: right;\n",
       "    }\n",
       "</style>\n",
       "<table border=\"1\" class=\"dataframe\">\n",
       "  <thead>\n",
       "    <tr style=\"text-align: right;\">\n",
       "      <th></th>\n",
       "      <th>xgb_pred</th>\n",
       "      <th>lgb_pred</th>\n",
       "      <th>rf_pred</th>\n",
       "      <th>log_pred</th>\n",
       "      <th>svc_pred</th>\n",
       "      <th>actual</th>\n",
       "    </tr>\n",
       "  </thead>\n",
       "  <tbody>\n",
       "    <tr>\n",
       "      <th>10</th>\n",
       "      <td>0.606796</td>\n",
       "      <td>0.463274</td>\n",
       "      <td>0.360117</td>\n",
       "      <td>0.0</td>\n",
       "      <td>1.000000e-07</td>\n",
       "      <td>1</td>\n",
       "    </tr>\n",
       "    <tr>\n",
       "      <th>11</th>\n",
       "      <td>0.377779</td>\n",
       "      <td>0.394253</td>\n",
       "      <td>0.667574</td>\n",
       "      <td>0.0</td>\n",
       "      <td>1.000000e-07</td>\n",
       "      <td>1</td>\n",
       "    </tr>\n",
       "    <tr>\n",
       "      <th>21</th>\n",
       "      <td>0.009337</td>\n",
       "      <td>0.137735</td>\n",
       "      <td>0.043991</td>\n",
       "      <td>0.0</td>\n",
       "      <td>1.000000e-07</td>\n",
       "      <td>1</td>\n",
       "    </tr>\n",
       "    <tr>\n",
       "      <th>43</th>\n",
       "      <td>0.006822</td>\n",
       "      <td>0.175557</td>\n",
       "      <td>0.044283</td>\n",
       "      <td>0.0</td>\n",
       "      <td>1.000000e-07</td>\n",
       "      <td>1</td>\n",
       "    </tr>\n",
       "    <tr>\n",
       "      <th>107</th>\n",
       "      <td>0.004953</td>\n",
       "      <td>0.098636</td>\n",
       "      <td>0.009567</td>\n",
       "      <td>0.0</td>\n",
       "      <td>1.000000e-07</td>\n",
       "      <td>1</td>\n",
       "    </tr>\n",
       "    <tr>\n",
       "      <th>159</th>\n",
       "      <td>0.309976</td>\n",
       "      <td>0.288429</td>\n",
       "      <td>0.311299</td>\n",
       "      <td>0.0</td>\n",
       "      <td>1.000000e-07</td>\n",
       "      <td>1</td>\n",
       "    </tr>\n",
       "    <tr>\n",
       "      <th>161</th>\n",
       "      <td>0.005457</td>\n",
       "      <td>0.127535</td>\n",
       "      <td>0.039516</td>\n",
       "      <td>0.0</td>\n",
       "      <td>1.000000e-07</td>\n",
       "      <td>1</td>\n",
       "    </tr>\n",
       "    <tr>\n",
       "      <th>178</th>\n",
       "      <td>0.167520</td>\n",
       "      <td>0.192762</td>\n",
       "      <td>0.174392</td>\n",
       "      <td>0.0</td>\n",
       "      <td>1.000000e-07</td>\n",
       "      <td>1</td>\n",
       "    </tr>\n",
       "    <tr>\n",
       "      <th>180</th>\n",
       "      <td>0.004517</td>\n",
       "      <td>0.093401</td>\n",
       "      <td>0.012048</td>\n",
       "      <td>0.0</td>\n",
       "      <td>1.000000e-07</td>\n",
       "      <td>1</td>\n",
       "    </tr>\n",
       "    <tr>\n",
       "      <th>182</th>\n",
       "      <td>0.013904</td>\n",
       "      <td>0.158935</td>\n",
       "      <td>0.101237</td>\n",
       "      <td>0.0</td>\n",
       "      <td>1.000000e-07</td>\n",
       "      <td>1</td>\n",
       "    </tr>\n",
       "  </tbody>\n",
       "</table>\n",
       "</div>"
      ],
      "text/plain": [
       "     xgb_pred  lgb_pred   rf_pred  log_pred      svc_pred  actual\n",
       "10   0.606796  0.463274  0.360117       0.0  1.000000e-07       1\n",
       "11   0.377779  0.394253  0.667574       0.0  1.000000e-07       1\n",
       "21   0.009337  0.137735  0.043991       0.0  1.000000e-07       1\n",
       "43   0.006822  0.175557  0.044283       0.0  1.000000e-07       1\n",
       "107  0.004953  0.098636  0.009567       0.0  1.000000e-07       1\n",
       "159  0.309976  0.288429  0.311299       0.0  1.000000e-07       1\n",
       "161  0.005457  0.127535  0.039516       0.0  1.000000e-07       1\n",
       "178  0.167520  0.192762  0.174392       0.0  1.000000e-07       1\n",
       "180  0.004517  0.093401  0.012048       0.0  1.000000e-07       1\n",
       "182  0.013904  0.158935  0.101237       0.0  1.000000e-07       1"
      ]
     },
     "execution_count": 88,
     "metadata": {},
     "output_type": "execute_result"
    }
   ],
   "source": [
    "predictions_df_probs[predictions_df_probs['actual'] == 1].head(10)"
   ]
  },
  {
   "cell_type": "code",
   "execution_count": 89,
   "metadata": {},
   "outputs": [],
   "source": [
    "predictions_df = pd.DataFrame({'xgb_predict': xgb_predict,\n",
    "                              'lgb_predict': lgb_predict,\n",
    "                              'rf_predict': rf_predict,\n",
    "                              'log_predict': log_predict,\n",
    "                              'svc_predict': svc_predict,\n",
    "                              'actual': y_valid})"
   ]
  },
  {
   "cell_type": "code",
   "execution_count": 90,
   "metadata": {},
   "outputs": [
    {
     "data": {
      "text/html": [
       "<div>\n",
       "<style scoped>\n",
       "    .dataframe tbody tr th:only-of-type {\n",
       "        vertical-align: middle;\n",
       "    }\n",
       "\n",
       "    .dataframe tbody tr th {\n",
       "        vertical-align: top;\n",
       "    }\n",
       "\n",
       "    .dataframe thead th {\n",
       "        text-align: right;\n",
       "    }\n",
       "</style>\n",
       "<table border=\"1\" class=\"dataframe\">\n",
       "  <thead>\n",
       "    <tr style=\"text-align: right;\">\n",
       "      <th></th>\n",
       "      <th>xgb_predict</th>\n",
       "      <th>lgb_predict</th>\n",
       "      <th>rf_predict</th>\n",
       "      <th>log_predict</th>\n",
       "      <th>svc_predict</th>\n",
       "      <th>actual</th>\n",
       "    </tr>\n",
       "  </thead>\n",
       "  <tbody>\n",
       "    <tr>\n",
       "      <th>10</th>\n",
       "      <td>1</td>\n",
       "      <td>1</td>\n",
       "      <td>1</td>\n",
       "      <td>0</td>\n",
       "      <td>0</td>\n",
       "      <td>1</td>\n",
       "    </tr>\n",
       "    <tr>\n",
       "      <th>11</th>\n",
       "      <td>1</td>\n",
       "      <td>1</td>\n",
       "      <td>1</td>\n",
       "      <td>0</td>\n",
       "      <td>0</td>\n",
       "      <td>1</td>\n",
       "    </tr>\n",
       "    <tr>\n",
       "      <th>21</th>\n",
       "      <td>0</td>\n",
       "      <td>0</td>\n",
       "      <td>0</td>\n",
       "      <td>0</td>\n",
       "      <td>0</td>\n",
       "      <td>1</td>\n",
       "    </tr>\n",
       "    <tr>\n",
       "      <th>43</th>\n",
       "      <td>0</td>\n",
       "      <td>1</td>\n",
       "      <td>0</td>\n",
       "      <td>0</td>\n",
       "      <td>0</td>\n",
       "      <td>1</td>\n",
       "    </tr>\n",
       "    <tr>\n",
       "      <th>107</th>\n",
       "      <td>0</td>\n",
       "      <td>0</td>\n",
       "      <td>0</td>\n",
       "      <td>0</td>\n",
       "      <td>0</td>\n",
       "      <td>1</td>\n",
       "    </tr>\n",
       "    <tr>\n",
       "      <th>159</th>\n",
       "      <td>1</td>\n",
       "      <td>1</td>\n",
       "      <td>1</td>\n",
       "      <td>0</td>\n",
       "      <td>0</td>\n",
       "      <td>1</td>\n",
       "    </tr>\n",
       "    <tr>\n",
       "      <th>161</th>\n",
       "      <td>0</td>\n",
       "      <td>0</td>\n",
       "      <td>0</td>\n",
       "      <td>0</td>\n",
       "      <td>0</td>\n",
       "      <td>1</td>\n",
       "    </tr>\n",
       "    <tr>\n",
       "      <th>178</th>\n",
       "      <td>1</td>\n",
       "      <td>1</td>\n",
       "      <td>1</td>\n",
       "      <td>0</td>\n",
       "      <td>0</td>\n",
       "      <td>1</td>\n",
       "    </tr>\n",
       "    <tr>\n",
       "      <th>180</th>\n",
       "      <td>0</td>\n",
       "      <td>0</td>\n",
       "      <td>0</td>\n",
       "      <td>0</td>\n",
       "      <td>0</td>\n",
       "      <td>1</td>\n",
       "    </tr>\n",
       "    <tr>\n",
       "      <th>182</th>\n",
       "      <td>0</td>\n",
       "      <td>0</td>\n",
       "      <td>0</td>\n",
       "      <td>0</td>\n",
       "      <td>0</td>\n",
       "      <td>1</td>\n",
       "    </tr>\n",
       "  </tbody>\n",
       "</table>\n",
       "</div>"
      ],
      "text/plain": [
       "     xgb_predict  lgb_predict  rf_predict  log_predict  svc_predict  actual\n",
       "10             1            1           1            0            0       1\n",
       "11             1            1           1            0            0       1\n",
       "21             0            0           0            0            0       1\n",
       "43             0            1           0            0            0       1\n",
       "107            0            0           0            0            0       1\n",
       "159            1            1           1            0            0       1\n",
       "161            0            0           0            0            0       1\n",
       "178            1            1           1            0            0       1\n",
       "180            0            0           0            0            0       1\n",
       "182            0            0           0            0            0       1"
      ]
     },
     "execution_count": 90,
     "metadata": {},
     "output_type": "execute_result"
    }
   ],
   "source": [
    "predictions_df[predictions_df['actual'] == 1].head(10)"
   ]
  },
  {
   "cell_type": "code",
   "execution_count": 319,
   "metadata": {
    "extensions": {
     "jupyter_dashboards": {
      "version": 1,
      "views": {
       "grid_default": {
        "hidden": true
       },
       "report_default": {}
      }
     }
    }
   },
   "outputs": [],
   "source": [
    "### ONE-CLASS METHODS ###\n",
    "\n",
    "class oneclass_models():\n",
    "    \n",
    "    def __init__():\n",
    "        \"\"\" this class contains several modelling algorithms for one-class classification/anomaly detection \"\"\"\n",
    "\n",
    "    def data_prepare(X_train, X_valid):\n",
    "        # split and create 2 dataframes corresponing to positive/negative classes\n",
    "        Negatives=X_train[X_train['response']==0]\n",
    "        Positives=X_train[X_train['response']==1]\n",
    "        Negatives.drop(['response'], axis=1, inplace=True)\n",
    "        Positives.drop(['response'], axis=1, inplace=True)\n",
    "        print(Negatives.shape)\n",
    "        print(Positives.shape)\n",
    "        \n",
    "        # remove response from validation df too\n",
    "        X_v = X_valid.drop(['response'], axis=1, inplace=False)\n",
    "        print(X_v.shape)\n",
    "        \n",
    "        # take a random fraction of the negatives to reduce computation time\n",
    "        Negatives = Negatives.sample(frac=0.1, replace=False, random_state=1)\n",
    "        \n",
    "        return Positives, Negatives, X_v\n",
    "        \n",
    "    def uni_svm(X_train, X_valid):\n",
    "        \"\"\" one-class svm by training separately on positives and negatives \"\"\"\n",
    "        \n",
    "        Positives, Negatives, X_v = oneclass_models.data_prepare(X_train, X_valid)\n",
    "        \n",
    "        # Set the parameters by cross-validation\n",
    "        params = [{'kernel': ['rbf'],\n",
    "                   'gamma': [0.01, 0.1, 0.5],\n",
    "                   'nu': [0.01, 0.1, 0.5]}]\n",
    "\n",
    "        clf_P = GridSearchCV(OneClassSVM(), cv=3, param_grid=params, scoring='accuracy', verbose=True)\n",
    "        clf_N = GridSearchCV(OneClassSVM(), cv=3, param_grid=params, scoring='accuracy', verbose=True)\n",
    "        clf_P.fit(X=Positives, y=np.full(len(Positives),1))\n",
    "        print('positive model fit \\n')\n",
    "        clf_N.fit(X=Negatives, y=np.full(len(Negatives),1))\n",
    "        print('negative model fit \\n')\n",
    "        clf_AD_P = OneClassSVM(gamma=clf_P.best_params_['gamma'],\n",
    "                                      kernel=clf_P.best_params_['kernel'], nu=clf_P.best_params_['nu'], verbose=True)\n",
    "        clf_AD_P.fit(Positives)\n",
    "        clf_AD_N = OneClassSVM(gamma=clf_N.best_params_['gamma'],\n",
    "                                      kernel=clf_N.best_params_['kernel'], nu=clf_N.best_params_['nu'], verbose=True)\n",
    "        clf_AD_N.fit(Negatives)\n",
    "\n",
    "        valid_pred_P=clf_AD_P.predict(X_v)\n",
    "        valid_pred_N=clf_AD_N.predict(X_v)\n",
    "        \n",
    "        return valid_pred_P, valid_pred_N, clf_AD_P, clf_AD_N\n",
    "    \n",
    "    def score_table(valid_pred_P, valid_pred_N):\n",
    "        table = pd.DataFrame({'P': valid_pred_P,\n",
    "                              'N': -1*valid_pred_N,\n",
    "                              'O': y_valid})\n",
    "        table['P_N'] = np.where((table['P'] == 1) & (table['N'] == -1), 1, 0)\n",
    "\n",
    "        print(sklearn.metrics.accuracy_score(y_pred=table['P_N'], y_true=table['O']))\n",
    "        print(sklearn.metrics.precision_score(y_pred=table['P_N'], y_true=table['O']))\n",
    "        print(sklearn.metrics.recall_score(y_pred=table['P_N'], y_true=table['O']))\n",
    "        \n",
    "        return table        "
   ]
  },
  {
   "cell_type": "code",
   "execution_count": 320,
   "metadata": {
    "extensions": {
     "jupyter_dashboards": {
      "version": 1,
      "views": {
       "grid_default": {
        "col": 8,
        "height": 5,
        "hidden": false,
        "row": 0,
        "width": 4
       },
       "report_default": {}
      }
     }
    }
   },
   "outputs": [
    {
     "name": "stderr",
     "output_type": "stream",
     "text": [
      "C:\\Users\\Lenovo\\Anaconda3\\lib\\site-packages\\pandas\\core\\frame.py:3694: SettingWithCopyWarning: \n",
      "A value is trying to be set on a copy of a slice from a DataFrame\n",
      "\n",
      "See the caveats in the documentation: http://pandas.pydata.org/pandas-docs/stable/indexing.html#indexing-view-versus-copy\n",
      "  errors=errors)\n"
     ]
    },
    {
     "name": "stdout",
     "output_type": "stream",
     "text": [
      "(11427, 318)\n",
      "(572, 318)\n",
      "(5734, 318)\n",
      "Fitting 3 folds for each of 9 candidates, totalling 27 fits\n"
     ]
    },
    {
     "name": "stderr",
     "output_type": "stream",
     "text": [
      "[Parallel(n_jobs=1)]: Done  27 out of  27 | elapsed:    4.5s finished\n"
     ]
    },
    {
     "name": "stdout",
     "output_type": "stream",
     "text": [
      "positive model fit \n",
      "\n",
      "Fitting 3 folds for each of 9 candidates, totalling 27 fits\n"
     ]
    },
    {
     "name": "stderr",
     "output_type": "stream",
     "text": [
      "[Parallel(n_jobs=1)]: Done  27 out of  27 | elapsed:   18.1s finished\n"
     ]
    },
    {
     "name": "stdout",
     "output_type": "stream",
     "text": [
      "negative model fit \n",
      "\n",
      "[LibSVM][LibSVM]"
     ]
    }
   ],
   "source": [
    "p, n, clf_p, clf_n = oneclass_models.uni_svm(X_train=X_train, X_valid=X_valid)\n",
    "\n",
    "table=oneclass_models.score_table(valid_pred_N=n, valid_pred_P=p)"
   ]
  },
  {
   "cell_type": "code",
   "execution_count": 86,
   "metadata": {
    "extensions": {
     "jupyter_dashboards": {
      "version": 1,
      "views": {
       "grid_default": {
        "col": 8,
        "height": 4,
        "hidden": false,
        "row": 9,
        "width": 4
       },
       "report_default": {}
      }
     }
    }
   },
   "outputs": [
    {
     "data": {
      "text/plain": [
       "IsolationForest(bootstrap=False, contamination=0.1, max_features=0.3,\n",
       "        max_samples='auto', n_estimators=200, n_jobs=1, random_state=None,\n",
       "        verbose=0)"
      ]
     },
     "execution_count": 86,
     "metadata": {},
     "output_type": "execute_result"
    }
   ],
   "source": [
    "IFA=IsolationForest(n_estimators=200, max_features=0.3)\n",
    "IFA.fit(Negatives)\n",
    "\n",
    "train_IFA=IFA.predict(Negatives)\n",
    "test_IFA=IFA.predict(Positives)"
   ]
  },
  {
   "cell_type": "code",
   "execution_count": null,
   "metadata": {},
   "outputs": [],
   "source": [
    "# function to return interpretation across methods (specify which or All)\n",
    "\n",
    "class model_interpret():\n",
    "    \n",
    "    def __init__():\n",
    "        \"\"\" this module takes as input the model and train/test datasets to generate interpretations of the\n",
    "        predictions generated by the model\n",
    "        LIME and SHAP methods have been added as a provision currently, treeinterpreter will be added later\n",
    "        \"\"\"\n",
    "    \n",
    "    def lime_interpreter(feat_names, classnames, categindices, categnames, \n",
    "                         kw, num_feature, train, test, n):\n",
    "        explainer = lime.lime_tabular.LimeTabularExplainer(training_data = train.values,\n",
    "                                                   feature_names = list(feat_names),\n",
    "                                                   class_names = classnames,\n",
    "                                                   categorical_features=categindices, \n",
    "                                                   categorical_names=categnames, kernel_width = kw)\n",
    "        xtest = test.values\n",
    "        exp = explainer.explain_instance(xtest[n], model.predict_proba, num_features = num_feature)\n",
    "        return exp.show_in_notebook()\n",
    "    \n",
    "    def shap_interpreter(model, train, test, n, method = 'tree'):\n",
    "        \"\"\" specify n as the prediction/observation you want the interpretation to be returned for \"\"\"\n",
    "        \n",
    "        if method == 'tree':\n",
    "            # create our SHAP explainer\n",
    "            shap_explainer = shap.TreeExplainer(model)\n",
    "            # calculate the shapley values for our test set\n",
    "            shap_values = shap_explainer.shap_values(test.values)\n",
    "        elif method == 'kernel':\n",
    "            # create our SHAP explainer\n",
    "            shap_explainer = shap.KernelExplainer(model.predict_proba, shap.kmeans(train[:100], 5))\n",
    "            shap_values = shap_explainer.shap_values(test.values)\n",
    "            \n",
    "        # load JS in order to use some of the plotting functions from the shap package in the notebook\n",
    "        shap.initjs()\n",
    "        \n",
    "        # plot the explanation for a single prediction\n",
    "        return shap.force_plot(shap_values[n, :], test.iloc[n, :])\n",
    "    \n",
    "    def model_interpreter(interpreter_algo, train, test, shap_method = 'tree', kw = 3, n = 0, model = None,\n",
    "                          feat_names = None, classnames = None,\n",
    "                          categindices = None, categnames = None, num_feature = None):\n",
    "        if interpreter_algo == 'lime':\n",
    "            return model_interpret.lime_interpreter(feat_names, classnames, categindices, categnames,\n",
    "                                                    kw, num_feature, train, test, n)\n",
    "        elif interpreter_algo == 'shap':\n",
    "            return model_interpret.shap_interpreter(model, train, test, n, method = shap_method)"
   ]
  },
  {
   "cell_type": "code",
   "execution_count": null,
   "metadata": {},
   "outputs": [],
   "source": [
    "x = model_interpret.model_interpreter(interpreter_algo='lime', model = model, train = X_train, test = X_test, feat_names = feat_names,\n",
    "                                  classnames = ['not delayed', 'delayed'], categindices = categ_idx, categnames = categ_names,\n",
    "                                 num_feature = 5, n=0)"
   ]
  },
  {
   "cell_type": "code",
   "execution_count": null,
   "metadata": {},
   "outputs": [],
   "source": []
  }
 ],
 "metadata": {
  "kernelspec": {
   "display_name": "Python [conda env:Anaconda3]",
   "language": "python",
   "name": "conda-env-Anaconda3-py"
  },
  "language_info": {
   "codemirror_mode": {
    "name": "ipython",
    "version": 3
   },
   "file_extension": ".py",
   "mimetype": "text/x-python",
   "name": "python",
   "nbconvert_exporter": "python",
   "pygments_lexer": "ipython3",
   "version": "3.6.5"
  }
 },
 "nbformat": 4,
 "nbformat_minor": 2
}
