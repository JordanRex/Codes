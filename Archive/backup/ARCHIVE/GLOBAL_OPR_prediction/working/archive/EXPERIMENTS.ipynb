{
 "cells": [
  {
   "cell_type": "markdown",
   "metadata": {},
   "source": [
    "## EXPERIMENT"
   ]
  },
  {
   "cell_type": "code",
   "execution_count": 222,
   "metadata": {},
   "outputs": [],
   "source": [
    "%reset -f\n",
    "\n",
    "import sys, pandas as pd, numpy as np, inspect, re as re, functools as functools, pickle, glob, warnings, os as os\n",
    "\n",
    "from tqdm import tqdm\n",
    "from hyperopt import hp, tpe, STATUS_OK, fmin, Trials\n",
    "from hyperopt.fmin import fmin\n",
    "from hyperopt.pyll.stochastic import sample\n",
    "\n",
    "# sklearn packages\n",
    "import sklearn.metrics as skm\n",
    "\n",
    "# some options/variables\n",
    "randomseed = 1 # the value for the random state used at various points in the pipeline\n",
    "pd.options.display.max_rows = 50 # specify if you want the full output in cells rather the truncated list\n",
    "pd.options.display.max_columns = 200\n",
    "\n",
    "# to display multiple outputs in a cell without usin print/display\n",
    "from IPython.core.interactiveshell import InteractiveShell\n",
    "InteractiveShell.ast_node_interactivity = \"all\"\n",
    "\n",
    "# append the scripts path to pythonpath\n",
    "sys.path.append('../input/SCRIPTS/')\n",
    "\n",
    "# ignore warnings (only if you are the kind that would code when the world is burning)\n",
    "warnings.filterwarnings('ignore')\n",
    "\n",
    "# plot inline\n",
    "%matplotlib inline\n",
    "import matplotlib\n",
    "import matplotlib.pyplot as plt\n",
    "\n",
    "# # import the various ml modules\n",
    "import xgboost as xgb\n",
    "\n",
    "############################################## import the custom modules ################################\n",
    "import helperfuncs as helper\n",
    "import feateng as fte\n",
    "import misc as miscfun\n",
    "from misc import ce_encodings, DataFrameImputer, scalers\n",
    "\n",
    "# instantiate the classes\n",
    "helpers = helper.helper_funcs()\n",
    "cust_funcs = fte.custom_funcs()\n",
    "feat_sel = miscfun.feat_selection()\n",
    "\n",
    "#############################################################################################################\n",
    "# global function to flatten columns after a grouped operation and aggregation\n",
    "# outside all classes since it is added as an attribute to pandas DataFrames\n",
    "def __my_flatten_cols(self, how=\"_\".join, reset_index=True):\n",
    "    how = (lambda iter: list(iter)[-1]) if how == \"last\" else how\n",
    "    self.columns = [how(filter(None, map(str, levels))) for levels in self.columns.values] \\\n",
    "    if isinstance(self.columns, pd.MultiIndex) else self.columns\n",
    "    return self.reset_index(drop=True) if reset_index else self\n",
    "pd.DataFrame.my_flatten_cols = __my_flatten_cols"
   ]
  },
  {
   "cell_type": "code",
   "execution_count": 223,
   "metadata": {},
   "outputs": [],
   "source": [
    "dep_dict = {'4A': 4, \n",
    "            '4B': 3, \n",
    "            '3A': 2, \n",
    "            '3B': 1, \n",
    "            '1A': 0}"
   ]
  },
  {
   "cell_type": "code",
   "execution_count": 224,
   "metadata": {},
   "outputs": [],
   "source": [
    "## load backup\n",
    "ads_backup = open('../working/ads_backup.pkl', 'rb')\n",
    "train = pickle.load(ads_backup)\n",
    "valid = pickle.load(ads_backup)\n",
    "ytrain = pickle.load(ads_backup)\n",
    "yvalid = pickle.load(ads_backup)\n",
    "ads_backup.close()"
   ]
  },
  {
   "cell_type": "code",
   "execution_count": 225,
   "metadata": {},
   "outputs": [
    {
     "data": {
      "text/plain": [
       "array([[0.0000e+00, 1.0430e+03],\n",
       "       [1.0000e+00, 2.4910e+03],\n",
       "       [2.0000e+00, 1.8272e+04],\n",
       "       [3.0000e+00, 1.0272e+04],\n",
       "       [4.0000e+00, 3.5790e+03],\n",
       "       [5.0000e+00, 1.0740e+03]])"
      ]
     },
     "execution_count": 225,
     "metadata": {},
     "output_type": "execute_result"
    },
    {
     "data": {
      "text/plain": [
       "array([[0.0000e+00, 7.4500e+02],\n",
       "       [1.0000e+00, 1.7260e+03],\n",
       "       [2.0000e+00, 1.2956e+04],\n",
       "       [3.0000e+00, 7.6650e+03],\n",
       "       [4.0000e+00, 2.7860e+03],\n",
       "       [5.0000e+00, 8.8000e+02]])"
      ]
     },
     "execution_count": 225,
     "metadata": {},
     "output_type": "execute_result"
    }
   ],
   "source": [
    "np.array(np.unique(ytrain, return_counts=True)).T\n",
    "np.array(np.unique(yvalid, return_counts=True)).T"
   ]
  },
  {
   "cell_type": "code",
   "execution_count": 226,
   "metadata": {},
   "outputs": [
    {
     "data": {
      "text/plain": [
       "((36731, 121), (8057, 121))"
      ]
     },
     "execution_count": 226,
     "metadata": {},
     "output_type": "execute_result"
    },
    {
     "data": {
      "text/plain": [
       "((26758, 121), (5906, 121))"
      ]
     },
     "execution_count": 226,
     "metadata": {},
     "output_type": "execute_result"
    },
    {
     "data": {
      "text/plain": [
       "array([[1.000e+00, 5.230e+02],\n",
       "       [2.000e+00, 3.743e+03],\n",
       "       [3.000e+00, 2.508e+03],\n",
       "       [4.000e+00, 9.850e+02],\n",
       "       [5.000e+00, 2.980e+02]])"
      ]
     },
     "execution_count": 226,
     "metadata": {},
     "output_type": "execute_result"
    }
   ],
   "source": [
    "dummy_train = train.copy()\n",
    "dummy_valid = valid.copy()\n",
    "dummy_train['response'] = ytrain.copy()\n",
    "dummy_valid['response'] = yvalid.copy()\n",
    "\n",
    "# filter for BANDS 0-5 and OPR above 1B\n",
    "train_0to5 = dummy_train[(dummy_train['employee_band']<11) & (dummy_train['response']>0)]\n",
    "valid_0to5 = dummy_valid[dummy_valid['employee_band']<11]\n",
    "train_0to5.reset_index(drop=True, inplace=True)\n",
    "valid_0to5.reset_index(drop=True, inplace=True)\n",
    "ytrain_0to5 = train_0to5.response.values\n",
    "yvalid_0to5 = valid_0to5.response.values\n",
    "train_0to5.drop(columns=['response'], inplace=True)\n",
    "valid_0to5.drop(columns=['response'], inplace=True)\n",
    "\n",
    "train.shape, train_0to5.shape\n",
    "valid.shape, valid_0to5.shape\n",
    "\n",
    "np.array(np.unique(ytrain_0to5, return_counts=True)).T"
   ]
  },
  {
   "cell_type": "code",
   "execution_count": 227,
   "metadata": {},
   "outputs": [],
   "source": [
    "ytrain_0to5 = ytrain_0to5-1\n",
    "yvalid_0to5 = yvalid_0to5-1"
   ]
  },
  {
   "cell_type": "code",
   "execution_count": 228,
   "metadata": {},
   "outputs": [
    {
     "data": {
      "text/plain": [
       "array([[0.000e+00, 5.230e+02],\n",
       "       [1.000e+00, 3.743e+03],\n",
       "       [2.000e+00, 2.508e+03],\n",
       "       [3.000e+00, 9.850e+02],\n",
       "       [4.000e+00, 2.980e+02]])"
      ]
     },
     "execution_count": 228,
     "metadata": {},
     "output_type": "execute_result"
    },
    {
     "data": {
      "text/plain": [
       "array([[-1.000e+00,  1.840e+02],\n",
       "       [ 0.000e+00,  3.430e+02],\n",
       "       [ 1.000e+00,  2.641e+03],\n",
       "       [ 2.000e+00,  1.776e+03],\n",
       "       [ 3.000e+00,  7.270e+02],\n",
       "       [ 4.000e+00,  2.350e+02]])"
      ]
     },
     "execution_count": 228,
     "metadata": {},
     "output_type": "execute_result"
    }
   ],
   "source": [
    "np.array(np.unique(ytrain_0to5, return_counts=True)).T\n",
    "np.array(np.unique(yvalid_0to5, return_counts=True)).T"
   ]
  },
  {
   "cell_type": "code",
   "execution_count": 206,
   "metadata": {},
   "outputs": [
    {
     "data": {
      "text/plain": [
       "((8057, 121), (8057,))"
      ]
     },
     "execution_count": 206,
     "metadata": {},
     "output_type": "execute_result"
    },
    {
     "data": {
      "text/plain": [
       "((5906, 121), (5906,))"
      ]
     },
     "execution_count": 206,
     "metadata": {},
     "output_type": "execute_result"
    },
    {
     "data": {
      "text/plain": [
       "((8057, 121), (8057,))"
      ]
     },
     "execution_count": 206,
     "metadata": {},
     "output_type": "execute_result"
    },
    {
     "data": {
      "text/plain": [
       "((5904, 121), (5904,))"
      ]
     },
     "execution_count": 206,
     "metadata": {},
     "output_type": "execute_result"
    }
   ],
   "source": [
    "train_0to5.shape, ytrain_0to5.shape\n",
    "valid_0to5.shape, yvalid_0to5.shape\n",
    "\n",
    "train_0to5['response'] = ytrain_0to5\n",
    "valid_0to5['response'] = yvalid_0to5\n",
    "train_0to5.drop_duplicates(subset=['global_id', 'year'], inplace=True)\n",
    "valid_0to5.drop_duplicates(subset=['global_id', 'year'], inplace=True)\n",
    "ytrain_0to5 = np.array(train_0to5['response'])\n",
    "yvalid_0to5 = np.array(valid_0to5['response'])\n",
    "train_0to5.drop(columns=['response'], inplace=True)\n",
    "valid_0to5.drop(columns=['response'], inplace=True)\n",
    "\n",
    "train_0to5.shape, ytrain_0to5.shape\n",
    "valid_0to5.shape, yvalid_0to5.shape"
   ]
  },
  {
   "cell_type": "markdown",
   "metadata": {},
   "source": [
    "## MAIN FEATURE LIST EXPERIMENT"
   ]
  },
  {
   "cell_type": "code",
   "execution_count": 207,
   "metadata": {},
   "outputs": [],
   "source": [
    "experiment_cols = ['global_id', 'year', 'zone', 'employee_band', 'opr_prev', 'opr_prev_prev',\n",
    "                   'mr_pers_compgroup_year_comp_score_mean_leadership_competencies',\n",
    "                   'mr_pers_compgroupl1_year_comp_score_mean_leadership_competencies_develop_people',\n",
    "                   'mr_pers_compgroupl1_year_comp_score_mean_leadership_competencies_dream_big',\n",
    "                   'mr_pers_compgroupl1_year_comp_score_mean_leadership_competencies_live_our_culture',\n",
    "                  'time_in_band', 'position_tenure', #tenure features\n",
    "                  'position_velocity', 'index_average', #career velocity\n",
    "                  'net_target', 'target_delta', #target\n",
    "                  'pdi_score', 'pdi_score_category', #pdi\n",
    "                  'fc_count', 'lc_count', #PDP\n",
    "                  'function', #function\n",
    "                   'ebm_level', #EBM\n",
    "                  'talent_pool', 'count_of_belts', #talent pool and belts flag\n",
    "                   'talentpool_renomination', #talent pool renimation\n",
    "                  'teamsize', 'teamsize_delta', #teamsize and teamsize between years\n",
    "                  'engagement_score', 'manager_effectiveness_score'] #engagement features"
   ]
  },
  {
   "cell_type": "code",
   "execution_count": 208,
   "metadata": {},
   "outputs": [],
   "source": [
    "train_exp = train_0to5[experiment_cols].copy()\n",
    "valid_exp = valid_0to5[experiment_cols].copy()\n",
    "ytrain_exp = ytrain_0to5.copy()\n",
    "yvalid_exp = yvalid_0to5.copy()"
   ]
  },
  {
   "cell_type": "code",
   "execution_count": 209,
   "metadata": {},
   "outputs": [
    {
     "data": {
      "text/plain": [
       "((8057, 30), (5904, 30))"
      ]
     },
     "execution_count": 209,
     "metadata": {},
     "output_type": "execute_result"
    },
    {
     "data": {
      "text/plain": [
       "((8057,), (5904,))"
      ]
     },
     "execution_count": 209,
     "metadata": {},
     "output_type": "execute_result"
    }
   ],
   "source": [
    "train_exp.shape, valid_exp.shape\n",
    "ytrain_exp.shape, yvalid_exp.shape"
   ]
  },
  {
   "cell_type": "code",
   "execution_count": 210,
   "metadata": {},
   "outputs": [],
   "source": [
    "################ to filter out 2016 #####################\n",
    "\n",
    "train_exp['response'] = ytrain_exp\n",
    "trainnew = train_exp[train_exp['year']==2017]\n",
    "trainnew.reset_index(drop=True, inplace=True)\n",
    "ytrainnew = np.array(trainnew.response)\n",
    "trainnew.drop(columns=['response'], inplace=True)\n",
    "train_exp.drop(columns=['response'], inplace=True)\n",
    "\n",
    "validnew = valid_exp.copy()\n",
    "yvalidnew = yvalid_exp.copy()"
   ]
  },
  {
   "cell_type": "code",
   "execution_count": 211,
   "metadata": {},
   "outputs": [
    {
     "data": {
      "text/plain": [
       "((4916, 30), (5904, 30))"
      ]
     },
     "execution_count": 211,
     "metadata": {},
     "output_type": "execute_result"
    },
    {
     "data": {
      "text/plain": [
       "((4916,), (5904,))"
      ]
     },
     "execution_count": 211,
     "metadata": {},
     "output_type": "execute_result"
    }
   ],
   "source": [
    "trainnew.shape, validnew.shape\n",
    "ytrainnew.shape, yvalidnew.shape"
   ]
  },
  {
   "cell_type": "code",
   "execution_count": 214,
   "metadata": {},
   "outputs": [
    {
     "name": "stdout",
     "output_type": "stream",
     "text": [
      "category encoding is happening ... \n",
      "\n",
      "category encoding completed \n",
      "\n",
      "[0]\ttrain-mlogloss:1.59814\ttrain-merror:0.297742\ttest-mlogloss:1.60281\ttest-merror:0.533572\n",
      "Multiple eval metrics have been passed: 'test-merror' will be used for early stopping.\n",
      "\n",
      "Will train until test-merror hasn't improved in 100 rounds.\n",
      "[10]\ttrain-mlogloss:1.49198\ttrain-merror:0.147835\ttest-mlogloss:1.54323\ttest-merror:0.475277\n",
      "[20]\ttrain-mlogloss:1.39702\ttrain-merror:0.124202\ttest-mlogloss:1.49201\ttest-merror:0.473967\n",
      "[30]\ttrain-mlogloss:1.31224\ttrain-merror:0.112731\ttest-mlogloss:1.44852\ttest-merror:0.474236\n",
      "[40]\ttrain-mlogloss:1.23547\ttrain-merror:0.097689\ttest-mlogloss:1.41143\ttest-merror:0.469022\n",
      "[50]\ttrain-mlogloss:1.16622\ttrain-merror:0.091337\ttest-mlogloss:1.37895\ttest-merror:0.467368\n",
      "[60]\ttrain-mlogloss:1.10237\ttrain-merror:0.08173\ttest-mlogloss:1.35084\ttest-merror:0.466999\n",
      "[70]\ttrain-mlogloss:1.04331\ttrain-merror:0.075091\ttest-mlogloss:1.32573\ttest-merror:0.467847\n",
      "[80]\ttrain-mlogloss:0.988591\ttrain-merror:0.069321\ttest-mlogloss:1.30296\ttest-merror:0.465\n",
      "[90]\ttrain-mlogloss:0.938105\ttrain-merror:0.064232\ttest-mlogloss:1.28249\ttest-merror:0.465235\n",
      "[100]\ttrain-mlogloss:0.891381\ttrain-merror:0.060079\ttest-mlogloss:1.26472\ttest-merror:0.465638\n",
      "[110]\ttrain-mlogloss:0.847895\ttrain-merror:0.054565\ttest-mlogloss:1.24963\ttest-merror:0.466411\n",
      "[120]\ttrain-mlogloss:0.80812\ttrain-merror:0.051527\ttest-mlogloss:1.23592\ttest-merror:0.4694\n",
      "[130]\ttrain-mlogloss:0.770267\ttrain-merror:0.045767\ttest-mlogloss:1.2233\ttest-merror:0.468653\n",
      "[140]\ttrain-mlogloss:0.73541\ttrain-merror:0.043341\ttest-mlogloss:1.21222\ttest-merror:0.469853\n",
      "[150]\ttrain-mlogloss:0.702607\ttrain-merror:0.037669\ttest-mlogloss:1.20199\ttest-merror:0.46835\n",
      "[160]\ttrain-mlogloss:0.671678\ttrain-merror:0.034582\ttest-mlogloss:1.19327\ttest-merror:0.470122\n",
      "[170]\ttrain-mlogloss:0.642719\ttrain-merror:0.031406\ttest-mlogloss:1.18498\ttest-merror:0.470466\n",
      "Stopping. Best iteration:\n",
      "[75]\ttrain-mlogloss:1.01531\ttrain-merror:0.07155\ttest-mlogloss:1.31381\ttest-merror:0.464211\n",
      "\n",
      "Test error using softprob = 0.4188079007166579\n",
      "0.581192099283342\n",
      "[[  31  235   62   15    0]\n",
      " [  31 1924  606   77    3]\n",
      " [   3  590 1035  135   13]\n",
      " [   0   86  322  310    8]\n",
      " [   0   30   82   98   25]]\n"
     ]
    },
    {
     "data": {
      "text/plain": [
       "<matplotlib.axes._subplots.AxesSubplot at 0x177397515c0>"
      ]
     },
     "execution_count": 214,
     "metadata": {},
     "output_type": "execute_result"
    },
    {
     "data": {
      "image/png": "[encoded data removed]",
      "text/plain": [
       "<Figure size 432x288 with 1 Axes>"
      ]
     },
     "metadata": {
      "needs_background": "light"
     },
     "output_type": "display_data"
    }
   ],
   "source": [
    "%run -i ../input/SCRIPTS/ml_xgboost_5class.py\n",
    "\n",
    "xgb_model, xgb_feat_names, xgtrain, xgtest, xgbpred, xgb_pred_probs, pred1b = quick_model_xgb(train=trainnew.copy(), \n",
    "                                                                                      valid=validnew.copy(), \n",
    "                                                                                      ytrain=ytrainnew.copy(),\n",
    "                                                                                      yvalid=yvalidnew.copy())\n",
    "\n",
    "feature_importance_df1 = get_xgb_imp(xgb_model)\n",
    "xgb.plot_importance(xgb_model, max_num_features=20)"
   ]
  },
  {
   "cell_type": "code",
   "execution_count": 218,
   "metadata": {},
   "outputs": [],
   "source": [
    "feature_importance_df1.to_csv('final_experiment_feat_imp.csv', index=False)"
   ]
  },
  {
   "cell_type": "code",
   "execution_count": 215,
   "metadata": {},
   "outputs": [
    {
     "data": {
      "text/plain": [
       "<Figure size 432x288 with 0 Axes>"
      ]
     },
     "metadata": {},
     "output_type": "display_data"
    }
   ],
   "source": [
    "%run -i ../input/SCRIPTS/rules_and_shape_without_1B.py"
   ]
  },
  {
   "cell_type": "code",
   "execution_count": 216,
   "metadata": {},
   "outputs": [],
   "source": [
    "valid_without1b = valid_0to5.copy()\n",
    "valid_without1b['response'] = yvalid_0to5\n",
    "valid_without1b = valid_without1b[valid_without1b['response']>=0]\n",
    "valid_without1b.reset_index(drop=True, inplace=True)\n",
    "yvalid_without1b = valid_without1b.response.values\n",
    "valid_without1b.drop(columns=['response'], inplace=True)"
   ]
  },
  {
   "cell_type": "code",
   "execution_count": 217,
   "metadata": {},
   "outputs": [
    {
     "name": "stdout",
     "output_type": "stream",
     "text": [
      "0.5336479636427198\n",
      "[[ 112  171   42    6   12]\n",
      " [ 154 1900  407   51  129]\n",
      " [  36  679  721  190  150]\n",
      " [   4  133  191  229  169]\n",
      " [   0   35   63   46   91]]\n",
      "0.5341723474916973\n",
      "the rules and shape predictions distribution\n",
      "    a     b     dist\n",
      "0  1A   306  5.34872\n",
      "1  3A  1470  25.6948\n",
      "2  3B  2918  51.0051\n",
      "3  4A   532  9.29907\n",
      "4  4B   495  8.65233\n",
      "\n",
      "\n",
      "the rules and shape confusion matrix\n",
      "[[ 112  171   42    6   12]\n",
      " [ 154 1900  420   46  121]\n",
      " [  36  679  737  180  144]\n",
      " [   4  133  205  218  166]\n",
      " [   0   35   66   45   89]]\n",
      "\n",
      "\n",
      "the rules and shape precision score in the order -> [1A, 3B, 3A, 4B, 4A]\n",
      "[36.60130719 65.11309116 50.13605442 44.04040404 16.72932331]\n",
      "\n",
      "\n",
      "the zone level statistics\n",
      "                   zone  response_mapped  exact  dev1  accuracy_exact  \\\n",
      "0                GLOBAL              641    366   582       57.098284   \n",
      "1           ZONE AFRICA              369    171   329       46.341463   \n",
      "2     ZONE ASIA PACIFIC              827    399   713       48.246675   \n",
      "3           ZONE EUROPE              635    327   552       51.496063   \n",
      "4  ZONE MIDDLE AMERICAS              591    290   514       49.069374   \n",
      "5    ZONE NORTH AMERICA             1187    710  1069       59.814659   \n",
      "6    ZONE SOUTH AMERICA             1243    696  1126       55.993564   \n",
      "7                   ZXV              228     97   191       42.543860   \n",
      "\n",
      "   accuracy_dev1  \n",
      "0      90.795632  \n",
      "1      89.159892  \n",
      "2      86.215236  \n",
      "3      86.929134  \n",
      "4      86.971235  \n",
      "5      90.058972  \n",
      "6      90.587289  \n",
      "7      83.771930  \n",
      "\n",
      "\n",
      "total accuracy:  0.5341723474916973\n",
      "dev 1 accuracy:  0.8872574724698479\n"
     ]
    }
   ],
   "source": [
    "rules_and_shape_rules_df = rules_shape_rules_fn(valid=valid_without1b.copy(), \n",
    "                                                    yvalid=yvalid_without1b.copy(), \n",
    "                                                    pred=xgbpred.copy(),\n",
    "                                                    predprobs=xgb_pred_probs.copy())"
   ]
  },
  {
   "cell_type": "code",
   "execution_count": null,
   "metadata": {},
   "outputs": [],
   "source": [
    "rules_and_shape_rules_df.to_csv('dummy.csv', index=False)"
   ]
  },
  {
   "cell_type": "code",
   "execution_count": null,
   "metadata": {},
   "outputs": [],
   "source": [
    "def macro_factor_mapping(featimp, filename):\n",
    "    feat_mapping = helpers.csv_read('../working/feature_macrofactor_mapping.csv')\n",
    "    featimp = featimp.merge(feat_mapping, on=['feature'], how='left')\n",
    "    featimp['importance_perc'] = featimp['importance']/featimp['importance'].sum()\n",
    "    featimp = featimp.groupby(['macro_factor'])['importance_perc'].sum().reset_index()\n",
    "    featimp.sort_values(by=['importance_perc'], ascending=True, inplace=True)\n",
    "    featimp.reset_index(inplace=True, drop=True)\n",
    "    \n",
    "    featimp.to_csv(str('../working/' + filename + '.csv'), index=False)\n",
    "    return featimp\n",
    "\n",
    "f3 = macro_factor_mapping(featimp=feature_importance_df1, filename='final_experiment_feat_imp')"
   ]
  },
  {
   "cell_type": "code",
   "execution_count": null,
   "metadata": {},
   "outputs": [],
   "source": []
  },
  {
   "cell_type": "markdown",
   "metadata": {},
   "source": [
    "#### EXPERIMENT FEATURE LIST\n",
    "- With Salary components (salary, compare ratio) added"
   ]
  },
  {
   "cell_type": "code",
   "execution_count": 8,
   "metadata": {},
   "outputs": [],
   "source": [
    "sal_experiment_cols = ['global_id', 'year', 'zone', 'employee_band', 'opr_prev', 'opr_prev_prev', \n",
    "                   'mr_pers_compgroup_year_comp_score_mean_functional_competencies',\n",
    "                   'mr_pers_compgroup_year_comp_score_mean_leadership_competencies',\n",
    "                   'mr_pers_compgroupl1_year_comp_score_mean_leadership_competencies_develop_people',\n",
    "                   'mr_pers_compgroupl1_year_comp_score_mean_leadership_competencies_dream_big',\n",
    "                   'mr_pers_compgroupl1_year_comp_score_mean_leadership_competencies_live_our_culture',\n",
    "                  'time_in_band', 'position_tenure', #tenure features\n",
    "                  'position_velocity', 'index_average', #career velocity\n",
    "                  'net_target', 'target_delta', #target\n",
    "                  'pdi_score', 'pdi_score_category', #pdi\n",
    "                  'fc_count', 'lc_count', #PDP\n",
    "                  'function', #function\n",
    "                   'ebm_level', #EBM\n",
    "                  'talent_pool', 'count_of_belts', #talent pool and belts flag\n",
    "                   'talentpool_renomination', #talent pool renimation\n",
    "                  'teamsize', 'teamsize_delta', #teamsize and teamsize between years\n",
    "                  'engagement_score', 'manager_effectiveness_score', #engagement features\n",
    "                  'mod_salary', 'compare_ratio'] #salary features"
   ]
  },
  {
   "cell_type": "code",
   "execution_count": 9,
   "metadata": {},
   "outputs": [],
   "source": [
    "train_salexp = train_0to5[sal_experiment_cols].copy()\n",
    "valid_salexp = valid_0to5[sal_experiment_cols].copy()\n",
    "ytrain_salexp = ytrain_0to5.copy()\n",
    "yvalid_salexp = yvalid_0to5.copy()"
   ]
  },
  {
   "cell_type": "code",
   "execution_count": 10,
   "metadata": {},
   "outputs": [],
   "source": [
    "################ to filter out 2016 #####################\n",
    "\n",
    "train_salexp['response'] = ytrain_salexp\n",
    "trainnew = train_salexp[train_salexp['year']==2017]\n",
    "trainnew.reset_index(drop=True, inplace=True)\n",
    "ytrainnew = np.array(trainnew.response)\n",
    "trainnew.drop(columns=['response'], inplace=True)\n",
    "train_salexp.drop(columns=['response'], inplace=True)\n",
    "\n",
    "validnew = valid_salexp.copy()\n",
    "yvalidnew = yvalid_salexp.copy()"
   ]
  },
  {
   "cell_type": "code",
   "execution_count": 11,
   "metadata": {},
   "outputs": [
    {
     "data": {
      "text/plain": [
       "((4916, 32), (4916,))"
      ]
     },
     "execution_count": 11,
     "metadata": {},
     "output_type": "execute_result"
    },
    {
     "data": {
      "text/plain": [
       "((5721, 32), (5721,))"
      ]
     },
     "execution_count": 11,
     "metadata": {},
     "output_type": "execute_result"
    }
   ],
   "source": [
    "trainnew.shape, ytrainnew.shape\n",
    "validnew.shape, yvalidnew.shape"
   ]
  },
  {
   "cell_type": "code",
   "execution_count": 12,
   "metadata": {},
   "outputs": [
    {
     "name": "stdout",
     "output_type": "stream",
     "text": [
      "category encoding is happening ... \n",
      "\n",
      "category encoding completed \n",
      "\n",
      "[0]\ttrain-mlogloss:1.56373\ttrain-merror:0.358458\ttest-mlogloss:1.57805\ttest-merror:0.513069\n",
      "Multiple eval metrics have been passed: 'test-merror' will be used for early stopping.\n",
      "\n",
      "Will train until test-merror hasn't improved in 50 rounds.\n",
      "[10]\ttrain-mlogloss:1.22003\ttrain-merror:0.217011\ttest-mlogloss:1.37112\ttest-merror:0.473554\n",
      "[20]\ttrain-mlogloss:1.00745\ttrain-merror:0.183791\ttest-mlogloss:1.26257\ttest-merror:0.472379\n",
      "[30]\ttrain-mlogloss:0.861217\ttrain-merror:0.158048\ttest-mlogloss:1.20144\ttest-merror:0.468686\n",
      "[40]\ttrain-mlogloss:0.750273\ttrain-merror:0.132969\ttest-mlogloss:1.16452\ttest-merror:0.467579\n",
      "[50]\ttrain-mlogloss:0.670593\ttrain-merror:0.116369\ttest-mlogloss:1.14124\ttest-merror:0.466134\n",
      "[60]\ttrain-mlogloss:0.608043\ttrain-merror:0.098113\ttest-mlogloss:1.12771\ttest-merror:0.467013\n",
      "[70]\ttrain-mlogloss:0.55618\ttrain-merror:0.086005\ttest-mlogloss:1.11996\ttest-merror:0.467368\n",
      "[80]\ttrain-mlogloss:0.513748\ttrain-merror:0.074264\ttest-mlogloss:1.11619\ttest-merror:0.466388\n",
      "[90]\ttrain-mlogloss:0.478804\ttrain-merror:0.065647\ttest-mlogloss:1.11607\ttest-merror:0.465162\n",
      "[100]\ttrain-mlogloss:0.448899\ttrain-merror:0.05688\ttest-mlogloss:1.11607\ttest-merror:0.465923\n",
      "[110]\ttrain-mlogloss:0.423641\ttrain-merror:0.049275\ttest-mlogloss:1.11784\ttest-merror:0.467148\n",
      "[120]\ttrain-mlogloss:0.400448\ttrain-merror:0.041847\ttest-mlogloss:1.11927\ttest-merror:0.469405\n",
      "[130]\ttrain-mlogloss:0.379192\ttrain-merror:0.037504\ttest-mlogloss:1.12283\ttest-merror:0.470148\n",
      "Stopping. Best iteration:\n",
      "[87]\ttrain-mlogloss:0.48878\ttrain-merror:0.068741\ttest-mlogloss:1.11581\ttest-merror:0.464064\n",
      "\n",
      "Test error using softprob = 0.4167103653207481\n",
      "0.5832896346792519\n",
      "[[  40  222   65   15    1]\n",
      " [  35 1895  630   77    4]\n",
      " [   6  548 1072  137   13]\n",
      " [   5   76  328  309    8]\n",
      " [   0   29   85  100   21]]\n"
     ]
    },
    {
     "data": {
      "text/plain": [
       "<matplotlib.axes._subplots.AxesSubplot at 0x16b692e78d0>"
      ]
     },
     "execution_count": 12,
     "metadata": {},
     "output_type": "execute_result"
    },
    {
     "data": {
      "image/png": "[encoded data removed]",
      "text/plain": [
       "<Figure size 432x288 with 1 Axes>"
      ]
     },
     "metadata": {
      "needs_background": "light"
     },
     "output_type": "display_data"
    }
   ],
   "source": [
    "%run -i ../input/SCRIPTS/ml_xgboost_5class.py\n",
    "\n",
    "xgb_model, xgb_feat_names, xgtrain, xgtest, xgbpred, xgb_pred_probs = quick_model_xgb(train=trainnew.copy(), \n",
    "                                                                                      valid=validnew.copy(), \n",
    "                                                                                      ytrain=ytrainnew.copy(),\n",
    "                                                                                      yvalid=yvalidnew.copy())\n",
    "\n",
    "feature_importance_df1 = get_xgb_imp(xgb_model)\n",
    "xgb.plot_importance(xgb_model, max_num_features=20)\n",
    "feature_importance_df1.to_csv('sal_experiment_feature_importance.csv', index=False)"
   ]
  },
  {
   "cell_type": "code",
   "execution_count": 39,
   "metadata": {},
   "outputs": [
    {
     "name": "stdout",
     "output_type": "stream",
     "text": [
      "0.5325991959447649\n",
      "[[ 103  179   41    6   14]\n",
      " [ 157 1889  420   46  129]\n",
      " [  37  689  729  173  148]\n",
      " [   4  136  184  235  167]\n",
      " [   0   33   56   55   91]]\n",
      "0.5325991959447649\n",
      "the rules and shape predictions distribution\n",
      "    a     b     dist\n",
      "0  1A   301  5.26132\n",
      "1  3A  1466  25.6249\n",
      "2  3B  2926  51.1449\n",
      "3  4A   532  9.29907\n",
      "4  4B   496  8.66981\n",
      "\n",
      "\n",
      "the rules and shape confusion matrix\n",
      "[[ 103  179   42    5   14]\n",
      " [ 157 1889  429   45  121]\n",
      " [  37  689  740  167  143]\n",
      " [   4  136  195  226  165]\n",
      " [   0   33   60   53   89]]\n",
      "\n",
      "\n",
      "the rules and shape precision score in the order -> [1A, 3B, 3A, 4B, 4A]\n",
      "[34.2192691  64.55912509 50.47748977 45.56451613 16.72932331]\n",
      "\n",
      "\n",
      "the zone level statistics\n",
      "                   zone  response_mapped  exact  dev1  accuracy_exact  \\\n",
      "0                GLOBAL              641    363   580       56.630265   \n",
      "1           ZONE AFRICA              369    170   326       46.070461   \n",
      "2     ZONE ASIA PACIFIC              827    389   705       47.037485   \n",
      "3           ZONE EUROPE              635    322   553       50.708661   \n",
      "4  ZONE MIDDLE AMERICAS              591    301   519       50.930626   \n",
      "5    ZONE NORTH AMERICA             1187    711  1073       59.898905   \n",
      "6    ZONE SOUTH AMERICA             1243    697  1132       56.074014   \n",
      "7                   ZXV              228     94   193       41.228070   \n",
      "\n",
      "   accuracy_dev1  \n",
      "0      90.483619  \n",
      "1      88.346883  \n",
      "2      85.247884  \n",
      "3      87.086614  \n",
      "4      87.817259  \n",
      "5      90.395956  \n",
      "6      91.069992  \n",
      "7      84.649123  \n",
      "\n",
      "\n",
      "total accuracy:  0.5325991959447649\n",
      "dev 1 accuracy:  0.888131445551477\n"
     ]
    }
   ],
   "source": [
    "sal_rules_and_shape_rules_df = rules_shape_rules_fn(valid=valid_0to5.copy(), \n",
    "                                                    yvalid=yvalid_0to5.copy(), \n",
    "                                                    pred=xgbpred.copy(),\n",
    "                                                    predprobs=xgb_pred_probs.copy())"
   ]
  },
  {
   "cell_type": "code",
   "execution_count": null,
   "metadata": {},
   "outputs": [],
   "source": []
  },
  {
   "cell_type": "markdown",
   "metadata": {},
   "source": [
    "#### EXPERIMENT FEATURE LIST\n",
    "- Without the Career Velocity and Historical OPR components"
   ]
  },
  {
   "cell_type": "code",
   "execution_count": 43,
   "metadata": {},
   "outputs": [],
   "source": [
    "no_cv_opr_experiment_cols = ['global_id', 'year', 'zone', 'employee_band',\n",
    "                   'mr_pers_compgroup_year_comp_score_mean_functional_competencies',\n",
    "                   'mr_pers_compgroup_year_comp_score_mean_leadership_competencies',\n",
    "                   'mr_pers_compgroupl1_year_comp_score_mean_leadership_competencies_develop_people',\n",
    "                   'mr_pers_compgroupl1_year_comp_score_mean_leadership_competencies_dream_big',\n",
    "                   'mr_pers_compgroupl1_year_comp_score_mean_leadership_competencies_live_our_culture',\n",
    "                  'time_in_band', 'position_tenure', #tenure features\n",
    "                  'net_target', 'target_delta', #target\n",
    "                  'pdi_score', 'pdi_score_category', #pdi\n",
    "                  'fc_count', 'lc_count', #PDP\n",
    "                  'function', #function\n",
    "                   'ebm_level', #EBM\n",
    "                  'talent_pool', 'count_of_belts', #talent pool and belts flag\n",
    "                   'talentpool_renomination', #talent pool renimation\n",
    "                  'teamsize', 'teamsize_delta', #teamsize and teamsize between years\n",
    "                  'engagement_score', 'manager_effectiveness_score'] #engagement features"
   ]
  },
  {
   "cell_type": "code",
   "execution_count": 44,
   "metadata": {},
   "outputs": [],
   "source": [
    "train_nocvoprexp = train_0to5[no_cv_opr_experiment_cols].copy()\n",
    "valid_nocvoprexp = valid_0to5[no_cv_opr_experiment_cols].copy()\n",
    "ytrain_nocvoprexp = ytrain_0to5.copy()\n",
    "yvalid_nocvoprexp = yvalid_0to5.copy()"
   ]
  },
  {
   "cell_type": "code",
   "execution_count": 45,
   "metadata": {},
   "outputs": [],
   "source": [
    "################ to filter out 2016 #####################\n",
    "\n",
    "train_nocvoprexp['response'] = ytrain_nocvoprexp\n",
    "trainnew2 = train_nocvoprexp[train_nocvoprexp['year']==2017]\n",
    "trainnew2.reset_index(drop=True, inplace=True)\n",
    "ytrainnew2 = np.array(trainnew2.response)\n",
    "trainnew2.drop(columns=['response'], inplace=True)\n",
    "train_nocvoprexp.drop(columns=['response'], inplace=True)\n",
    "\n",
    "validnew2 = valid_nocvoprexp.copy()\n",
    "yvalidnew2 = yvalid_nocvoprexp.copy()"
   ]
  },
  {
   "cell_type": "code",
   "execution_count": 46,
   "metadata": {},
   "outputs": [
    {
     "name": "stdout",
     "output_type": "stream",
     "text": [
      "category encoding is happening ... \n",
      "\n",
      "category encoding completed \n",
      "\n",
      "[0]\ttrain-mlogloss:1.56808\ttrain-merror:0.386571\ttest-mlogloss:1.58499\ttest-merror:0.577589\n",
      "Multiple eval metrics have been passed: 'test-merror' will be used for early stopping.\n",
      "\n",
      "Will train until test-merror hasn't improved in 50 rounds.\n",
      "[10]\ttrain-mlogloss:1.27144\ttrain-merror:0.270996\ttest-mlogloss:1.41288\ttest-merror:0.513635\n",
      "[20]\ttrain-mlogloss:1.08315\ttrain-merror:0.239223\ttest-mlogloss:1.32022\ttest-merror:0.513812\n",
      "[30]\ttrain-mlogloss:0.946617\ttrain-merror:0.212796\ttest-mlogloss:1.26702\ttest-merror:0.512367\n",
      "[40]\ttrain-mlogloss:0.847255\ttrain-merror:0.186141\ttest-mlogloss:1.23616\ttest-merror:0.512494\n",
      "[50]\ttrain-mlogloss:0.766267\ttrain-merror:0.164731\ttest-mlogloss:1.21763\ttest-merror:0.510356\n",
      "[60]\ttrain-mlogloss:0.704443\ttrain-merror:0.144889\ttest-mlogloss:1.20698\ttest-merror:0.510027\n",
      "[70]\ttrain-mlogloss:0.655899\ttrain-merror:0.127822\ttest-mlogloss:1.20042\ttest-merror:0.510559\n",
      "[80]\ttrain-mlogloss:0.612885\ttrain-merror:0.113047\ttest-mlogloss:1.19826\ttest-merror:0.510889\n",
      "[90]\ttrain-mlogloss:0.577262\ttrain-merror:0.100929\ttest-mlogloss:1.19746\ttest-merror:0.510635\n",
      "[100]\ttrain-mlogloss:0.546802\ttrain-merror:0.08893\ttest-mlogloss:1.19828\ttest-merror:0.511142\n",
      "Stopping. Best iteration:\n",
      "[58]\ttrain-mlogloss:0.71668\ttrain-merror:0.147913\ttest-mlogloss:1.2085\ttest-merror:0.508269\n",
      "\n",
      "Test error using softprob = 0.4520188778185632\n",
      "0.5479811221814368\n",
      "[[  34  246   54    9    0]\n",
      " [  36 1960  589   50    6]\n",
      " [   5  751  894  111   15]\n",
      " [   1  214  272  228   11]\n",
      " [   0   54   79   83   19]]\n"
     ]
    },
    {
     "data": {
      "text/plain": [
       "<matplotlib.axes._subplots.AxesSubplot at 0x16b6b78f550>"
      ]
     },
     "execution_count": 46,
     "metadata": {},
     "output_type": "execute_result"
    },
    {
     "data": {
      "text/plain": [
       "<Figure size 432x288 with 0 Axes>"
      ]
     },
     "metadata": {},
     "output_type": "display_data"
    },
    {
     "data": {
      "image/png": "[encoded data removed]",
      "text/plain": [
       "<Figure size 432x288 with 1 Axes>"
      ]
     },
     "metadata": {
      "needs_background": "light"
     },
     "output_type": "display_data"
    }
   ],
   "source": [
    "%run -i ../input/SCRIPTS/ml_xgboost_5class.py\n",
    "\n",
    "xgb_model2, xgb_feat_names2, xgtrain2, xgtest2, xgbpred2, xgb_pred_probs2 = quick_model_xgb(train=trainnew2.copy(), \n",
    "                                                                                      valid=validnew2.copy(), \n",
    "                                                                                      ytrain=ytrainnew2.copy(),\n",
    "                                                                                      yvalid=yvalidnew2.copy())\n",
    "\n",
    "feature_importance_df2 = get_xgb_imp(xgb_model2)\n",
    "xgb.plot_importance(xgb_model2, max_num_features=20)\n",
    "feature_importance_df2.to_csv('no_cv_opr_experiment_feature_importance.csv', index=False)"
   ]
  },
  {
   "cell_type": "code",
   "execution_count": 40,
   "metadata": {},
   "outputs": [
    {
     "name": "stdout",
     "output_type": "stream",
     "text": [
      "0.49344520188778185\n",
      "[[ 101  178   37   13   14]\n",
      " [ 164 1733  474  133  137]\n",
      " [  27  721  682  188  158]\n",
      " [   7  172  167  230  150]\n",
      " [   0   52   55   51   77]]\n",
      "0.4939695857367593\n",
      "the rules and shape predictions distribution\n",
      "    a     b     dist\n",
      "0  1A   299  5.22636\n",
      "1  3A  1467  25.6424\n",
      "2  3B  2856  49.9213\n",
      "3  4A   512  8.94948\n",
      "4  4B   587  10.2604\n",
      "\n",
      "\n",
      "the rules and shape confusion matrix\n",
      "[[ 101  178   40   11   13]\n",
      " [ 164 1733  488  130  126]\n",
      " [  27  721  700  178  150]\n",
      " [   7  172  180  218  149]\n",
      " [   0   52   59   50   74]]\n",
      "\n",
      "\n",
      "the rules and shape precision score in the order -> [1A, 3B, 3A, 4B, 4A]\n",
      "[33.77926421 60.67927171 47.71642808 37.13798978 14.453125  ]\n",
      "\n",
      "\n",
      "the zone level statistics\n",
      "                   zone  response_mapped  exact  dev1  accuracy_exact  \\\n",
      "0                GLOBAL              641    326   561       50.858034   \n",
      "1           ZONE AFRICA              369    174   332       47.154472   \n",
      "2     ZONE ASIA PACIFIC              827    373   702       45.102781   \n",
      "3           ZONE EUROPE              635    306   532       48.188976   \n",
      "4  ZONE MIDDLE AMERICAS              591    263   498       44.500846   \n",
      "5    ZONE NORTH AMERICA             1187    649  1025       54.675653   \n",
      "6    ZONE SOUTH AMERICA             1243    649  1093       52.212389   \n",
      "7                   ZXV              228     86   191       37.719298   \n",
      "\n",
      "   accuracy_dev1  \n",
      "0      87.519501  \n",
      "1      89.972900  \n",
      "2      84.885127  \n",
      "3      83.779528  \n",
      "4      84.263959  \n",
      "5      86.352148  \n",
      "6      87.932422  \n",
      "7      83.771930  \n",
      "\n",
      "\n",
      "total accuracy:  0.4939695857367593\n",
      "dev 1 accuracy:  0.8624366369515819\n"
     ]
    }
   ],
   "source": [
    "no_cv_opr_rules_and_shape_rules_df = rules_shape_rules_fn(valid=valid_0to5.copy(), \n",
    "                                                    yvalid=yvalid_0to5.copy(), \n",
    "                                                    pred=xgbpred2.copy(),\n",
    "                                                    predprobs=xgb_pred_probs2.copy())"
   ]
  },
  {
   "cell_type": "code",
   "execution_count": null,
   "metadata": {},
   "outputs": [],
   "source": []
  }
 ],
 "metadata": {
  "kernelspec": {
   "display_name": "Python 3",
   "language": "python",
   "name": "python3"
  },
  "language_info": {
   "codemirror_mode": {
    "name": "ipython",
    "version": 3
   },
   "file_extension": ".py",
   "mimetype": "text/x-python",
   "name": "python",
   "nbconvert_exporter": "python",
   "pygments_lexer": "ipython3",
   "version": "3.7.1"
  }
 },
 "nbformat": 4,
 "nbformat_minor": 2
}
