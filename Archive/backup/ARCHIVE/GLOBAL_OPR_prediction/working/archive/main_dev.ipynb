{
 "cells": [
  {
   "cell_type": "markdown",
   "metadata": {},
   "source": [
    "# GLOBAL OPR PREDICTION\n",
    "\n",
    "- Scope: All global banded employees (bands 0-7) (changed to bands 0-5)\n",
    "- Zones: All zones\n",
    "- ML perspective:\n",
    "    - multiclass (main)\n",
    "    - regression\n",
    "- ML process: custom multiclass process\n",
    "- Feature perspective:\n",
    "    - opr as response\n",
    "    - previous opr as main feature\n",
    "    - all bp, competency, target, movement features\n",
    "    - train=2016-17\n",
    "    - valid=2018"
   ]
  },
  {
   "cell_type": "markdown",
   "metadata": {},
   "source": [
    "## INITIALIZATION"
   ]
  },
  {
   "cell_type": "code",
   "execution_count": 2,
   "metadata": {
    "ExecuteTime": {
     "end_time": "2019-03-12T13:45:43.709245Z",
     "start_time": "2019-03-12T13:45:43.570249Z"
    }
   },
   "outputs": [
    {
     "name": "stderr",
     "output_type": "stream",
     "text": [
      "Using TensorFlow backend.\n"
     ]
    }
   ],
   "source": [
    "%reset -f\n",
    "\n",
    "import sys, pandas as pd, numpy as np, inspect, re as re, functools as functools, pickle, glob, warnings, os as os\n",
    "\n",
    "# nlp modules\n",
    "import nltk\n",
    "#nltk.download('stopwords')\n",
    "#nltk.download('punkt')\n",
    "\n",
    "from tqdm import tqdm\n",
    "from hyperopt import hp, tpe, STATUS_OK, fmin, Trials\n",
    "from hyperopt.fmin import fmin\n",
    "from hyperopt.pyll.stochastic import sample\n",
    "\n",
    "# sklearn packages\n",
    "from sklearn.cluster import KMeans\n",
    "from sklearn.feature_selection import VarianceThreshold\n",
    "import sklearn.metrics as skm\n",
    "\n",
    "# some options/variables\n",
    "randomseed = 1 # the value for the random state used at various points in the pipeline\n",
    "pd.options.display.max_rows = 50 # specify if you want the full output in cells rather the truncated list\n",
    "pd.options.display.max_columns = 200\n",
    "\n",
    "# to display multiple outputs in a cell without usin print/display\n",
    "from IPython.core.interactiveshell import InteractiveShell\n",
    "InteractiveShell.ast_node_interactivity = \"all\"\n",
    "\n",
    "# append the scripts path to pythonpath\n",
    "sys.path.append('./SCRIPTS/')\n",
    "\n",
    "# ignore warnings (only if you are the kind that would code when the world is burning)\n",
    "warnings.filterwarnings('ignore')\n",
    "\n",
    "# plot inline\n",
    "%matplotlib inline\n",
    "import matplotlib\n",
    "import matplotlib.pyplot as plt\n",
    "\n",
    "# # import the various ml modules\n",
    "import xgboost as xgb\n",
    "# from sklearn.multiclass import OneVsRestClassifier, OneVsOneClassifier, OutputCodeClassifier\n",
    "# from sklearn.svm import SVC, LinearSVC, NuSVC\n",
    "# from sklearn.ensemble import ExtraTreesClassifier, GradientBoostingClassifier\n",
    "# from sklearn.ensemble import RandomForestClassifier, VotingClassifier, AdaBoostClassifier\n",
    "# from sklearn.linear_model import LogisticRegressionCV, LogisticRegression, RidgeClassifierCV, PassiveAggressiveClassifier, SGDClassifier\n",
    "# from sklearn.tree import DecisionTreeClassifier\n",
    "# from sklearn.neighbors import KNeighborsClassifier, RadiusNeighborsClassifier\n",
    "# from sklearn.discriminant_analysis import LinearDiscriminantAnalysis, QuadraticDiscriminantAnalysis\n",
    "# from sklearn.gaussian_process import GaussianProcessClassifier\n",
    "# from sklearn.neural_network import MLPClassifier\n",
    "\n",
    "############################################## import the custom modules ################################\n",
    "import helperfuncs as helper\n",
    "import feateng as fte\n",
    "import misc as miscfun\n",
    "import oprfunctions as oprfun\n",
    "from misc import ce_encodings, DataFrameImputer, scalers\n",
    "from oprfunctions import demo_fn, salary_process\n",
    "\n",
    "# instantiate the classes\n",
    "helpers = helper.helper_funcs()\n",
    "cust_funcs = fte.custom_funcs()\n",
    "feat_sel = miscfun.feat_selection()\n",
    "\n",
    "#############################################################################################################\n",
    "# global function to flatten columns after a grouped operation and aggregation\n",
    "# outside all classes since it is added as an attribute to pandas DataFrames\n",
    "def __my_flatten_cols(self, how=\"_\".join, reset_index=True):\n",
    "    how = (lambda iter: list(iter)[-1]) if how == \"last\" else how\n",
    "    self.columns = [how(filter(None, map(str, levels))) for levels in self.columns.values] \\\n",
    "    if isinstance(self.columns, pd.MultiIndex) else self.columns\n",
    "    return self.reset_index(drop=True) if reset_index else self\n",
    "pd.DataFrame.my_flatten_cols = __my_flatten_cols"
   ]
  },
  {
   "cell_type": "code",
   "execution_count": 4,
   "metadata": {},
   "outputs": [],
   "source": [
    "%run -i ./SCRIPTS/dicts_cols.py"
   ]
  },
  {
   "cell_type": "markdown",
   "metadata": {},
   "source": [
    "## SETUP THE ADLS"
   ]
  },
  {
   "cell_type": "code",
   "execution_count": 5,
   "metadata": {},
   "outputs": [],
   "source": [
    "from azure.datalake.store import core, lib, multithread\n",
    "\n",
    "tenant = 'cef04b19-7776-4a94-b89b-375c77a8f936'\n",
    "resource = 'https://datalake.azure.net/'\n",
    "client_id = 'e9aaf06a-9856-42a8-ab3c-c8b0d3a9b110'\n",
    "client_secret = 'DlbuV60szYT2U0CQNjzwRA55EsH42oX92AB7vbD2clk='\n",
    "\n",
    "adlcreds = lib.auth(tenant_id = tenant,\n",
    "                   client_secret = client_secret,\n",
    "                   client_id = client_id,\n",
    "                   resource = resource)\n",
    "\n",
    "subs_id = '73f88e6b-3a35-4612-b550-555157e7059f'\n",
    "adls = 'edhadlsanasagbdev'\n",
    "\n",
    "adlsfsc = core.AzureDLFileSystem(adlcreds, store_name=adls)"
   ]
  },
  {
   "cell_type": "code",
   "execution_count": 6,
   "metadata": {},
   "outputs": [],
   "source": [
    "## TO READ AND WRITE FILES\n",
    "\n",
    "# with adlsfsc.open('root/anasandbox/people/opr10x/input/navigate/belts/belts_withdates.xlsx') as f:\n",
    "#     x = pd.read_excel(f)\n",
    "# with adlsfsc.open('root/anasandbox/people/opr10x/input/navigate/belts/belts_withdates_copy.csv', 'wb') as f:\n",
    "#     x.to_csv()"
   ]
  },
  {
   "cell_type": "markdown",
   "metadata": {},
   "source": [
    "## OPR files initialization"
   ]
  },
  {
   "cell_type": "code",
   "execution_count": 836,
   "metadata": {
    "ExecuteTime": {
     "end_time": "2019-03-12T13:45:56.550985Z",
     "start_time": "2019-03-12T13:45:56.544988Z"
    }
   },
   "outputs": [],
   "source": [
    "# %run -i ../input/SCRIPTS/opr_script.py\n",
    "\n",
    "## load backup\n",
    "opr_files = open('../working/opr_backup.pkl', 'rb')\n",
    "opr_train = pickle.load(opr_files)\n",
    "opr_valid = pickle.load(opr_files)\n",
    "opr_files.close()"
   ]
  },
  {
   "cell_type": "markdown",
   "metadata": {},
   "source": [
    "## BluePrint"
   ]
  },
  {
   "cell_type": "code",
   "execution_count": 837,
   "metadata": {
    "ExecuteTime": {
     "end_time": "2019-03-12T13:46:05.147399Z",
     "start_time": "2019-03-12T13:46:00.625216Z"
    }
   },
   "outputs": [],
   "source": [
    "# %run -i ../input/SCRIPTS/blueprint_script.py\n",
    "# %run -i ../input/SCRIPTS/blueprint_script_new.py\n",
    "\n",
    "# load backup\n",
    "# raw files untouched. one-time backup.\n",
    "# bp_files = open('../working/bp_backup.pkl', 'rb')\n",
    "# bp_2016 = pickle.load(bp_files)\n",
    "# bp_2017 = pickle.load(bp_files)\n",
    "# bp_2018 = pickle.load(bp_files)\n",
    "# bp_files.close()\n",
    "\n",
    "# load backup\n",
    "# processed and appended blueprint master file\n",
    "bpfull_files = open('../working/bpfull_backup.pkl', 'rb')\n",
    "bp_full = pickle.load(bpfull_files)\n",
    "bpfull_files.close()"
   ]
  },
  {
   "cell_type": "markdown",
   "metadata": {
    "ExecuteTime": {
     "end_time": "2019-03-12T10:45:00.506673Z",
     "start_time": "2019-03-12T10:45:00.502673Z"
    }
   },
   "source": [
    "## MISC\n",
    "\n",
    "### Features\n",
    "- MRS features (compare ratio)\n",
    "- Demographics\n",
    "- Salary\n",
    "- TeamSize and TeamSize_Difference"
   ]
  },
  {
   "cell_type": "code",
   "execution_count": 838,
   "metadata": {
    "ExecuteTime": {
     "end_time": "2019-03-12T13:43:09.371339Z",
     "start_time": "2019-03-12T13:43:09.039Z"
    }
   },
   "outputs": [
    {
     "name": "stdout",
     "output_type": "stream",
     "text": [
      "(21975, 10)\n"
     ]
    }
   ],
   "source": [
    "%run -i ../input/SCRIPTS/misc_script.py"
   ]
  },
  {
   "cell_type": "markdown",
   "metadata": {},
   "source": [
    "## Competency"
   ]
  },
  {
   "cell_type": "code",
   "execution_count": 839,
   "metadata": {
    "ExecuteTime": {
     "end_time": "2019-03-12T13:43:12.304598Z",
     "start_time": "2019-03-12T13:43:12.301595Z"
    }
   },
   "outputs": [],
   "source": [
    "# %run -i ../input/SCRIPTS/competency_script.py\n",
    "\n",
    "# compfull = open('../working/comp_backup.pkl', 'rb')\n",
    "# comp_full = pickle.load(compfull)\n",
    "# compfull.close()\n",
    "\n",
    "compfull2 = open('../working/comp_backup2.pkl', 'rb')\n",
    "comp_full = pickle.load(compfull2)\n",
    "compfull2.close()"
   ]
  },
  {
   "cell_type": "markdown",
   "metadata": {},
   "source": [
    "## Target"
   ]
  },
  {
   "cell_type": "code",
   "execution_count": 840,
   "metadata": {
    "ExecuteTime": {
     "end_time": "2019-03-12T13:43:41.758545Z",
     "start_time": "2019-03-12T13:43:22.303250Z"
    }
   },
   "outputs": [],
   "source": [
    "# %run -i ../input/SCRIPTS/target_script.py\n",
    "\n",
    "tarpickle = open('../working/tar_backup.pkl', 'rb')\n",
    "tar_reshaped = pickle.load(tarpickle)\n",
    "tarpickle.close()"
   ]
  },
  {
   "cell_type": "markdown",
   "metadata": {},
   "source": [
    "## Movement\n",
    "\n",
    "### Features\n",
    "- movement features\n",
    "- time in band\n",
    "- career velocity features"
   ]
  },
  {
   "cell_type": "code",
   "execution_count": 841,
   "metadata": {
    "ExecuteTime": {
     "end_time": "2019-03-12T13:44:16.856715Z",
     "start_time": "2019-03-12T13:44:16.848713Z"
    }
   },
   "outputs": [
    {
     "name": "stdout",
     "output_type": "stream",
     "text": [
      "(24087, 2)\n",
      "(22536, 2)\n",
      "(3260, 2)\n",
      "(4930, 2)\n",
      "(5656, 2)\n",
      "(28963, 2)\n",
      "(32652, 2)\n",
      "(36680, 2)\n"
     ]
    }
   ],
   "source": [
    "%run -i ../input/SCRIPTS/movements_script.py\n",
    "# %run ../working/Career_Velocity_Metric_eg_2018_used.ipynb"
   ]
  },
  {
   "cell_type": "markdown",
   "metadata": {},
   "source": [
    "## NAVIGATE DATA and related\n",
    "\n",
    "### Features\n",
    "- BELTS\n",
    "- CAREER ASPIRATIONS\n",
    "- COMPETENCY APPRAISAL\n",
    "- GMT-GMBA\n",
    "- GTP / PeopleBets / ZTP\n",
    "- EDUCATION (nothing for now)\n",
    "- ENGAGEMENT (not present for 2016)\n",
    "- PDP (lot more work here. time since PDP and related)\n",
    "- TURNOVER/BUSINESS IMPACT\n",
    "- MOBILITY"
   ]
  },
  {
   "cell_type": "code",
   "execution_count": 842,
   "metadata": {
    "ExecuteTime": {
     "end_time": "2019-03-12T10:56:53.971631Z",
     "start_time": "2019-03-12T10:56:53.966627Z"
    }
   },
   "outputs": [
    {
     "data": {
      "text/plain": [
       "['Belts.xlsx',\n",
       " 'Career Aspirations.xlsx',\n",
       " 'Comp appraisal.xlsx',\n",
       " 'comp_appraisal_comments',\n",
       " 'Education.xlsx',\n",
       " 'GMT-GMBA.xlsx',\n",
       " 'Mobility.xlsx',\n",
       " 'PDP',\n",
       " 'Talent Pool members (GTP,ZTP,People Bet).xlsx',\n",
       " 'Turnover and Business impact.xlsx']"
      ]
     },
     "execution_count": 842,
     "metadata": {},
     "output_type": "execute_result"
    },
    {
     "name": "stdout",
     "output_type": "stream",
     "text": [
      "(46633, 3)\n",
      "(1858, 8)\n",
      "(220, 9)\n",
      "(1524, 25)\n",
      "(14385, 349)\n",
      "(142450, 2)\n"
     ]
    }
   ],
   "source": [
    "os.listdir('../input/Navigate/')\n",
    "\n",
    "%run -i ../input/SCRIPTS/navigate_script.py"
   ]
  },
  {
   "cell_type": "markdown",
   "metadata": {},
   "source": [
    "## PDI (org chart related)\n",
    "\n",
    "### Features\n",
    "- PDI\n",
    "- Team KPIs (as manager, team attributes)"
   ]
  },
  {
   "cell_type": "code",
   "execution_count": 843,
   "metadata": {},
   "outputs": [
    {
     "name": "stdout",
     "output_type": "stream",
     "text": [
      "(2858, 3)\n",
      "(3214, 3)\n"
     ]
    }
   ],
   "source": [
    "%run -i ../input/SCRIPTS/pdi_script.py"
   ]
  },
  {
   "cell_type": "markdown",
   "metadata": {},
   "source": [
    "## ORG chart features"
   ]
  },
  {
   "cell_type": "code",
   "execution_count": 844,
   "metadata": {},
   "outputs": [],
   "source": [
    "# mngr_lvl_orgfeats_train = helpers.csv_read('../input/org_chart_feats/manager_level_GR_2017.csv')\n",
    "# mngr_lvl_orgfeats_train.columns = ['global_id', 'drgr', 'fsgr', 'drplus1gr']\n",
    "# mngr_lvl_orgfeats_train['year'] = 2017\n",
    "# mngr_lvl_orgfeats_valid = helpers.csv_read('../input/org_chart_feats/manager_level_GR_2018.csv')\n",
    "# mngr_lvl_orgfeats_valid.columns = ['global_id', 'drgr', 'fsgr', 'drplus1gr']\n",
    "# mngr_lvl_orgfeats_valid['year'] = 2018\n",
    "\n",
    "# team_lvl_orgfeats_train = helpers.csv_read('../input/org_chart_feats/team_level_GR_2017.csv')\n",
    "# team_lvl_orgfeats_train.columns = ['global_id', 'lmgr', 'slmandlmlevelgr', 'lmanddrlevelgr']\n",
    "# team_lvl_orgfeats_train['year'] = 2017\n",
    "# team_lvl_orgfeats_valid = helpers.csv_read('../input/org_chart_feats/team_level_GR_2018.csv')\n",
    "# team_lvl_orgfeats_valid.columns = ['global_id', 'lmgr', 'slmandlmlevelgr', 'lmanddrlevelgr']\n",
    "# team_lvl_orgfeats_valid['year'] = 2018"
   ]
  },
  {
   "cell_type": "markdown",
   "metadata": {},
   "source": [
    "## Normalized competency"
   ]
  },
  {
   "cell_type": "code",
   "execution_count": 845,
   "metadata": {},
   "outputs": [],
   "source": [
    "# normca_train = helpers.csv_read('../input/COMP/norm_ca_17_0411.csv', cols_to_keep=normca_cols)\n",
    "# normca_train['year'] = 2017\n",
    "# normca_valid = helpers.csv_read('../input/COMP/norm_ca_18_0411.csv', cols_to_keep=normca_cols)\n",
    "# normca_valid['year'] = 2018"
   ]
  },
  {
   "cell_type": "markdown",
   "metadata": {},
   "source": [
    "## ADS creation"
   ]
  },
  {
   "cell_type": "code",
   "execution_count": 855,
   "metadata": {},
   "outputs": [
    {
     "name": "stdout",
     "output_type": "stream",
     "text": [
      "datetime feature engineering is happening ... \n",
      "\n",
      "(31, 2)\n"
     ]
    }
   ],
   "source": [
    "%run -i ../input/SCRIPTS/ads_prepare.py"
   ]
  },
  {
   "cell_type": "code",
   "execution_count": 720,
   "metadata": {},
   "outputs": [],
   "source": [
    "## load backup\n",
    "# ads_backup = open('../working/ads_backup.pkl', 'rb')\n",
    "# train = pickle.load(ads_backup)\n",
    "# valid = pickle.load(ads_backup)\n",
    "# ytrain = pickle.load(ads_backup)\n",
    "# yvalid = pickle.load(ads_backup)\n",
    "# ads_backup.close()"
   ]
  },
  {
   "cell_type": "code",
   "execution_count": 812,
   "metadata": {},
   "outputs": [],
   "source": [
    "# ## save backup\n",
    "# ads_backup = open('../working/experiment.pkl','wb')\n",
    "# pickle.dump(train, ads_backup)\n",
    "# pickle.dump(valid, ads_backup)\n",
    "# pickle.dump(ytrain, ads_backup)\n",
    "# pickle.dump(yvalid, ads_backup)\n",
    "# ads_backup.close()\n",
    "\n",
    "# ## load backup\n",
    "# ads_backup = open('../working/experiment.pkl', 'rb')\n",
    "# train = pickle.load(ads_backup)\n",
    "# valid = pickle.load(ads_backup)\n",
    "# ytrain = pickle.load(ads_backup)\n",
    "# yvalid = pickle.load(ads_backup)\n",
    "# ads_backup.close()"
   ]
  },
  {
   "cell_type": "code",
   "execution_count": 813,
   "metadata": {},
   "outputs": [
    {
     "data": {
      "text/plain": [
       "((36731, 120), (26756, 120))"
      ]
     },
     "execution_count": 813,
     "metadata": {},
     "output_type": "execute_result"
    },
    {
     "data": {
      "text/plain": [
       "26756"
      ]
     },
     "execution_count": 813,
     "metadata": {},
     "output_type": "execute_result"
    }
   ],
   "source": [
    "train.shape, valid.shape\n",
    "valid['global_id'].nunique()"
   ]
  },
  {
   "cell_type": "code",
   "execution_count": 814,
   "metadata": {},
   "outputs": [
    {
     "data": {
      "text/plain": [
       "((36731, 120), (8333, 120), (19447, 120))"
      ]
     },
     "execution_count": 814,
     "metadata": {},
     "output_type": "execute_result"
    },
    {
     "data": {
      "text/plain": [
       "((26756, 120), (5904, 120), (13900, 120))"
      ]
     },
     "execution_count": 814,
     "metadata": {},
     "output_type": "execute_result"
    },
    {
     "data": {
      "text/plain": [
       "array([[0.000e+00, 2.760e+02],\n",
       "       [1.000e+00, 5.230e+02],\n",
       "       [2.000e+00, 3.743e+03],\n",
       "       [3.000e+00, 2.508e+03],\n",
       "       [4.000e+00, 9.850e+02],\n",
       "       [5.000e+00, 2.980e+02]])"
      ]
     },
     "execution_count": 814,
     "metadata": {},
     "output_type": "execute_result"
    }
   ],
   "source": [
    "dummy_train = train.copy()\n",
    "dummy_valid = valid.copy()\n",
    "dummy_train['response'] = ytrain\n",
    "dummy_valid['response'] = yvalid\n",
    "\n",
    "# filter for bands [7] and bands [6,7]\n",
    "train_0to6 = dummy_train[dummy_train['employee_band']<13]\n",
    "valid_0to6 = dummy_valid[dummy_valid['employee_band']<13]\n",
    "train_0to6.reset_index(drop=True, inplace=True)\n",
    "valid_0to6.reset_index(drop=True, inplace=True)\n",
    "ytrain_0to6 = train_0to6.response.values\n",
    "yvalid_0to6 = valid_0to6.response.values\n",
    "train_0to6.drop(columns=['response'], inplace=True)\n",
    "valid_0to6.drop(columns=['response'], inplace=True)\n",
    "\n",
    "# filter for bands 0-5\n",
    "train_0to5 = dummy_train[dummy_train['employee_band']<11]\n",
    "valid_0to5 = dummy_valid[dummy_valid['employee_band']<11]\n",
    "train_0to5.reset_index(drop=True, inplace=True)\n",
    "valid_0to5.reset_index(drop=True, inplace=True)\n",
    "ytrain_0to5 = train_0to5.response.values\n",
    "yvalid_0to5 = valid_0to5.response.values\n",
    "train_0to5.drop(columns=['response'], inplace=True)\n",
    "valid_0to5.drop(columns=['response'], inplace=True)\n",
    "\n",
    "train.shape, train_0to5.shape, train_0to6.shape\n",
    "valid.shape, valid_0to5.shape, valid_0to6.shape\n",
    "\n",
    "np.array(np.unique(ytrain_0to5, return_counts=True)).T"
   ]
  },
  {
   "cell_type": "markdown",
   "metadata": {},
   "source": [
    "# THE MAIN BREAK LINE. execute all above if running iterations"
   ]
  },
  {
   "cell_type": "code",
   "execution_count": 815,
   "metadata": {},
   "outputs": [
    {
     "data": {
      "text/plain": [
       "((8333, 120), (8333,))"
      ]
     },
     "execution_count": 815,
     "metadata": {},
     "output_type": "execute_result"
    },
    {
     "data": {
      "text/plain": [
       "((5904, 120), (5904,))"
      ]
     },
     "execution_count": 815,
     "metadata": {},
     "output_type": "execute_result"
    }
   ],
   "source": [
    "train_0to5.shape, ytrain_0to5.shape\n",
    "valid_0to5.shape, yvalid_0to5.shape"
   ]
  },
  {
   "cell_type": "code",
   "execution_count": 816,
   "metadata": {},
   "outputs": [],
   "source": [
    "# %run -i ../input/SCRIPTS/subset_and_find_topfeatures.py\n",
    "# xgb.plot_importance(model, max_num_features=20)"
   ]
  },
  {
   "cell_type": "code",
   "execution_count": 817,
   "metadata": {},
   "outputs": [
    {
     "data": {
      "text/plain": [
       "((8333, 120), (8333,))"
      ]
     },
     "execution_count": 817,
     "metadata": {},
     "output_type": "execute_result"
    },
    {
     "data": {
      "text/plain": [
       "((5904, 120), (5904,))"
      ]
     },
     "execution_count": 817,
     "metadata": {},
     "output_type": "execute_result"
    },
    {
     "data": {
      "text/plain": [
       "((8333, 120), (8333,))"
      ]
     },
     "execution_count": 817,
     "metadata": {},
     "output_type": "execute_result"
    },
    {
     "data": {
      "text/plain": [
       "((5904, 120), (5904,))"
      ]
     },
     "execution_count": 817,
     "metadata": {},
     "output_type": "execute_result"
    }
   ],
   "source": [
    "train_0to5.shape, ytrain_0to5.shape\n",
    "valid_0to5.shape, yvalid_0to5.shape\n",
    "\n",
    "train_0to5['response'] = ytrain_0to5\n",
    "valid_0to5['response'] = yvalid_0to5\n",
    "train_0to5.drop_duplicates(subset=['global_id', 'year'], inplace=True)\n",
    "valid_0to5.drop_duplicates(subset=['global_id', 'year'], inplace=True)\n",
    "ytrain_0to5 = np.array(train_0to5['response'])\n",
    "yvalid_0to5 = np.array(valid_0to5['response'])\n",
    "train_0to5.drop(columns=['response'], inplace=True)\n",
    "valid_0to5.drop(columns=['response'], inplace=True)\n",
    "\n",
    "train_0to5.shape, ytrain_0to5.shape\n",
    "valid_0to5.shape, yvalid_0to5.shape"
   ]
  },
  {
   "cell_type": "code",
   "execution_count": 727,
   "metadata": {},
   "outputs": [],
   "source": [
    "train_0to5.to_csv('train0to5.csv', index=False)\n",
    "valid_0to5.to_csv('valid0to5.csv', index=False)\n",
    "(pd.DataFrame(ytrain_0to5)).to_csv('ytrain0to5.csv', index=False)\n",
    "(pd.DataFrame(yvalid_0to5)).to_csv('yvalid0to5.csv', index=False)"
   ]
  },
  {
   "cell_type": "markdown",
   "metadata": {},
   "source": [
    "## END OF MAIN ADS PREPARATION"
   ]
  },
  {
   "cell_type": "code",
   "execution_count": 818,
   "metadata": {},
   "outputs": [],
   "source": [
    "experiment_cols = ['global_id', 'year', 'zone', 'employee_band', 'opr_prev', 'opr_prev_prev', \n",
    "                   'mr_pers_compgroup_year_comp_score_mean_functional_competencies',\n",
    "                   'mr_pers_compgroup_year_comp_score_mean_leadership_competencies',\n",
    "                   'mr_pers_compgroupl1_year_comp_score_mean_leadership_competencies_develop_people',\n",
    "                   'mr_pers_compgroupl1_year_comp_score_mean_leadership_competencies_dream_big',\n",
    "                   'mr_pers_compgroupl1_year_comp_score_mean_leadership_competencies_live_our_culture',\n",
    "                  'time_in_band', 'position_tenure', #tenure features\n",
    "                  'position_velocity', 'index_average', #career velocity\n",
    "                  'net_target', 'target_delta', #target\n",
    "                  'pdi_score', 'pdi_score_category', #pdi\n",
    "                  'fc_count', 'lc_count', #PDP\n",
    "                  'function', #function\n",
    "                   'ebm_level', #EBM\n",
    "                  'talent_pool', 'count_of_belts', #talent pool and belts flag\n",
    "                   'talentpool_renomination', #talent pool renimation\n",
    "                  'teamsize', 'teamsize_delta', #teamsize and teamsize between years\n",
    "                  'engagement_score', 'manager_effectiveness_score'] #engagement features"
   ]
  },
  {
   "cell_type": "code",
   "execution_count": 819,
   "metadata": {},
   "outputs": [],
   "source": [
    "train_experiment = train_0to5[experiment_cols]\n",
    "valid_experiment = valid_0to5[experiment_cols]"
   ]
  },
  {
   "cell_type": "code",
   "execution_count": 820,
   "metadata": {},
   "outputs": [],
   "source": [
    "# ################ to filter out 2016 #####################\n",
    "\n",
    "# train_experiment['response'] = ytrain_0to5\n",
    "# trainnew = train_experiment[train_experiment['year']==2017]\n",
    "# trainnew.reset_index(drop=True, inplace=True)\n",
    "# ytrainnew = np.array(trainnew.response)\n",
    "# trainnew.drop(columns=['response'], inplace=True)\n",
    "# train_experiment.drop(columns=['response'], inplace=True)\n",
    "\n",
    "# validnew = valid_experiment.copy()\n",
    "# yvalidnew = yvalid_0to5.copy()"
   ]
  },
  {
   "cell_type": "code",
   "execution_count": 821,
   "metadata": {},
   "outputs": [
    {
     "data": {
      "text/plain": [
       "ZONE NORTH AMERICA      2180\n",
       "ZONE SOUTH AMERICA      1980\n",
       "ZONE EUROPE             1231\n",
       "ZONE ASIA PACIFIC       1035\n",
       "GLOBAL                   996\n",
       "ZONE MIDDLE AMERICAS     570\n",
       "ZXV                      221\n",
       "ZONE AFRICA              120\n",
       "Name: zone, dtype: int64"
      ]
     },
     "execution_count": 821,
     "metadata": {},
     "output_type": "execute_result"
    }
   ],
   "source": [
    "train_experiment.zone.value_counts()"
   ]
  },
  {
   "cell_type": "code",
   "execution_count": 823,
   "metadata": {},
   "outputs": [
    {
     "data": {
      "text/plain": [
       "((8333, 30), (8333,))"
      ]
     },
     "execution_count": 823,
     "metadata": {},
     "output_type": "execute_result"
    },
    {
     "data": {
      "text/plain": [
       "((5904, 30), (5904,))"
      ]
     },
     "execution_count": 823,
     "metadata": {},
     "output_type": "execute_result"
    }
   ],
   "source": [
    "train_experiment.shape, ytrain_0to5.shape\n",
    "valid_experiment.shape, yvalid_0to5.shape\n",
    "\n",
    "# trainnew.shape, ytrainnew.shape\n",
    "# validnew.shape, yvalidnew.shape"
   ]
  },
  {
   "cell_type": "code",
   "execution_count": 759,
   "metadata": {},
   "outputs": [
    {
     "name": "stdout",
     "output_type": "stream",
     "text": [
      "category encoding is happening ... \n",
      "\n",
      "category encoding completed \n",
      "\n",
      "[0]\ttrain-mlogloss:1.66653\ttrain-merror:0.309439\ttest-mlogloss:1.7315\ttest-merror:0.615046\n",
      "Multiple eval metrics have been passed: 'test-merror' will be used for early stopping.\n",
      "\n",
      "Will train until test-merror hasn't improved in 50 rounds.\n",
      "[10]\ttrain-mlogloss:0.920298\ttrain-merror:0.060474\ttest-mlogloss:1.44639\ttest-merror:0.551256\n",
      "[20]\ttrain-mlogloss:0.576374\ttrain-merror:0.023323\ttest-mlogloss:1.37037\ttest-merror:0.546596\n",
      "[30]\ttrain-mlogloss:0.394484\ttrain-merror:0.008826\ttest-mlogloss:1.35414\ttest-merror:0.542483\n",
      "[40]\ttrain-mlogloss:0.291679\ttrain-merror:0.004697\ttest-mlogloss:1.36461\ttest-merror:0.543183\n",
      "[50]\ttrain-mlogloss:0.227346\ttrain-merror:0.00156\ttest-mlogloss:1.38325\ttest-merror:0.54276\n",
      "[60]\ttrain-mlogloss:0.184718\ttrain-merror:0.000551\ttest-mlogloss:1.40745\ttest-merror:0.543176\n",
      "[70]\ttrain-mlogloss:0.153752\ttrain-merror:0.000136\ttest-mlogloss:1.43397\ttest-merror:0.5454\n",
      "[80]\ttrain-mlogloss:0.132569\ttrain-merror:0.000136\ttest-mlogloss:1.45741\ttest-merror:0.54672\n",
      "Stopping. Best iteration:\n",
      "[32]\ttrain-mlogloss:0.370507\ttrain-merror:0.008122\ttest-mlogloss:1.3537\ttest-merror:0.541608\n",
      "\n",
      "Test error using softprob = 0.44342818428184283\n",
      "0.5565718157181572\n",
      "[[  22   10  115   29    7    0]\n",
      " [  13   38  217   62   13    0]\n",
      " [  22   44 1881  622   64    8]\n",
      " [   3    9  578 1031  137   18]\n",
      " [   0    2   81  345  291    7]\n",
      " [   0    0   35   87   90   23]]\n"
     ]
    },
    {
     "data": {
      "text/plain": [
       "<matplotlib.axes._subplots.AxesSubplot at 0x1fc32c70a20>"
      ]
     },
     "execution_count": 759,
     "metadata": {},
     "output_type": "execute_result"
    },
    {
     "data": {
      "image/png": "[encoded data removed]",
      "text/plain": [
       "<Figure size 432x288 with 1 Axes>"
      ]
     },
     "metadata": {
      "needs_background": "light"
     },
     "output_type": "display_data"
    }
   ],
   "source": [
    "%run -i ../input/SCRIPTS/ml_xgboost.py\n",
    "\n",
    "xgb_model, xgb_feat_names, xgtrain, xgtest, xgbpred, xgb_pred_probs = quick_model_xgb(train=trainnew.copy(), \n",
    "                                                                                      valid=validnew.copy(), \n",
    "                                                                                      ytrain=ytrainnew.copy(),\n",
    "                                                                                      yvalid=yvalidnew.copy())\n",
    "\n",
    "feature_importance_df1 = get_xgb_imp(xgb_model)\n",
    "xgb.plot_importance(xgb_model, max_num_features=20)\n",
    "# feature_importance_df1.to_csv('experiment_featureimp.csv', index=False)"
   ]
  },
  {
   "cell_type": "code",
   "execution_count": null,
   "metadata": {},
   "outputs": [],
   "source": [
    "%run -i ../input/SCRIPTS/rules_and_shape.py"
   ]
  },
  {
   "cell_type": "code",
   "execution_count": 776,
   "metadata": {},
   "outputs": [
    {
     "data": {
      "text/html": [
       "<div>\n",
       "<style scoped>\n",
       "    .dataframe tbody tr th:only-of-type {\n",
       "        vertical-align: middle;\n",
       "    }\n",
       "\n",
       "    .dataframe tbody tr th {\n",
       "        vertical-align: top;\n",
       "    }\n",
       "\n",
       "    .dataframe thead th {\n",
       "        text-align: right;\n",
       "    }\n",
       "</style>\n",
       "<table border=\"1\" class=\"dataframe\">\n",
       "  <thead>\n",
       "    <tr style=\"text-align: right;\">\n",
       "      <th></th>\n",
       "      <th>zone</th>\n",
       "      <th>response</th>\n",
       "      <th>rules_prediction</th>\n",
       "      <th>s_opr</th>\n",
       "      <th>pred</th>\n",
       "      <th>pred_mapped</th>\n",
       "      <th>response_mapped</th>\n",
       "    </tr>\n",
       "  </thead>\n",
       "  <tbody>\n",
       "    <tr>\n",
       "      <th>0</th>\n",
       "      <td>ZONE EUROPE</td>\n",
       "      <td>1B</td>\n",
       "      <td>nan</td>\n",
       "      <td>1B</td>\n",
       "      <td>1B</td>\n",
       "      <td>0</td>\n",
       "      <td>0</td>\n",
       "    </tr>\n",
       "    <tr>\n",
       "      <th>1</th>\n",
       "      <td>ZONE EUROPE</td>\n",
       "      <td>1A</td>\n",
       "      <td>nan</td>\n",
       "      <td>1A</td>\n",
       "      <td>1A</td>\n",
       "      <td>1</td>\n",
       "      <td>1</td>\n",
       "    </tr>\n",
       "  </tbody>\n",
       "</table>\n",
       "</div>"
      ],
      "text/plain": [
       "          zone response rules_prediction s_opr pred  pred_mapped  \\\n",
       "0  ZONE EUROPE       1B              nan    1B   1B            0   \n",
       "1  ZONE EUROPE       1A              nan    1A   1A            1   \n",
       "\n",
       "   response_mapped  \n",
       "0                0  \n",
       "1                1  "
      ]
     },
     "execution_count": 776,
     "metadata": {},
     "output_type": "execute_result"
    },
    {
     "name": "stdout",
     "output_type": "stream",
     "text": [
      "the rules and shape predictions distribution\n"
     ]
    },
    {
     "data": {
      "text/html": [
       "<div>\n",
       "<style scoped>\n",
       "    .dataframe tbody tr th:only-of-type {\n",
       "        vertical-align: middle;\n",
       "    }\n",
       "\n",
       "    .dataframe tbody tr th {\n",
       "        vertical-align: top;\n",
       "    }\n",
       "\n",
       "    .dataframe thead th {\n",
       "        text-align: right;\n",
       "    }\n",
       "</style>\n",
       "<table border=\"1\" class=\"dataframe\">\n",
       "  <thead>\n",
       "    <tr style=\"text-align: right;\">\n",
       "      <th></th>\n",
       "      <th>a</th>\n",
       "      <th>b</th>\n",
       "      <th>dist</th>\n",
       "    </tr>\n",
       "  </thead>\n",
       "  <tbody>\n",
       "    <tr>\n",
       "      <th>0</th>\n",
       "      <td>1A</td>\n",
       "      <td>297</td>\n",
       "      <td>5.03049</td>\n",
       "    </tr>\n",
       "    <tr>\n",
       "      <th>1</th>\n",
       "      <td>1B</td>\n",
       "      <td>167</td>\n",
       "      <td>2.82859</td>\n",
       "    </tr>\n",
       "    <tr>\n",
       "      <th>2</th>\n",
       "      <td>3A</td>\n",
       "      <td>1373</td>\n",
       "      <td>23.2554</td>\n",
       "    </tr>\n",
       "    <tr>\n",
       "      <th>3</th>\n",
       "      <td>3B</td>\n",
       "      <td>3034</td>\n",
       "      <td>51.3889</td>\n",
       "    </tr>\n",
       "    <tr>\n",
       "      <th>4</th>\n",
       "      <td>4A</td>\n",
       "      <td>295</td>\n",
       "      <td>4.99661</td>\n",
       "    </tr>\n",
       "    <tr>\n",
       "      <th>5</th>\n",
       "      <td>4B</td>\n",
       "      <td>738</td>\n",
       "      <td>12.5</td>\n",
       "    </tr>\n",
       "  </tbody>\n",
       "</table>\n",
       "</div>"
      ],
      "text/plain": [
       "    a     b     dist\n",
       "0  1A   297  5.03049\n",
       "1  1B   167  2.82859\n",
       "2  3A  1373  23.2554\n",
       "3  3B  3034  51.3889\n",
       "4  4A   295  4.99661\n",
       "5  4B   738     12.5"
      ]
     },
     "execution_count": 776,
     "metadata": {},
     "output_type": "execute_result"
    },
    {
     "name": "stdout",
     "output_type": "stream",
     "text": [
      "\n",
      "\n",
      "the rules and shape confusion matrix\n"
     ]
    },
    {
     "data": {
      "text/plain": [
       "array([[  57,   19,   83,   11,    7,    6],\n",
       "       [  30,   83,  168,   37,   20,    5],\n",
       "       [  58,  152, 1897,  388,  108,   38],\n",
       "       [  15,   40,  717,  683,  237,   84],\n",
       "       [   7,    2,  129,  196,  313,   79],\n",
       "       [   0,    1,   40,   58,   53,   83]], dtype=int64)"
      ]
     },
     "execution_count": 776,
     "metadata": {},
     "output_type": "execute_result"
    },
    {
     "name": "stdout",
     "output_type": "stream",
     "text": [
      "\n",
      "\n",
      "the rules and shape precision score in the order -> [1A, 3B, 3A, 4B, 4A]\n"
     ]
    },
    {
     "data": {
      "text/plain": [
       "array([34.13173653, 27.94612795, 62.52471984, 49.74508376, 42.41192412,\n",
       "       28.13559322])"
      ]
     },
     "execution_count": 776,
     "metadata": {},
     "output_type": "execute_result"
    },
    {
     "name": "stdout",
     "output_type": "stream",
     "text": [
      "\n",
      "\n",
      "the zone level statistics\n"
     ]
    },
    {
     "data": {
      "text/html": [
       "<div>\n",
       "<style scoped>\n",
       "    .dataframe tbody tr th:only-of-type {\n",
       "        vertical-align: middle;\n",
       "    }\n",
       "\n",
       "    .dataframe tbody tr th {\n",
       "        vertical-align: top;\n",
       "    }\n",
       "\n",
       "    .dataframe thead th {\n",
       "        text-align: right;\n",
       "    }\n",
       "</style>\n",
       "<table border=\"1\" class=\"dataframe\">\n",
       "  <thead>\n",
       "    <tr style=\"text-align: right;\">\n",
       "      <th></th>\n",
       "      <th>zone</th>\n",
       "      <th>response_mapped</th>\n",
       "      <th>exact</th>\n",
       "      <th>dev1</th>\n",
       "      <th>accuracy_exact</th>\n",
       "      <th>accuracy_dev1</th>\n",
       "    </tr>\n",
       "  </thead>\n",
       "  <tbody>\n",
       "    <tr>\n",
       "      <th>0</th>\n",
       "      <td>GLOBAL</td>\n",
       "      <td>657</td>\n",
       "      <td>355</td>\n",
       "      <td>580</td>\n",
       "      <td>54.033486</td>\n",
       "      <td>88.280061</td>\n",
       "    </tr>\n",
       "    <tr>\n",
       "      <th>1</th>\n",
       "      <td>ZONE AFRICA</td>\n",
       "      <td>386</td>\n",
       "      <td>161</td>\n",
       "      <td>326</td>\n",
       "      <td>41.709845</td>\n",
       "      <td>84.455959</td>\n",
       "    </tr>\n",
       "    <tr>\n",
       "      <th>2</th>\n",
       "      <td>ZONE ASIA PACIFIC</td>\n",
       "      <td>838</td>\n",
       "      <td>410</td>\n",
       "      <td>717</td>\n",
       "      <td>48.926014</td>\n",
       "      <td>85.560859</td>\n",
       "    </tr>\n",
       "    <tr>\n",
       "      <th>3</th>\n",
       "      <td>ZONE EUROPE</td>\n",
       "      <td>701</td>\n",
       "      <td>349</td>\n",
       "      <td>580</td>\n",
       "      <td>49.786020</td>\n",
       "      <td>82.738944</td>\n",
       "    </tr>\n",
       "    <tr>\n",
       "      <th>4</th>\n",
       "      <td>ZONE MIDDLE AMERICAS</td>\n",
       "      <td>622</td>\n",
       "      <td>294</td>\n",
       "      <td>512</td>\n",
       "      <td>47.266881</td>\n",
       "      <td>82.315113</td>\n",
       "    </tr>\n",
       "    <tr>\n",
       "      <th>5</th>\n",
       "      <td>ZONE NORTH AMERICA</td>\n",
       "      <td>1201</td>\n",
       "      <td>735</td>\n",
       "      <td>1097</td>\n",
       "      <td>61.199001</td>\n",
       "      <td>91.340550</td>\n",
       "    </tr>\n",
       "    <tr>\n",
       "      <th>6</th>\n",
       "      <td>ZONE SOUTH AMERICA</td>\n",
       "      <td>1262</td>\n",
       "      <td>716</td>\n",
       "      <td>1149</td>\n",
       "      <td>56.735341</td>\n",
       "      <td>91.045959</td>\n",
       "    </tr>\n",
       "    <tr>\n",
       "      <th>7</th>\n",
       "      <td>ZXV</td>\n",
       "      <td>237</td>\n",
       "      <td>96</td>\n",
       "      <td>194</td>\n",
       "      <td>40.506329</td>\n",
       "      <td>81.856540</td>\n",
       "    </tr>\n",
       "  </tbody>\n",
       "</table>\n",
       "</div>"
      ],
      "text/plain": [
       "                   zone  response_mapped  exact  dev1  accuracy_exact  \\\n",
       "0                GLOBAL              657    355   580       54.033486   \n",
       "1           ZONE AFRICA              386    161   326       41.709845   \n",
       "2     ZONE ASIA PACIFIC              838    410   717       48.926014   \n",
       "3           ZONE EUROPE              701    349   580       49.786020   \n",
       "4  ZONE MIDDLE AMERICAS              622    294   512       47.266881   \n",
       "5    ZONE NORTH AMERICA             1201    735  1097       61.199001   \n",
       "6    ZONE SOUTH AMERICA             1262    716  1149       56.735341   \n",
       "7                   ZXV              237     96   194       40.506329   \n",
       "\n",
       "   accuracy_dev1  \n",
       "0      88.280061  \n",
       "1      84.455959  \n",
       "2      85.560859  \n",
       "3      82.738944  \n",
       "4      82.315113  \n",
       "5      91.340550  \n",
       "6      91.045959  \n",
       "7      81.856540  "
      ]
     },
     "execution_count": 776,
     "metadata": {},
     "output_type": "execute_result"
    },
    {
     "name": "stdout",
     "output_type": "stream",
     "text": [
      "\n",
      "\n",
      "total accuracy:  0.5277777777777778\n",
      "dev 1 accuracy:  0.8731368563685636\n"
     ]
    }
   ],
   "source": [
    "rules_and_shape_df.head(2)\n",
    "\n",
    "xxx=pd.DataFrame(np.array(np.unique(rules_and_shape_df.pred, return_counts=True)).T)\n",
    "xxx.columns = ['a', 'b']\n",
    "xxx['dist'] = 100*(xxx['b']/xxx['b'].sum())\n",
    "print('the rules and shape predictions distribution')\n",
    "xxx\n",
    "print('\\n')\n",
    "\n",
    "#rules_and_shape_df['pred'].value_counts()\n",
    "#rules_and_shape_df.response.value_counts()\n",
    "rules_and_shape_df['pred_mapped'] = rules_and_shape_df['pred'].map(dep_dict)\n",
    "rules_and_shape_df['response_mapped'] = rules_and_shape_df['response'].map(dep_dict)\n",
    "\n",
    "print('the rules and shape confusion matrix')\n",
    "skm.confusion_matrix(y_pred=rules_and_shape_df['pred_mapped'], \n",
    "                     y_true=rules_and_shape_df['response_mapped'])\n",
    "print('\\n')\n",
    "\n",
    "print('the rules and shape precision score in the order -> [1A, 3B, 3A, 4B, 4A]')\n",
    "100*(skm.precision_score(y_pred=rules_and_shape_df['pred_mapped'], \n",
    "                         y_true=rules_and_shape_df['response_mapped'], average=None))\n",
    "print('\\n')\n",
    "\n",
    "preddf = rules_and_shape_df[['zone', 'response_mapped', 'pred_mapped']].copy()\n",
    "preddf['exact'] = np.where(preddf['response_mapped']==preddf['pred_mapped'], 1, 0)\n",
    "preddf['dev'] = (preddf['response_mapped'] - preddf['pred_mapped']).astype(int).abs()\n",
    "preddf['dev1'] = np.where(preddf['dev']<2, 1, 0)\n",
    "\n",
    "preddf2 = preddf.groupby(['zone']).agg({'response_mapped':np.size, 'exact':np.sum, 'dev1':np.sum}).reset_index()\n",
    "preddf2['accuracy_exact'] = (preddf2['exact']/preddf2['response_mapped'])*100\n",
    "preddf2['accuracy_dev1'] = (preddf2['dev1']/preddf2['response_mapped'])*100\n",
    "print('the zone level statistics')\n",
    "preddf2\n",
    "print('\\n')\n",
    "\n",
    "print('total accuracy: ', preddf2.exact.sum()/preddf2.response_mapped.sum())\n",
    "print('dev 1 accuracy: ', preddf2.dev1.sum()/preddf2.response_mapped.sum())"
   ]
  },
  {
   "cell_type": "code",
   "execution_count": 761,
   "metadata": {},
   "outputs": [
    {
     "data": {
      "text/html": [
       "<div>\n",
       "<style scoped>\n",
       "    .dataframe tbody tr th:only-of-type {\n",
       "        vertical-align: middle;\n",
       "    }\n",
       "\n",
       "    .dataframe tbody tr th {\n",
       "        vertical-align: top;\n",
       "    }\n",
       "\n",
       "    .dataframe thead th {\n",
       "        text-align: right;\n",
       "    }\n",
       "</style>\n",
       "<table border=\"1\" class=\"dataframe\">\n",
       "  <thead>\n",
       "    <tr style=\"text-align: right;\">\n",
       "      <th></th>\n",
       "      <th>zone</th>\n",
       "      <th>response</th>\n",
       "      <th>rules_prediction</th>\n",
       "      <th>s_opr</th>\n",
       "      <th>pred</th>\n",
       "    </tr>\n",
       "  </thead>\n",
       "  <tbody>\n",
       "    <tr>\n",
       "      <th>0</th>\n",
       "      <td>ZONE EUROPE</td>\n",
       "      <td>1B</td>\n",
       "      <td>nan</td>\n",
       "      <td>1B</td>\n",
       "      <td>1B</td>\n",
       "    </tr>\n",
       "    <tr>\n",
       "      <th>1</th>\n",
       "      <td>ZONE EUROPE</td>\n",
       "      <td>1A</td>\n",
       "      <td>nan</td>\n",
       "      <td>1A</td>\n",
       "      <td>1A</td>\n",
       "    </tr>\n",
       "  </tbody>\n",
       "</table>\n",
       "</div>"
      ],
      "text/plain": [
       "          zone response rules_prediction s_opr pred\n",
       "0  ZONE EUROPE       1B              nan    1B   1B\n",
       "1  ZONE EUROPE       1A              nan    1A   1A"
      ]
     },
     "execution_count": 761,
     "metadata": {},
     "output_type": "execute_result"
    }
   ],
   "source": []
  },
  {
   "cell_type": "code",
   "execution_count": 775,
   "metadata": {},
   "outputs": [
    {
     "name": "stdout",
     "output_type": "stream",
     "text": [
      "the rules and shape predictions distribution\n"
     ]
    },
    {
     "data": {
      "text/html": [
       "<div>\n",
       "<style scoped>\n",
       "    .dataframe tbody tr th:only-of-type {\n",
       "        vertical-align: middle;\n",
       "    }\n",
       "\n",
       "    .dataframe tbody tr th {\n",
       "        vertical-align: top;\n",
       "    }\n",
       "\n",
       "    .dataframe thead th {\n",
       "        text-align: right;\n",
       "    }\n",
       "</style>\n",
       "<table border=\"1\" class=\"dataframe\">\n",
       "  <thead>\n",
       "    <tr style=\"text-align: right;\">\n",
       "      <th></th>\n",
       "      <th>a</th>\n",
       "      <th>b</th>\n",
       "      <th>dist</th>\n",
       "    </tr>\n",
       "  </thead>\n",
       "  <tbody>\n",
       "    <tr>\n",
       "      <th>0</th>\n",
       "      <td>1A</td>\n",
       "      <td>297</td>\n",
       "      <td>5.03049</td>\n",
       "    </tr>\n",
       "    <tr>\n",
       "      <th>1</th>\n",
       "      <td>1B</td>\n",
       "      <td>167</td>\n",
       "      <td>2.82859</td>\n",
       "    </tr>\n",
       "    <tr>\n",
       "      <th>2</th>\n",
       "      <td>3A</td>\n",
       "      <td>1373</td>\n",
       "      <td>23.2554</td>\n",
       "    </tr>\n",
       "    <tr>\n",
       "      <th>3</th>\n",
       "      <td>3B</td>\n",
       "      <td>3034</td>\n",
       "      <td>51.3889</td>\n",
       "    </tr>\n",
       "    <tr>\n",
       "      <th>4</th>\n",
       "      <td>4A</td>\n",
       "      <td>295</td>\n",
       "      <td>4.99661</td>\n",
       "    </tr>\n",
       "    <tr>\n",
       "      <th>5</th>\n",
       "      <td>4B</td>\n",
       "      <td>738</td>\n",
       "      <td>12.5</td>\n",
       "    </tr>\n",
       "  </tbody>\n",
       "</table>\n",
       "</div>"
      ],
      "text/plain": [
       "    a     b     dist\n",
       "0  1A   297  5.03049\n",
       "1  1B   167  2.82859\n",
       "2  3A  1373  23.2554\n",
       "3  3B  3034  51.3889\n",
       "4  4A   295  4.99661\n",
       "5  4B   738     12.5"
      ]
     },
     "execution_count": 775,
     "metadata": {},
     "output_type": "execute_result"
    },
    {
     "name": "stdout",
     "output_type": "stream",
     "text": [
      "\n",
      "\n",
      "the rules and shape confusion matrix\n"
     ]
    },
    {
     "data": {
      "text/plain": [
       "array([[  57,   19,   83,   11,    7,    6],\n",
       "       [  30,   83,  168,   37,   20,    5],\n",
       "       [  58,  152, 1897,  388,  108,   38],\n",
       "       [  15,   40,  717,  683,  237,   84],\n",
       "       [   7,    2,  129,  196,  313,   79],\n",
       "       [   0,    1,   40,   58,   53,   83]], dtype=int64)"
      ]
     },
     "execution_count": 775,
     "metadata": {},
     "output_type": "execute_result"
    },
    {
     "name": "stdout",
     "output_type": "stream",
     "text": [
      "\n",
      "\n",
      "the rules and shape precision score in the order -> [1A, 3B, 3A, 4B, 4A]\n"
     ]
    },
    {
     "data": {
      "text/plain": [
       "array([34.13173653, 27.94612795, 62.52471984, 49.74508376, 42.41192412,\n",
       "       28.13559322])"
      ]
     },
     "execution_count": 775,
     "metadata": {},
     "output_type": "execute_result"
    },
    {
     "name": "stdout",
     "output_type": "stream",
     "text": [
      "\n",
      "\n",
      "the zone level statistics\n"
     ]
    },
    {
     "data": {
      "text/html": [
       "<div>\n",
       "<style scoped>\n",
       "    .dataframe tbody tr th:only-of-type {\n",
       "        vertical-align: middle;\n",
       "    }\n",
       "\n",
       "    .dataframe tbody tr th {\n",
       "        vertical-align: top;\n",
       "    }\n",
       "\n",
       "    .dataframe thead th {\n",
       "        text-align: right;\n",
       "    }\n",
       "</style>\n",
       "<table border=\"1\" class=\"dataframe\">\n",
       "  <thead>\n",
       "    <tr style=\"text-align: right;\">\n",
       "      <th></th>\n",
       "      <th>zone</th>\n",
       "      <th>response_mapped</th>\n",
       "      <th>exact</th>\n",
       "      <th>dev1</th>\n",
       "      <th>accuracy_exact</th>\n",
       "      <th>accuracy_dev1</th>\n",
       "    </tr>\n",
       "  </thead>\n",
       "  <tbody>\n",
       "    <tr>\n",
       "      <th>0</th>\n",
       "      <td>GLOBAL</td>\n",
       "      <td>657</td>\n",
       "      <td>355</td>\n",
       "      <td>580</td>\n",
       "      <td>54.033486</td>\n",
       "      <td>88.280061</td>\n",
       "    </tr>\n",
       "    <tr>\n",
       "      <th>1</th>\n",
       "      <td>ZONE AFRICA</td>\n",
       "      <td>386</td>\n",
       "      <td>161</td>\n",
       "      <td>326</td>\n",
       "      <td>41.709845</td>\n",
       "      <td>84.455959</td>\n",
       "    </tr>\n",
       "    <tr>\n",
       "      <th>2</th>\n",
       "      <td>ZONE ASIA PACIFIC</td>\n",
       "      <td>838</td>\n",
       "      <td>410</td>\n",
       "      <td>717</td>\n",
       "      <td>48.926014</td>\n",
       "      <td>85.560859</td>\n",
       "    </tr>\n",
       "    <tr>\n",
       "      <th>3</th>\n",
       "      <td>ZONE EUROPE</td>\n",
       "      <td>701</td>\n",
       "      <td>349</td>\n",
       "      <td>580</td>\n",
       "      <td>49.786020</td>\n",
       "      <td>82.738944</td>\n",
       "    </tr>\n",
       "    <tr>\n",
       "      <th>4</th>\n",
       "      <td>ZONE MIDDLE AMERICAS</td>\n",
       "      <td>622</td>\n",
       "      <td>294</td>\n",
       "      <td>512</td>\n",
       "      <td>47.266881</td>\n",
       "      <td>82.315113</td>\n",
       "    </tr>\n",
       "    <tr>\n",
       "      <th>5</th>\n",
       "      <td>ZONE NORTH AMERICA</td>\n",
       "      <td>1201</td>\n",
       "      <td>735</td>\n",
       "      <td>1097</td>\n",
       "      <td>61.199001</td>\n",
       "      <td>91.340550</td>\n",
       "    </tr>\n",
       "    <tr>\n",
       "      <th>6</th>\n",
       "      <td>ZONE SOUTH AMERICA</td>\n",
       "      <td>1262</td>\n",
       "      <td>716</td>\n",
       "      <td>1149</td>\n",
       "      <td>56.735341</td>\n",
       "      <td>91.045959</td>\n",
       "    </tr>\n",
       "    <tr>\n",
       "      <th>7</th>\n",
       "      <td>ZXV</td>\n",
       "      <td>237</td>\n",
       "      <td>96</td>\n",
       "      <td>194</td>\n",
       "      <td>40.506329</td>\n",
       "      <td>81.856540</td>\n",
       "    </tr>\n",
       "  </tbody>\n",
       "</table>\n",
       "</div>"
      ],
      "text/plain": [
       "                   zone  response_mapped  exact  dev1  accuracy_exact  \\\n",
       "0                GLOBAL              657    355   580       54.033486   \n",
       "1           ZONE AFRICA              386    161   326       41.709845   \n",
       "2     ZONE ASIA PACIFIC              838    410   717       48.926014   \n",
       "3           ZONE EUROPE              701    349   580       49.786020   \n",
       "4  ZONE MIDDLE AMERICAS              622    294   512       47.266881   \n",
       "5    ZONE NORTH AMERICA             1201    735  1097       61.199001   \n",
       "6    ZONE SOUTH AMERICA             1262    716  1149       56.735341   \n",
       "7                   ZXV              237     96   194       40.506329   \n",
       "\n",
       "   accuracy_dev1  \n",
       "0      88.280061  \n",
       "1      84.455959  \n",
       "2      85.560859  \n",
       "3      82.738944  \n",
       "4      82.315113  \n",
       "5      91.340550  \n",
       "6      91.045959  \n",
       "7      81.856540  "
      ]
     },
     "execution_count": 775,
     "metadata": {},
     "output_type": "execute_result"
    },
    {
     "name": "stdout",
     "output_type": "stream",
     "text": [
      "\n",
      "\n",
      "total accuracy:  0.5277777777777778\n",
      "dev 1 accuracy:  0.8731368563685636\n"
     ]
    }
   ],
   "source": []
  },
  {
   "cell_type": "code",
   "execution_count": null,
   "metadata": {},
   "outputs": [],
   "source": []
  },
  {
   "cell_type": "code",
   "execution_count": 610,
   "metadata": {},
   "outputs": [],
   "source": [
    "opr_dict = {5.:'4A', 4.:'4B', 3.:'3A', 2.:'3B', 1.:'1A', 0.:'1B'}\n",
    "trainnew['opr_prev'] = trainnew['opr_prev'].map(opr_dict)\n",
    "trainnew['opr_prev_prev'] = trainnew['opr_prev_prev'].map(opr_dict)\n",
    "validnew['opr_prev'] = validnew['opr_prev'].map(opr_dict)\n",
    "validnew['opr_prev_prev'] = validnew['opr_prev_prev'].map(opr_dict)\n",
    "\n",
    "ytrainnew = np.vectorize(opr_dict.get)(ytrainnew)\n",
    "yvalidnew = np.vectorize(opr_dict.get)(yvalidnew)\n",
    "\n",
    "psg_bands_dict = {0:'0_b', \n",
    "                  1:'i_a', 2:'i_b', \n",
    "                  3:'ii_a', 4:'ii_b', \n",
    "                  5:'iii_a', 6:'iii_b', \n",
    "                  7:'iv_a', 8:'iv_b', \n",
    "                  9:'v_a', 10:'v_b', \n",
    "                  11:'vi_a', 12:'vi_b',\n",
    "                  13:'vii_a', 14:'vii_b'}\n",
    "trainnew['employee_band'] = trainnew['employee_band'].map(psg_bands_dict)\n",
    "validnew['employee_band'] = validnew['employee_band'].map(psg_bands_dict)\n",
    "\n",
    "xgbpred = np.vectorize(opr_dict.get)(xgbpred)\n",
    "\n",
    "validnew['opr_2018'] = yvalidnew\n",
    "validnew['predictions'] = xgbpred\n",
    "\n",
    "bp_files = open('../working/bp_backup.pkl', 'rb')\n",
    "bp_2016 = pickle.load(bp_files)\n",
    "bp_2017 = pickle.load(bp_files)\n",
    "bp_2018 = pickle.load(bp_files)\n",
    "bp_files.close()\n",
    "\n",
    "bp16=bp_2016[['global_id', 'employee_name', 'position_title', 'year']]\n",
    "bp17=bp_2017[['global_id', 'employee_name', 'position_title', 'year']]\n",
    "bp18=bp_2018[['global_id', 'employee_name', 'position_title', 'year']]\n",
    "\n",
    "dummyfull = pd.concat([bp16, bp17], axis=0)\n",
    "dummyfull = pd.concat([dummyfull, bp18], axis=0)\n",
    "\n",
    "validnew = validnew.merge(dummyfull, how='left', on=['global_id', 'year'])\n",
    "\n",
    "# compfull = open('../working/comp_backup.pkl', 'rb')\n",
    "# comp_full = pickle.load(compfull)\n",
    "# compfull.close()\n",
    "# compdummy = comp_full[comp_full['year']=='2018']\n",
    "# compdummy = compdummy[compdummy['competency_group']=='leadership_competencies']\n",
    "# compdummy.to_csv('compdummy.csv', index=False)\n",
    "\n",
    "validnew.to_csv('saz_2018.csv', index=False)"
   ]
  },
  {
   "cell_type": "code",
   "execution_count": 55,
   "metadata": {},
   "outputs": [
    {
     "name": "stdout",
     "output_type": "stream",
     "text": [
      "(220, 6)\n"
     ]
    }
   ],
   "source": [
    "feature_list = helpers.xlsx_read('../input/FEATURE_LIST.xlsx', sheet_name='list')\n",
    "feature_list = feature_list[feature_list['ml_inclusion']==1]\n",
    "feature_list = list(feature_list.features)\n",
    "feature_list.extend(['global_id', 'year'])\n",
    "\n",
    "trainnew = train_0to5[feature_list]\n",
    "validnew = valid_0to5[feature_list]"
   ]
  },
  {
   "cell_type": "code",
   "execution_count": 706,
   "metadata": {},
   "outputs": [
    {
     "name": "stdout",
     "output_type": "stream",
     "text": [
      "category encoding is happening ... \n",
      "\n",
      "category encoding completed \n",
      "\n",
      "0:\tlearn: 0.5454189\ttest: 0.5094851\tbest: 0.5094851 (0)\ttotal: 316ms\tremaining: 31.2s\n",
      "20:\tlearn: 0.5995684\ttest: 0.5641938\tbest: 0.5641938 (18)\ttotal: 11.1s\tremaining: 41.8s\n",
      "40:\tlearn: 0.6372376\ttest: 0.5658875\tbest: 0.5662263 (38)\ttotal: 24s\tremaining: 34.5s\n",
      "60:\tlearn: 0.6688248\ttest: 0.5719851\tbest: 0.5728320 (55)\ttotal: 37.1s\tremaining: 23.7s\n",
      "80:\tlearn: 0.6913871\ttest: 0.5692751\tbest: 0.5730014 (61)\ttotal: 48.8s\tremaining: 11.4s\n",
      "99:\tlearn: 0.7131646\ttest: 0.5707995\tbest: 0.5730014 (61)\ttotal: 1m\tremaining: 0us\n",
      "\n",
      "bestTest = 0.573001355\n",
      "bestIteration = 61\n",
      "\n",
      "Shrink model to first 62 iterations.\n",
      "0.5730013550135501\n",
      "[[  17    6  122   36    1    1]\n",
      " [   2   18  247   69    7    0]\n",
      " [   7    8 1961  637   25    3]\n",
      " [   0    1  565 1148   52   10]\n",
      " [   0    0  100  396  229    1]\n",
      " [   0    0   38  102   85   10]]\n"
     ]
    }
   ],
   "source": [
    "%run -i ../input/SCRIPTS/ml_catboost.py\n",
    "\n",
    "cat_model, cat_pred, cat_probs = quick_model_cat(train=trainnew.copy(),\n",
    "                                                            valid=validnew.copy(),\n",
    "                                                            ytrain=ytrainnew.copy(),\n",
    "                                                            yvalid=yvalidnew.copy())"
   ]
  },
  {
   "cell_type": "code",
   "execution_count": 114,
   "metadata": {},
   "outputs": [],
   "source": [
    "# preddf = validnew[['zone']].copy()\n",
    "# preddf = pd.concat([preddf.reset_index(drop=True), \n",
    "#                     (pd.DataFrame({'predictions':rules_and_shape_df})).reset_index(drop=True)], axis=1)\n",
    "# preddf['actuals'] = yvalidnew.astype(int)\n",
    "# preddf['exact'] = np.where(preddf['actuals']==preddf['predictions'], 1, 0)\n",
    "# preddf['dev'] = (preddf['actuals'] - preddf['predictions']).astype(int).abs()\n",
    "# preddf['dev1'] = np.where(preddf['dev']<2, 1, 0)\n",
    "\n",
    "# preddf2 = preddf.groupby(['zone']).agg({'actuals':np.size, 'exact':np.sum, 'dev1':np.sum}).reset_index()\n",
    "# preddf2['accuracy_exact'] = (preddf2['exact']/preddf2['actuals'])*100\n",
    "# preddf2['accuracy_dev1'] = (preddf2['dev1']/preddf2['actuals'])*100\n",
    "# preddf2"
   ]
  },
  {
   "cell_type": "code",
   "execution_count": 74,
   "metadata": {},
   "outputs": [
    {
     "data": {
      "text/html": [
       "<div>\n",
       "<style scoped>\n",
       "    .dataframe tbody tr th:only-of-type {\n",
       "        vertical-align: middle;\n",
       "    }\n",
       "\n",
       "    .dataframe tbody tr th {\n",
       "        vertical-align: top;\n",
       "    }\n",
       "\n",
       "    .dataframe thead th {\n",
       "        text-align: right;\n",
       "    }\n",
       "</style>\n",
       "<table border=\"1\" class=\"dataframe\">\n",
       "  <thead>\n",
       "    <tr style=\"text-align: right;\">\n",
       "      <th></th>\n",
       "      <th>zone</th>\n",
       "      <th>response</th>\n",
       "      <th>rules_prediction</th>\n",
       "      <th>s_opr</th>\n",
       "      <th>pred</th>\n",
       "    </tr>\n",
       "  </thead>\n",
       "  <tbody>\n",
       "    <tr>\n",
       "      <th>4871</th>\n",
       "      <td>ZONE ASIA PACIFIC</td>\n",
       "      <td>3A</td>\n",
       "      <td>nan</td>\n",
       "      <td>4A</td>\n",
       "      <td>4A</td>\n",
       "    </tr>\n",
       "    <tr>\n",
       "      <th>4774</th>\n",
       "      <td>ZONE ASIA PACIFIC</td>\n",
       "      <td>3A</td>\n",
       "      <td>nan</td>\n",
       "      <td>4A</td>\n",
       "      <td>4A</td>\n",
       "    </tr>\n",
       "  </tbody>\n",
       "</table>\n",
       "</div>"
      ],
      "text/plain": [
       "                   zone response rules_prediction s_opr pred\n",
       "4871  ZONE ASIA PACIFIC       3A              nan    4A   4A\n",
       "4774  ZONE ASIA PACIFIC       3A              nan    4A   4A"
      ]
     },
     "execution_count": 74,
     "metadata": {},
     "output_type": "execute_result"
    }
   ],
   "source": [
    "# opr_dict = {'4A':5,'4B':4, '3A':3,'3B':2, '1A':1, '1B':0}\n",
    "# rules_and_shape_df['pred'] = rules_and_shape_df['pred'].map(opr_dict)\n",
    "# rules_and_shape_df['response'] = rules_and_shape_df['response'].map(opr_dict)\n",
    "# rules_and_shape_df.drop(columns=['rules_prediction', 's_opr'], inplace=True)\n",
    "rules_and_shape_df.head(2)"
   ]
  },
  {
   "cell_type": "code",
   "execution_count": 109,
   "metadata": {},
   "outputs": [],
   "source": [
    "# rules_and_shape_df['exact'] = np.where(rules_and_shape_df['response']==rules_and_shape_df['pred'], 1, 0)\n",
    "# rules_and_shape_df['dev'] = (rules_and_shape_df['response'] - rules_and_shape_df['pred']).astype(int).abs()\n",
    "# rules_and_shape_df['dev1'] = np.where(rules_and_shape_df['dev']<2, 1, 0)\n",
    "\n",
    "# rules_and_shape_df2 = rules_and_shape_df.groupby(['zone']).agg({'response':np.size, 'exact':np.sum, 'dev1':np.sum}).reset_index()\n",
    "# rules_and_shape_df2['accuracy_exact'] = (rules_and_shape_df2['exact']/rules_and_shape_df2['response'])*100\n",
    "# rules_and_shape_df2['accuracy_dev1'] = (rules_and_shape_df2['dev1']/rules_and_shape_df2['response'])*100\n",
    "# rules_and_shape_df2\n",
    "# rules_and_shape_df2['exact'].sum()/rules_and_shape_df2['response'].sum()\n",
    "# rules_and_shape_df2['dev1'].sum()/rules_and_shape_df2['response'].sum()"
   ]
  },
  {
   "cell_type": "code",
   "execution_count": 187,
   "metadata": {},
   "outputs": [
    {
     "name": "stdout",
     "output_type": "stream",
     "text": [
      "category encoding is happening ... \n",
      "\n",
      "category encoding completed \n",
      "\n",
      "0.5272277227722773\n"
     ]
    }
   ],
   "source": [
    "%run -i ../input/SCRIPTS/logit_qm.py\n",
    "\n",
    "logmodel, logpred, logpredprobs = quick_model_log(train.copy(), valid.copy(), ytrain.copy(), yvalid.copy())"
   ]
  },
  {
   "cell_type": "code",
   "execution_count": 191,
   "metadata": {},
   "outputs": [
    {
     "name": "stdout",
     "output_type": "stream",
     "text": [
      "category encoding is happening ... \n",
      "\n",
      "category encoding completed \n",
      "\n",
      "0.489038189533239\n"
     ]
    }
   ],
   "source": [
    "%run -i ../input/SCRIPTS/knn_qm.py\n",
    "\n",
    "knnmodel, knnpred, knnpredprobs = quick_model_knn(train.copy(), valid.copy(), ytrain.copy(), yvalid.copy())"
   ]
  },
  {
   "cell_type": "code",
   "execution_count": 209,
   "metadata": {},
   "outputs": [
    {
     "data": {
      "text/plain": [
       "(5656, 23)"
      ]
     },
     "execution_count": 209,
     "metadata": {},
     "output_type": "execute_result"
    }
   ],
   "source": [
    "xgb_df = pd.DataFrame(xgbpredprobs)\n",
    "xgb_df['pred'] = xgbpred\n",
    "xgb_df = xgb_df.add_prefix('xgb_')\n",
    "\n",
    "log_df = pd.DataFrame(logpredprobs)\n",
    "log_df['pred'] = logpred\n",
    "log_df = log_df.add_prefix('log_')\n",
    "\n",
    "knn_df = pd.DataFrame(knnpredprobs)\n",
    "knn_df['pred'] = knnpred\n",
    "knn_df = knn_df.add_prefix('knn_')\n",
    "\n",
    "all_df = pd.concat([xgb_df, log_df], axis=1)\n",
    "all_df = pd.concat([all_df, knn_df], axis=1)\n",
    "\n",
    "all_df['global_id'] = valid['global_id'].copy()\n",
    "all_df['actuals'] = yvalid\n",
    "\n",
    "all_df.shape\n",
    "all_df.to_csv('xgboost_logit_knn_predictions_and_probabilities.csv', index=False)"
   ]
  },
  {
   "cell_type": "code",
   "execution_count": 107,
   "metadata": {},
   "outputs": [
    {
     "data": {
      "text/plain": [
       "{'alpha': 0.036501474743678465,\n",
       " 'base_score': 0.40671062360557664,\n",
       " 'colsample_bylevel': 0.6448552711187292,\n",
       " 'colsample_bytree': 0.7265453955486527,\n",
       " 'gamma': 0.0017861473716917044,\n",
       " 'lambda': 0.03320627316568583,\n",
       " 'max_bin': 250.0,\n",
       " 'max_delta_step': 3.0,\n",
       " 'max_depth': 5.0,\n",
       " 'min_child_weight': 4.5,\n",
       " 'subsample': 0.7511770999393288}"
      ]
     },
     "execution_count": 107,
     "metadata": {},
     "output_type": "execute_result"
    }
   ],
   "source": [
    "xgbmod.best"
   ]
  },
  {
   "cell_type": "code",
   "execution_count": 108,
   "metadata": {},
   "outputs": [
    {
     "name": "stdout",
     "output_type": "stream",
     "text": [
      "0.5632956152758133 \n",
      "\n",
      "[[  44   14   84   25    7    0]\n",
      " [  18   46  188   52   16    0]\n",
      " [  31   61 1792  608   79    5]\n",
      " [  11   12  503  963  182   12]\n",
      " [   3    4   86  258  325    6]\n",
      " [   0    0   33   75   97   16]] \n",
      "\n"
     ]
    }
   ],
   "source": [
    "xgbmod.xgb_train_and_predict()"
   ]
  },
  {
   "cell_type": "code",
   "execution_count": 317,
   "metadata": {},
   "outputs": [],
   "source": [
    "# from nltk import word_tokenize\n",
    "\n",
    "# train['position_title'].fillna('', inplace=True)\n",
    "# train = helpers.nlp_process_columns(train, nlp_cols=['position_title'])\n",
    "# train['token'] = train['position_title'].apply(word_tokenize)"
   ]
  }
 ],
 "metadata": {
  "kernelspec": {
   "display_name": "Python 3",
   "language": "python",
   "name": "python3"
  },
  "language_info": {
   "codemirror_mode": {
    "name": "ipython",
    "version": 3
   },
   "file_extension": ".py",
   "mimetype": "text/x-python",
   "name": "python",
   "nbconvert_exporter": "python",
   "pygments_lexer": "ipython3",
   "version": "3.7.1"
  },
  "toc": {
   "base_numbering": 1,
   "nav_menu": {},
   "number_sections": true,
   "sideBar": true,
   "skip_h1_title": false,
   "title_cell": "Table of Contents",
   "title_sidebar": "Contents",
   "toc_cell": false,
   "toc_position": {},
   "toc_section_display": true,
   "toc_window_display": false
  },
  "varInspector": {
   "cols": {
    "lenName": 16,
    "lenType": 16,
    "lenVar": 40
   },
   "kernels_config": {
    "python": {
     "delete_cmd_postfix": "",
     "delete_cmd_prefix": "del ",
     "library": "var_list.py",
     "varRefreshCmd": "print(var_dic_list())"
    },
    "r": {
     "delete_cmd_postfix": ") ",
     "delete_cmd_prefix": "rm(",
     "library": "var_list.r",
     "varRefreshCmd": "cat(var_dic_list()) "
    }
   },
   "types_to_exclude": [
    "module",
    "function",
    "builtin_function_or_method",
    "instance",
    "_Feature"
   ],
   "window_display": false
  }
 },
 "nbformat": 4,
 "nbformat_minor": 2
}
