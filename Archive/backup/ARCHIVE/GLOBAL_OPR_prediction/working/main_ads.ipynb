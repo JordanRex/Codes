{
 "cells": [
  {
   "cell_type": "markdown",
   "metadata": {
    "Collapsed": "false"
   },
   "source": [
    "# GLOBAL OPR PREDICTION\n",
    "\n",
    "- Scope: All global banded employees (bands 0-5)\n",
    "- Zones: All zones (and ZXV)\n",
    "- ML perspective:\n",
    "    - multiclass (main)\n",
    "    - regression (discontinued)\n",
    "- ML process: xgboost/catboost\n",
    "- Feature perspective:\n",
    "    - opr as response\n",
    "    - historical opr\n",
    "    - all blueprint, competency, target, movement features\n",
    "    - train=2017\n",
    "    - valid=2018\n",
    "    - deployed model = 2018 or 2017+2018"
   ]
  },
  {
   "cell_type": "markdown",
   "metadata": {
    "Collapsed": "false"
   },
   "source": [
    "# INITIALIZATION"
   ]
  },
  {
   "cell_type": "code",
   "execution_count": 1,
   "metadata": {
    "Collapsed": "false"
   },
   "outputs": [
    {
     "name": "stderr",
     "output_type": "stream",
     "text": [
      "Using TensorFlow backend.\n"
     ]
    }
   ],
   "source": [
    "%reset -f\n",
    "\n",
    "import sys, pandas as pd, numpy as np, inspect, re as re, functools as functools, pickle, glob, warnings, os\n",
    "\n",
    "from tqdm import tqdm\n",
    "\n",
    "# sklearn packages\n",
    "import sklearn.metrics as skm\n",
    "\n",
    "# some options/variables\n",
    "randomseed = 1 # the value for the random state used at various points in the pipeline\n",
    "pd.options.display.max_rows = 50 # specify if you want the full output in cells rather the truncated list\n",
    "pd.options.display.max_columns = 200\n",
    "\n",
    "# to display multiple outputs in a cell without usin print/display\n",
    "from IPython.core.interactiveshell import InteractiveShell\n",
    "InteractiveShell.ast_node_interactivity = \"all\"\n",
    "\n",
    "# append the scripts path to pythonpath\n",
    "sys.path.append('./scripts/')\n",
    "\n",
    "# ignore warnings (only if you are the kind that would code when the world is burning)\n",
    "warnings.filterwarnings('ignore')\n",
    "\n",
    "# plot inline\n",
    "%matplotlib inline\n",
    "import matplotlib\n",
    "import matplotlib.pyplot as plt\n",
    "\n",
    "# # import the various ml modules\n",
    "import xgboost as xgb\n",
    "\n",
    "############################################## import the custom modules ################################\n",
    "import helperfuncs as helper\n",
    "import feateng as fte\n",
    "import misc as miscfun\n",
    "import oprfunctions as oprfun\n",
    "from misc import ce_encodings, DataFrameImputer, scalers\n",
    "from oprfunctions import demo_fn, salary_process\n",
    "\n",
    "# instantiate the classes\n",
    "helpers = helper.helper_funcs()\n",
    "cust_funcs = fte.custom_funcs()\n",
    "feat_sel = miscfun.feat_selection()\n",
    "\n",
    "#############################################################################################################\n",
    "# global function to flatten columns after a grouped operation and aggregation\n",
    "# outside all classes since it is added as an attribute to pandas DataFrames\n",
    "def __my_flatten_cols(self, how=\"_\".join, reset_index=True):\n",
    "    how = (lambda iter: list(iter)[-1]) if how == \"last\" else how\n",
    "    self.columns = [how(filter(None, map(str, levels))) for levels in self.columns.values] \\\n",
    "    if isinstance(self.columns, pd.MultiIndex) else self.columns\n",
    "    return self.reset_index(drop=True) if reset_index else self\n",
    "pd.DataFrame.my_flatten_cols = __my_flatten_cols"
   ]
  },
  {
   "cell_type": "code",
   "execution_count": 2,
   "metadata": {
    "Collapsed": "false"
   },
   "outputs": [],
   "source": [
    "%run -i ./scripts/dicts_cols.py"
   ]
  },
  {
   "cell_type": "markdown",
   "metadata": {
    "Collapsed": "false"
   },
   "source": [
    "## SETUP THE ADLS"
   ]
  },
  {
   "cell_type": "code",
   "execution_count": 3,
   "metadata": {
    "Collapsed": "false"
   },
   "outputs": [],
   "source": [
    "from azure.datalake.store import core, lib, multithread\n",
    "\n",
    "tenant = 'cef04b19-7776-4a94-b89b-375c77a8f936'\n",
    "resource = 'https://datalake.azure.net/'\n",
    "client_id = 'e9aaf06a-9856-42a8-ab3c-c8b0d3a9b110'\n",
    "client_secret = 'DlbuV60szYT2U0CQNjzwRA55EsH42oX92AB7vbD2clk='\n",
    "\n",
    "adlcreds = lib.auth(tenant_id = tenant,\n",
    "                   client_secret = client_secret,\n",
    "                   client_id = client_id,\n",
    "                   resource = resource)\n",
    "\n",
    "subs_id = '73f88e6b-3a35-4612-b550-555157e7059f'\n",
    "adls = 'edhadlsanasagbdev'\n",
    "\n",
    "adlsfsc = core.AzureDLFileSystem(adlcreds, store_name=adls)\n",
    "\n",
    "path = '/root/anasandbox/people/opr10x/'"
   ]
  },
  {
   "cell_type": "markdown",
   "metadata": {
    "Collapsed": "false"
   },
   "source": [
    "## OPR files initialization"
   ]
  },
  {
   "cell_type": "code",
   "execution_count": 4,
   "metadata": {
    "Collapsed": "false",
    "ExecuteTime": {
     "end_time": "2019-03-12T13:45:56.550985Z",
     "start_time": "2019-03-12T13:45:56.544988Z"
    }
   },
   "outputs": [],
   "source": [
    "# %run -i ./scripts/opr_script.py\n",
    "\n",
    "# with adlsfsc.open(path + '/2019/Data/Raw_Data/pickle_files/Miscellaneous/opr_backup_17to18.pickle', 'rb') as f:\n",
    "#     opr_reshaped = pickle.load(f)\n",
    "#     f.close()"
   ]
  },
  {
   "cell_type": "code",
   "execution_count": 5,
   "metadata": {
    "Collapsed": "false"
   },
   "outputs": [],
   "source": [
    "oprfull = open('E:/ADLS/pickles/opr_backup_17to18.pickle', 'rb')\n",
    "opr_reshaped = pickle.load(oprfull)\n",
    "oprfull.close()"
   ]
  },
  {
   "cell_type": "markdown",
   "metadata": {
    "Collapsed": "false"
   },
   "source": [
    "## BluePrint"
   ]
  },
  {
   "cell_type": "code",
   "execution_count": 6,
   "metadata": {
    "Collapsed": "false"
   },
   "outputs": [],
   "source": [
    "# %run -i ./scripts/blueprint_script.py\n",
    "\n",
    "# with adlsfsc.open(path + '/2019/Data/Raw_Data/pickle_files/Blueprint/bp_backup_16to19_processed.pickle', 'rb') as f:\n",
    "#     bp_full = pickle.load(f)\n",
    "#     f.close()"
   ]
  },
  {
   "cell_type": "code",
   "execution_count": 7,
   "metadata": {
    "Collapsed": "false"
   },
   "outputs": [],
   "source": [
    "bpfull = open('E:/ADLS/pickles/bp_backup_16to19_processed.pickle', 'rb')\n",
    "bp_full = pickle.load(bpfull)\n",
    "bpfull.close()"
   ]
  },
  {
   "cell_type": "markdown",
   "metadata": {
    "Collapsed": "false",
    "ExecuteTime": {
     "end_time": "2019-03-12T10:45:00.506673Z",
     "start_time": "2019-03-12T10:45:00.502673Z"
    }
   },
   "source": [
    "## MISC\n",
    "\n",
    "### Features\n",
    "- MRS features (compare ratio)\n",
    "- Salary\n",
    "- TeamSize and TeamSize_Difference"
   ]
  },
  {
   "cell_type": "code",
   "execution_count": 8,
   "metadata": {
    "Collapsed": "false",
    "ExecuteTime": {
     "end_time": "2019-03-12T13:43:09.371339Z",
     "start_time": "2019-03-12T13:43:09.039Z"
    }
   },
   "outputs": [
    {
     "name": "stdout",
     "output_type": "stream",
     "text": [
      "(21975, 10)\n"
     ]
    }
   ],
   "source": [
    "%run -i ./scripts/misc_script.py"
   ]
  },
  {
   "cell_type": "markdown",
   "metadata": {
    "Collapsed": "false"
   },
   "source": [
    "## Competency"
   ]
  },
  {
   "cell_type": "code",
   "execution_count": 9,
   "metadata": {
    "Collapsed": "false",
    "ExecuteTime": {
     "end_time": "2019-03-12T13:43:12.304598Z",
     "start_time": "2019-03-12T13:43:12.301595Z"
    }
   },
   "outputs": [],
   "source": [
    "# %run -i ./scripts/competency_script_new.py\n",
    "\n",
    "# compfull = open('E:/ADLS/pickles/competency_16to18_raw.pickle', 'rb')\n",
    "# comp_full = pickle.load(compfull)\n",
    "# compfull.close()\n",
    "\n",
    "compfull2 = open('E:/ADLS/pickles/competency_16to18_processed.pickle', 'rb')\n",
    "comp_full = pickle.load(compfull2)\n",
    "compfull2.close()"
   ]
  },
  {
   "cell_type": "code",
   "execution_count": 10,
   "metadata": {
    "Collapsed": "false"
   },
   "outputs": [],
   "source": [
    "# %run -i ./scripts/comp_2019.py\n",
    "\n",
    "# with adlsfsc.open(path + '/2019/Data/Raw_Data/pickle_files/Navigate/competency_full_2019.pickle', 'rb') as f:\n",
    "#     comp2019 = pickle.load(f)\n",
    "#     f.close()\n",
    "\n",
    "comp_2019 = open('E:/ADLS/pickles/competency_full_2019.pickle', 'rb')\n",
    "comp2019 = pickle.load(comp_2019)\n",
    "comp_2019.close()"
   ]
  },
  {
   "cell_type": "markdown",
   "metadata": {
    "Collapsed": "false"
   },
   "source": [
    "## Target"
   ]
  },
  {
   "cell_type": "code",
   "execution_count": 11,
   "metadata": {
    "Collapsed": "false",
    "ExecuteTime": {
     "end_time": "2019-03-12T13:43:41.758545Z",
     "start_time": "2019-03-12T13:43:22.303250Z"
    }
   },
   "outputs": [],
   "source": [
    "# %run -i ./scripts/target_script.py\n",
    "\n",
    "# with adlsfsc.open(path + '/2019/Data/Raw_Data/pickle_files/Miscellaneous/target_backup.pickle', 'rb') as f:\n",
    "#     tar_reshaped = pickle.load(f)\n",
    "#     f.close()\n",
    "\n",
    "tarpkl = open('E:/ADLS/pickles/target_backup.pickle', 'rb')\n",
    "tar_reshaped = pickle.load(tarpkl)\n",
    "tarpkl.close()"
   ]
  },
  {
   "cell_type": "markdown",
   "metadata": {
    "Collapsed": "false"
   },
   "source": [
    "## Movement\n",
    "\n",
    "### Features\n",
    "- time in band\n",
    "- career velocity features"
   ]
  },
  {
   "cell_type": "code",
   "execution_count": 12,
   "metadata": {
    "Collapsed": "false",
    "ExecuteTime": {
     "end_time": "2019-03-12T13:44:16.856715Z",
     "start_time": "2019-03-12T13:44:16.848713Z"
    }
   },
   "outputs": [],
   "source": [
    "# %run -i ./scripts/movements_script.py\n",
    "# %run ../working/Career_Velocity_Metric_eg_2018_used.ipynb\n",
    "\n",
    "# with adlsfsc.open(path + '/2019/Data/Raw_Data/pickle_files/Movements/career_velocity.pkl', 'rb') as f:\n",
    "#     cv_full = pickle.load(f)\n",
    "#     pv_full = pickle.load(f)\n",
    "#     tib_full = pickle.load(f)\n",
    "#     f.close()\n",
    "    \n",
    "cvpkl = open('E:/ADLS/pickles/career_velocity.pkl', 'rb')\n",
    "cv_full = pickle.load(cvpkl)\n",
    "pv_full = pickle.load(cvpkl)\n",
    "tib_full = pickle.load(cvpkl)\n",
    "cvpkl.close()"
   ]
  },
  {
   "cell_type": "markdown",
   "metadata": {
    "Collapsed": "false"
   },
   "source": [
    "## NAVIGATE DATA and related\n",
    "\n",
    "### Features\n",
    "- BELTS\n",
    "- CAREER ASPIRATIONS\n",
    "- COMPETENCY APPRAISAL\n",
    "- GMT-GMBA\n",
    "- GTP / PeopleBets / ZTP\n",
    "- EDUCATION (nothing for now)\n",
    "- ENGAGEMENT (not present for 2016)\n",
    "- PDP (lot more work here. time since PDP and related)\n",
    "- TURNOVER/BUSINESS IMPACT\n",
    "- MOBILITY"
   ]
  },
  {
   "cell_type": "code",
   "execution_count": 13,
   "metadata": {
    "Collapsed": "false",
    "ExecuteTime": {
     "end_time": "2019-03-12T10:56:53.971631Z",
     "start_time": "2019-03-12T10:56:53.966627Z"
    }
   },
   "outputs": [],
   "source": [
    "# %run -i ./scripts/navigate_script.py\n",
    "\n",
    "# with adlsfsc.open(path + '/2019/Data/Raw_Data/pickle_files/Navigate/navigate.pkl', 'rb') as f:\n",
    "#     belts_grp = pickle.load(f)\n",
    "#     tp_full = pickle.load(f)\n",
    "#     engfull = pickle.load(f)\n",
    "#     pdp_full = pickle.load(f)\n",
    "#     f.close()\n",
    "\n",
    "navigate = open('E:/ADLS/pickles/navigate.pickle','rb')\n",
    "belts_grp = pickle.load(navigate)\n",
    "tp_full = pickle.load(navigate)\n",
    "engfull = pickle.load(navigate)\n",
    "pdp_full = pickle.load(navigate)\n",
    "navigate.close()"
   ]
  },
  {
   "cell_type": "markdown",
   "metadata": {
    "Collapsed": "false"
   },
   "source": [
    "## Org Chart Features\n",
    "\n",
    "### Features\n",
    "- Manager summary - DR\n",
    "- Manager summary - FS\n",
    "- Team average Tenure"
   ]
  },
  {
   "cell_type": "code",
   "execution_count": 14,
   "metadata": {
    "Collapsed": "false"
   },
   "outputs": [
    {
     "name": "stdout",
     "output_type": "stream",
     "text": [
      "(7005, 102)\n",
      "(6977, 102)\n"
     ]
    },
    {
     "name": "stderr",
     "output_type": "stream",
     "text": [
      "  0%|                                                                                            | 0/4 [00:00<?, ?it/s]"
     ]
    },
    {
     "name": "stdout",
     "output_type": "stream",
     "text": [
      "(24982, 7)\n"
     ]
    },
    {
     "name": "stderr",
     "output_type": "stream",
     "text": [
      " 25%|█████████████████████                                                               | 1/4 [00:04<00:12,  4.03s/it]"
     ]
    },
    {
     "name": "stdout",
     "output_type": "stream",
     "text": [
      "(31819, 7)\n"
     ]
    },
    {
     "name": "stderr",
     "output_type": "stream",
     "text": [
      " 50%|██████████████████████████████████████████                                          | 2/4 [00:08<00:08,  4.29s/it]"
     ]
    },
    {
     "name": "stdout",
     "output_type": "stream",
     "text": [
      "(36929, 7)\n"
     ]
    },
    {
     "name": "stderr",
     "output_type": "stream",
     "text": [
      " 75%|███████████████████████████████████████████████████████████████                     | 3/4 [00:17<00:05,  5.59s/it]"
     ]
    },
    {
     "name": "stdout",
     "output_type": "stream",
     "text": [
      "(29330, 7)\n"
     ]
    },
    {
     "name": "stderr",
     "output_type": "stream",
     "text": [
      "100%|████████████████████████████████████████████████████████████████████████████████████| 4/4 [00:26<00:00,  6.46s/it]\n"
     ]
    }
   ],
   "source": [
    "%run -i ./scripts/org_chart_features.py"
   ]
  },
  {
   "cell_type": "markdown",
   "metadata": {
    "Collapsed": "false"
   },
   "source": [
    "## ADS creation\n",
    "\n",
    "List of dataframes to be merged\n",
    "- opr_reshaped\n",
    "- bp_full\n",
    "- teamsize_and_diff_df\n",
    "- comp_full\n",
    "- tar_reshaped\n",
    "- cv_full, pv_full, tib_full\n",
    "- belts_grp, gmt, gmba, tp_full, engfull\n",
    "- mngrkpis_fs, mngrkpis_dr, tt_full"
   ]
  },
  {
   "cell_type": "code",
   "execution_count": 15,
   "metadata": {
    "Collapsed": "false"
   },
   "outputs": [
    {
     "name": "stdout",
     "output_type": "stream",
     "text": [
      "(31, 2)\n",
      "ads size before zone filter:  (23425, 62)\n",
      "ads size after zone filter:  (21750, 62)\n"
     ]
    }
   ],
   "source": [
    "%run -i ./scripts/ads_prepare_new.py"
   ]
  },
  {
   "cell_type": "code",
   "execution_count": 16,
   "metadata": {
    "Collapsed": "false"
   },
   "outputs": [],
   "source": [
    "# save backup\n",
    "ads_backup = open('E:/ADLS/pickles/ads_backup.pkl','wb')\n",
    "pickle.dump(ads, ads_backup)\n",
    "ads_backup.close()\n",
    "\n",
    "# load backup\n",
    "ads_backup = open('E:/ADLS/pickles/ads_backup.pkl','rb')\n",
    "ads = pickle.load(ads_backup)\n",
    "ads_backup.close()"
   ]
  },
  {
   "cell_type": "code",
   "execution_count": 17,
   "metadata": {
    "Collapsed": "false"
   },
   "outputs": [],
   "source": [
    "with adlsfsc.open(path + '/2019/Data/Output_Data/ads/final_ads.pickle', 'wb') as f:\n",
    "    pickle.dump(ads, f)\n",
    "    f.close()\n",
    "    \n",
    "# with adlsfsc.open(path + '/2019/Data/Output_Data/ads/final_ads.pickle', 'rb') as f:\n",
    "#     ads = pickle.load(f)\n",
    "#     f.close()"
   ]
  },
  {
   "cell_type": "code",
   "execution_count": 18,
   "metadata": {
    "Collapsed": "false"
   },
   "outputs": [
    {
     "data": {
      "text/plain": [
       "5141420"
      ]
     },
     "execution_count": 18,
     "metadata": {},
     "output_type": "execute_result"
    }
   ],
   "source": [
    "with adlsfsc.open(path + '/2019/Data/Output_Data/ads/final_ads.csv', 'wb') as f:\n",
    "    ads_str = ads.to_csv()\n",
    "    f.write(str.encode(ads_str))\n",
    "    f.close()"
   ]
  },
  {
   "cell_type": "code",
   "execution_count": 19,
   "metadata": {
    "Collapsed": "false"
   },
   "outputs": [
    {
     "data": {
      "text/plain": [
       "Index(['global_id', 'employee_band', 'ebm_level', 'year', 'function',\n",
       "       'mr_pers_compgroup_year_comp_score_mean_functional_competencies',\n",
       "       'mr_pers_compgroup_year_comp_score_mean_leadership_competencies',\n",
       "       'mr_pers_compgroupl1_year_comp_score_mean_leadership_competencies_develop_people',\n",
       "       'mr_pers_compgroupl1_year_comp_score_mean_leadership_competencies_dream_big',\n",
       "       'mr_pers_compgroupl1_year_comp_score_mean_leadership_competencies_live_our_culture',\n",
       "       'net_target', 'opr', 'teamsize', 'teamsize_delta', 'index_average',\n",
       "       'position_velocity', 'emp_time_in_band1', 'count_of_belts',\n",
       "       'talentpool_renomination', 'talentpool', 'engagement_score',\n",
       "       'manager_effectiveness_score', 'fs_prom', 'fs_ho', 'fs_adherant_perc',\n",
       "       'fs_to_overall', 'dr_prom', 'dr_ho', 'dr_adherant_perc',\n",
       "       'dr_to_overall', 'mean_team_tenure', 'lc_count', 'fc_count',\n",
       "       'position_tenure', 'zone', 'target_delta', 'prev_opr', 'prev_prev_opr'],\n",
       "      dtype='object')"
      ]
     },
     "execution_count": 19,
     "metadata": {},
     "output_type": "execute_result"
    }
   ],
   "source": [
    "ads.columns"
   ]
  },
  {
   "cell_type": "code",
   "execution_count": 20,
   "metadata": {
    "Collapsed": "false"
   },
   "outputs": [
    {
     "data": {
      "text/html": [
       "<div>\n",
       "<style scoped>\n",
       "    .dataframe tbody tr th:only-of-type {\n",
       "        vertical-align: middle;\n",
       "    }\n",
       "\n",
       "    .dataframe tbody tr th {\n",
       "        vertical-align: top;\n",
       "    }\n",
       "\n",
       "    .dataframe thead th {\n",
       "        text-align: right;\n",
       "    }\n",
       "</style>\n",
       "<table border=\"1\" class=\"dataframe\">\n",
       "  <thead>\n",
       "    <tr style=\"text-align: right;\">\n",
       "      <th></th>\n",
       "      <th>global_id</th>\n",
       "      <th>employee_band</th>\n",
       "      <th>ebm_level</th>\n",
       "      <th>year</th>\n",
       "      <th>function</th>\n",
       "      <th>mr_pers_compgroup_year_comp_score_mean_functional_competencies</th>\n",
       "      <th>mr_pers_compgroup_year_comp_score_mean_leadership_competencies</th>\n",
       "      <th>mr_pers_compgroupl1_year_comp_score_mean_leadership_competencies_develop_people</th>\n",
       "      <th>mr_pers_compgroupl1_year_comp_score_mean_leadership_competencies_dream_big</th>\n",
       "      <th>mr_pers_compgroupl1_year_comp_score_mean_leadership_competencies_live_our_culture</th>\n",
       "      <th>net_target</th>\n",
       "      <th>opr</th>\n",
       "      <th>teamsize</th>\n",
       "      <th>teamsize_delta</th>\n",
       "      <th>index_average</th>\n",
       "      <th>position_velocity</th>\n",
       "      <th>emp_time_in_band1</th>\n",
       "      <th>count_of_belts</th>\n",
       "      <th>talentpool_renomination</th>\n",
       "      <th>talentpool</th>\n",
       "      <th>engagement_score</th>\n",
       "      <th>manager_effectiveness_score</th>\n",
       "      <th>fs_prom</th>\n",
       "      <th>fs_ho</th>\n",
       "      <th>fs_adherant_perc</th>\n",
       "      <th>fs_to_overall</th>\n",
       "      <th>dr_prom</th>\n",
       "      <th>dr_ho</th>\n",
       "      <th>dr_adherant_perc</th>\n",
       "      <th>dr_to_overall</th>\n",
       "      <th>mean_team_tenure</th>\n",
       "      <th>lc_count</th>\n",
       "      <th>fc_count</th>\n",
       "      <th>position_tenure</th>\n",
       "      <th>zone</th>\n",
       "      <th>target_delta</th>\n",
       "      <th>prev_opr</th>\n",
       "      <th>prev_prev_opr</th>\n",
       "    </tr>\n",
       "  </thead>\n",
       "  <tbody>\n",
       "    <tr>\n",
       "      <th>0</th>\n",
       "      <td>1001929</td>\n",
       "      <td>11</td>\n",
       "      <td>-1</td>\n",
       "      <td>2016</td>\n",
       "      <td>sales</td>\n",
       "      <td>3.000000</td>\n",
       "      <td>3.06911</td>\n",
       "      <td>3.07739</td>\n",
       "      <td>3.00571</td>\n",
       "      <td>3.086</td>\n",
       "      <td>96.0</td>\n",
       "      <td>1.0</td>\n",
       "      <td>90</td>\n",
       "      <td>0.0</td>\n",
       "      <td>-530.48</td>\n",
       "      <td>148.995000</td>\n",
       "      <td>10.497500</td>\n",
       "      <td>NaN</td>\n",
       "      <td>NaN</td>\n",
       "      <td>NaN</td>\n",
       "      <td>NaN</td>\n",
       "      <td>NaN</td>\n",
       "      <td>NaN</td>\n",
       "      <td>NaN</td>\n",
       "      <td>NaN</td>\n",
       "      <td>NaN</td>\n",
       "      <td>NaN</td>\n",
       "      <td>NaN</td>\n",
       "      <td>NaN</td>\n",
       "      <td>NaN</td>\n",
       "      <td>4.074315</td>\n",
       "      <td>NaN</td>\n",
       "      <td>NaN</td>\n",
       "      <td>3834.0</td>\n",
       "      <td>ZONE EUROPE</td>\n",
       "      <td>NaN</td>\n",
       "      <td>1.0</td>\n",
       "      <td>NaN</td>\n",
       "    </tr>\n",
       "    <tr>\n",
       "      <th>1</th>\n",
       "      <td>1001929</td>\n",
       "      <td>11</td>\n",
       "      <td>-1</td>\n",
       "      <td>2017</td>\n",
       "      <td>sales</td>\n",
       "      <td>3.000000</td>\n",
       "      <td>3.16947</td>\n",
       "      <td>3.04333</td>\n",
       "      <td>3.154</td>\n",
       "      <td>3.27375</td>\n",
       "      <td>76.0</td>\n",
       "      <td>0.0</td>\n",
       "      <td>72</td>\n",
       "      <td>-18.0</td>\n",
       "      <td>-590.49</td>\n",
       "      <td>154.990000</td>\n",
       "      <td>11.496667</td>\n",
       "      <td>NaN</td>\n",
       "      <td>NaN</td>\n",
       "      <td>NaN</td>\n",
       "      <td>52.2222</td>\n",
       "      <td>95</td>\n",
       "      <td>0.0</td>\n",
       "      <td>0.0</td>\n",
       "      <td>NaN</td>\n",
       "      <td>0.0</td>\n",
       "      <td>0.0</td>\n",
       "      <td>0.0</td>\n",
       "      <td>NaN</td>\n",
       "      <td>0.0</td>\n",
       "      <td>5.074315</td>\n",
       "      <td>1.0</td>\n",
       "      <td>1.0</td>\n",
       "      <td>4199.0</td>\n",
       "      <td>ZONE EUROPE</td>\n",
       "      <td>-20.0</td>\n",
       "      <td>0.0</td>\n",
       "      <td>1.0</td>\n",
       "    </tr>\n",
       "    <tr>\n",
       "      <th>2</th>\n",
       "      <td>1001929</td>\n",
       "      <td>11</td>\n",
       "      <td>-1</td>\n",
       "      <td>2018</td>\n",
       "      <td>sales</td>\n",
       "      <td>3.000000</td>\n",
       "      <td>3.449</td>\n",
       "      <td>3.38667</td>\n",
       "      <td>3.47167</td>\n",
       "      <td>3.47875</td>\n",
       "      <td>100.0</td>\n",
       "      <td>0.0</td>\n",
       "      <td>166</td>\n",
       "      <td>0.0</td>\n",
       "      <td>-650.50</td>\n",
       "      <td>160.985000</td>\n",
       "      <td>12.495833</td>\n",
       "      <td>NaN</td>\n",
       "      <td>NaN</td>\n",
       "      <td>NaN</td>\n",
       "      <td>80.3571</td>\n",
       "      <td>97.5</td>\n",
       "      <td>0.0</td>\n",
       "      <td>0.0</td>\n",
       "      <td>NaN</td>\n",
       "      <td>0.0</td>\n",
       "      <td>0.0</td>\n",
       "      <td>0.0</td>\n",
       "      <td>NaN</td>\n",
       "      <td>0.0</td>\n",
       "      <td>6.418395</td>\n",
       "      <td>1.0</td>\n",
       "      <td>1.0</td>\n",
       "      <td>4564.0</td>\n",
       "      <td>ZONE EUROPE</td>\n",
       "      <td>24.0</td>\n",
       "      <td>0.0</td>\n",
       "      <td>0.0</td>\n",
       "    </tr>\n",
       "    <tr>\n",
       "      <th>3</th>\n",
       "      <td>1001929</td>\n",
       "      <td>11</td>\n",
       "      <td>-1</td>\n",
       "      <td>2019</td>\n",
       "      <td>sales</td>\n",
       "      <td>2.714286</td>\n",
       "      <td>2.86111</td>\n",
       "      <td>2.66667</td>\n",
       "      <td>2.83333</td>\n",
       "      <td>3.08333</td>\n",
       "      <td>100.0</td>\n",
       "      <td>NaN</td>\n",
       "      <td>160</td>\n",
       "      <td>-6.0</td>\n",
       "      <td>-700.50</td>\n",
       "      <td>165.950000</td>\n",
       "      <td>13.328333</td>\n",
       "      <td>NaN</td>\n",
       "      <td>NaN</td>\n",
       "      <td>NaN</td>\n",
       "      <td>46.875</td>\n",
       "      <td>90</td>\n",
       "      <td>0.0</td>\n",
       "      <td>0.0</td>\n",
       "      <td>NaN</td>\n",
       "      <td>0.0</td>\n",
       "      <td>0.0</td>\n",
       "      <td>0.0</td>\n",
       "      <td>NaN</td>\n",
       "      <td>0.0</td>\n",
       "      <td>4.807877</td>\n",
       "      <td>1.0</td>\n",
       "      <td>1.0</td>\n",
       "      <td>4929.0</td>\n",
       "      <td>ZONE EUROPE</td>\n",
       "      <td>0.0</td>\n",
       "      <td>0.0</td>\n",
       "      <td>0.0</td>\n",
       "    </tr>\n",
       "    <tr>\n",
       "      <th>4</th>\n",
       "      <td>1002651</td>\n",
       "      <td>9</td>\n",
       "      <td>3</td>\n",
       "      <td>2016</td>\n",
       "      <td>supply</td>\n",
       "      <td>3.000000</td>\n",
       "      <td>3.265</td>\n",
       "      <td>3.17455</td>\n",
       "      <td>3.4</td>\n",
       "      <td>3.305</td>\n",
       "      <td>52.0</td>\n",
       "      <td>2.0</td>\n",
       "      <td>20</td>\n",
       "      <td>0.0</td>\n",
       "      <td>-29.68</td>\n",
       "      <td>35.888333</td>\n",
       "      <td>0.249167</td>\n",
       "      <td>NaN</td>\n",
       "      <td>NaN</td>\n",
       "      <td>NaN</td>\n",
       "      <td>NaN</td>\n",
       "      <td>NaN</td>\n",
       "      <td>NaN</td>\n",
       "      <td>NaN</td>\n",
       "      <td>NaN</td>\n",
       "      <td>NaN</td>\n",
       "      <td>NaN</td>\n",
       "      <td>NaN</td>\n",
       "      <td>NaN</td>\n",
       "      <td>NaN</td>\n",
       "      <td>3.056963</td>\n",
       "      <td>NaN</td>\n",
       "      <td>NaN</td>\n",
       "      <td>91.0</td>\n",
       "      <td>ZONE EUROPE</td>\n",
       "      <td>NaN</td>\n",
       "      <td>2.0</td>\n",
       "      <td>NaN</td>\n",
       "    </tr>\n",
       "  </tbody>\n",
       "</table>\n",
       "</div>"
      ],
      "text/plain": [
       "   global_id  employee_band  ebm_level  year function  \\\n",
       "0    1001929             11         -1  2016    sales   \n",
       "1    1001929             11         -1  2017    sales   \n",
       "2    1001929             11         -1  2018    sales   \n",
       "3    1001929             11         -1  2019    sales   \n",
       "4    1002651              9          3  2016   supply   \n",
       "\n",
       "   mr_pers_compgroup_year_comp_score_mean_functional_competencies  \\\n",
       "0                                           3.000000                \n",
       "1                                           3.000000                \n",
       "2                                           3.000000                \n",
       "3                                           2.714286                \n",
       "4                                           3.000000                \n",
       "\n",
       "  mr_pers_compgroup_year_comp_score_mean_leadership_competencies  \\\n",
       "0                                            3.06911               \n",
       "1                                            3.16947               \n",
       "2                                              3.449               \n",
       "3                                            2.86111               \n",
       "4                                              3.265               \n",
       "\n",
       "  mr_pers_compgroupl1_year_comp_score_mean_leadership_competencies_develop_people  \\\n",
       "0                                            3.07739                                \n",
       "1                                            3.04333                                \n",
       "2                                            3.38667                                \n",
       "3                                            2.66667                                \n",
       "4                                            3.17455                                \n",
       "\n",
       "  mr_pers_compgroupl1_year_comp_score_mean_leadership_competencies_dream_big  \\\n",
       "0                                            3.00571                           \n",
       "1                                              3.154                           \n",
       "2                                            3.47167                           \n",
       "3                                            2.83333                           \n",
       "4                                                3.4                           \n",
       "\n",
       "  mr_pers_compgroupl1_year_comp_score_mean_leadership_competencies_live_our_culture  \\\n",
       "0                                              3.086                                  \n",
       "1                                            3.27375                                  \n",
       "2                                            3.47875                                  \n",
       "3                                            3.08333                                  \n",
       "4                                              3.305                                  \n",
       "\n",
       "   net_target  opr  teamsize  teamsize_delta  index_average  \\\n",
       "0        96.0  1.0        90             0.0        -530.48   \n",
       "1        76.0  0.0        72           -18.0        -590.49   \n",
       "2       100.0  0.0       166             0.0        -650.50   \n",
       "3       100.0  NaN       160            -6.0        -700.50   \n",
       "4        52.0  2.0        20             0.0         -29.68   \n",
       "\n",
       "   position_velocity  emp_time_in_band1  count_of_belts  \\\n",
       "0         148.995000          10.497500             NaN   \n",
       "1         154.990000          11.496667             NaN   \n",
       "2         160.985000          12.495833             NaN   \n",
       "3         165.950000          13.328333             NaN   \n",
       "4          35.888333           0.249167             NaN   \n",
       "\n",
       "   talentpool_renomination  talentpool engagement_score  \\\n",
       "0                      NaN         NaN              NaN   \n",
       "1                      NaN         NaN          52.2222   \n",
       "2                      NaN         NaN          80.3571   \n",
       "3                      NaN         NaN           46.875   \n",
       "4                      NaN         NaN              NaN   \n",
       "\n",
       "  manager_effectiveness_score  fs_prom  fs_ho  fs_adherant_perc  \\\n",
       "0                         NaN      NaN    NaN               NaN   \n",
       "1                          95      0.0    0.0               NaN   \n",
       "2                        97.5      0.0    0.0               NaN   \n",
       "3                          90      0.0    0.0               NaN   \n",
       "4                         NaN      NaN    NaN               NaN   \n",
       "\n",
       "   fs_to_overall  dr_prom  dr_ho  dr_adherant_perc  dr_to_overall  \\\n",
       "0            NaN      NaN    NaN               NaN            NaN   \n",
       "1            0.0      0.0    0.0               NaN            0.0   \n",
       "2            0.0      0.0    0.0               NaN            0.0   \n",
       "3            0.0      0.0    0.0               NaN            0.0   \n",
       "4            NaN      NaN    NaN               NaN            NaN   \n",
       "\n",
       "   mean_team_tenure  lc_count  fc_count  position_tenure         zone  \\\n",
       "0          4.074315       NaN       NaN           3834.0  ZONE EUROPE   \n",
       "1          5.074315       1.0       1.0           4199.0  ZONE EUROPE   \n",
       "2          6.418395       1.0       1.0           4564.0  ZONE EUROPE   \n",
       "3          4.807877       1.0       1.0           4929.0  ZONE EUROPE   \n",
       "4          3.056963       NaN       NaN             91.0  ZONE EUROPE   \n",
       "\n",
       "   target_delta  prev_opr  prev_prev_opr  \n",
       "0           NaN       1.0            NaN  \n",
       "1         -20.0       0.0            1.0  \n",
       "2          24.0       0.0            0.0  \n",
       "3           0.0       0.0            0.0  \n",
       "4           NaN       2.0            NaN  "
      ]
     },
     "execution_count": 20,
     "metadata": {},
     "output_type": "execute_result"
    }
   ],
   "source": [
    "ads.head(5)"
   ]
  },
  {
   "cell_type": "code",
   "execution_count": null,
   "metadata": {
    "Collapsed": "false"
   },
   "outputs": [],
   "source": []
  }
 ],
 "metadata": {
  "kernelspec": {
   "display_name": "Python 3",
   "language": "python",
   "name": "python3"
  },
  "language_info": {
   "codemirror_mode": {
    "name": "ipython",
    "version": 3
   },
   "file_extension": ".py",
   "mimetype": "text/x-python",
   "name": "python",
   "nbconvert_exporter": "python",
   "pygments_lexer": "ipython3",
   "version": "3.8.1"
  }
 },
 "nbformat": 4,
 "nbformat_minor": 4
}
