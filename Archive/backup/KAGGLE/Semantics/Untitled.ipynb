{
 "cells": [
  {
   "cell_type": "code",
   "execution_count": 186,
   "metadata": {},
   "outputs": [],
   "source": [
    "# semantics\n",
    "\n",
    "import pandas as pd\n",
    "import numpy as np\n",
    "from sklearn import preprocessing, metrics\n",
    "\n",
    "from sklearn.decomposition import PCA\n",
    "from sklearn.multiclass import OneVsRestClassifier, OneVsOneClassifier\n",
    "from sklearn.svm import SVC\n",
    "from sklearn.ensemble import GradientBoostingClassifier\n",
    "from sklearn.linear_model import LogisticRegressionCV"
   ]
  },
  {
   "cell_type": "code",
   "execution_count": 187,
   "metadata": {},
   "outputs": [
    {
     "data": {
      "text/html": [
       "<div>\n",
       "<style scoped>\n",
       "    .dataframe tbody tr th:only-of-type {\n",
       "        vertical-align: middle;\n",
       "    }\n",
       "\n",
       "    .dataframe tbody tr th {\n",
       "        vertical-align: top;\n",
       "    }\n",
       "\n",
       "    .dataframe thead th {\n",
       "        text-align: right;\n",
       "    }\n",
       "</style>\n",
       "<table border=\"1\" class=\"dataframe\">\n",
       "  <thead>\n",
       "    <tr style=\"text-align: right;\">\n",
       "      <th></th>\n",
       "      <th>serial_no</th>\n",
       "      <th>C1</th>\n",
       "      <th>C2</th>\n",
       "      <th>C3</th>\n",
       "      <th>C4</th>\n",
       "      <th>C5</th>\n",
       "      <th>C6</th>\n",
       "      <th>C7</th>\n",
       "      <th>C8</th>\n",
       "    </tr>\n",
       "  </thead>\n",
       "  <tbody>\n",
       "    <tr>\n",
       "      <th>0</th>\n",
       "      <td>1</td>\n",
       "      <td>1</td>\n",
       "      <td>1</td>\n",
       "      <td>15200.0</td>\n",
       "      <td>80.0</td>\n",
       "      <td>6.5</td>\n",
       "      <td>24.0</td>\n",
       "      <td>Healthy</td>\n",
       "      <td>Live</td>\n",
       "    </tr>\n",
       "  </tbody>\n",
       "</table>\n",
       "</div>"
      ],
      "text/plain": [
       "   serial_no  C1  C2       C3    C4   C5    C6       C7    C8\n",
       "0          1   1   1  15200.0  80.0  6.5  24.0  Healthy  Live"
      ]
     },
     "execution_count": 187,
     "metadata": {},
     "output_type": "execute_result"
    }
   ],
   "source": [
    "# initialization\n",
    "\n",
    "train = pd.read_csv('./data_semantics_training.csv', na_values=['NULL', '', ' ', 0])\n",
    "test = pd.read_csv('./data_sematics_test.csv', na_values=['NULL', '', ' ', 0])\n",
    "train.head(1)"
   ]
  },
  {
   "cell_type": "code",
   "execution_count": 188,
   "metadata": {},
   "outputs": [
    {
     "data": {
      "text/html": [
       "<div>\n",
       "<style scoped>\n",
       "    .dataframe tbody tr th:only-of-type {\n",
       "        vertical-align: middle;\n",
       "    }\n",
       "\n",
       "    .dataframe tbody tr th {\n",
       "        vertical-align: top;\n",
       "    }\n",
       "\n",
       "    .dataframe thead th {\n",
       "        text-align: right;\n",
       "    }\n",
       "</style>\n",
       "<table border=\"1\" class=\"dataframe\">\n",
       "  <thead>\n",
       "    <tr style=\"text-align: right;\">\n",
       "      <th></th>\n",
       "      <th>C1</th>\n",
       "      <th>C2</th>\n",
       "      <th>C3</th>\n",
       "      <th>C4</th>\n",
       "      <th>C5</th>\n",
       "      <th>C6</th>\n",
       "      <th>C7</th>\n",
       "      <th>Closed</th>\n",
       "      <th>Live</th>\n",
       "      <th>missing</th>\n",
       "    </tr>\n",
       "  </thead>\n",
       "  <tbody>\n",
       "    <tr>\n",
       "      <th>0</th>\n",
       "      <td>1</td>\n",
       "      <td>1</td>\n",
       "      <td>15200.0</td>\n",
       "      <td>80.0</td>\n",
       "      <td>6.50</td>\n",
       "      <td>24.0</td>\n",
       "      <td>Healthy</td>\n",
       "      <td>0</td>\n",
       "      <td>1</td>\n",
       "      <td>0</td>\n",
       "    </tr>\n",
       "    <tr>\n",
       "      <th>1</th>\n",
       "      <td>2</td>\n",
       "      <td>2</td>\n",
       "      <td>26100.0</td>\n",
       "      <td>90.0</td>\n",
       "      <td>6.75</td>\n",
       "      <td>30.0</td>\n",
       "      <td>Healthy</td>\n",
       "      <td>1</td>\n",
       "      <td>0</td>\n",
       "      <td>0</td>\n",
       "    </tr>\n",
       "  </tbody>\n",
       "</table>\n",
       "</div>"
      ],
      "text/plain": [
       "   C1  C2       C3    C4    C5    C6       C7  Closed  Live  missing\n",
       "0   1   1  15200.0  80.0  6.50  24.0  Healthy       0     1        0\n",
       "1   2   2  26100.0  90.0  6.75  30.0  Healthy       1     0        0"
      ]
     },
     "execution_count": 188,
     "metadata": {},
     "output_type": "execute_result"
    }
   ],
   "source": [
    "xtrain = train.copy()\n",
    "xtrain.drop(['serial_no'], inplace=True, axis=1)\n",
    "xtrain.fillna(xtrain.mean(), inplace=True)\n",
    "xtrain['C8'] = xtrain['C8'].fillna(value='missing')\n",
    "one_hot = pd.get_dummies(xtrain['C8'])\n",
    "xtrain.drop(['C8'], inplace=True, axis=1)\n",
    "xtrain = xtrain.join(one_hot)\n",
    "xtrain.head(2)"
   ]
  },
  {
   "cell_type": "code",
   "execution_count": 189,
   "metadata": {},
   "outputs": [
    {
     "data": {
      "text/html": [
       "<div>\n",
       "<style scoped>\n",
       "    .dataframe tbody tr th:only-of-type {\n",
       "        vertical-align: middle;\n",
       "    }\n",
       "\n",
       "    .dataframe tbody tr th {\n",
       "        vertical-align: top;\n",
       "    }\n",
       "\n",
       "    .dataframe thead th {\n",
       "        text-align: right;\n",
       "    }\n",
       "</style>\n",
       "<table border=\"1\" class=\"dataframe\">\n",
       "  <thead>\n",
       "    <tr style=\"text-align: right;\">\n",
       "      <th></th>\n",
       "      <th>C1</th>\n",
       "      <th>C2</th>\n",
       "      <th>C3</th>\n",
       "      <th>C4</th>\n",
       "      <th>C5</th>\n",
       "      <th>C6</th>\n",
       "      <th>Closed</th>\n",
       "      <th>Live</th>\n",
       "      <th>missing</th>\n",
       "    </tr>\n",
       "  </thead>\n",
       "  <tbody>\n",
       "    <tr>\n",
       "      <th>0</th>\n",
       "      <td>700</td>\n",
       "      <td>700</td>\n",
       "      <td>16800.000000</td>\n",
       "      <td>80.000000</td>\n",
       "      <td>6.500000</td>\n",
       "      <td>24.0</td>\n",
       "      <td>1</td>\n",
       "      <td>0</td>\n",
       "      <td>0</td>\n",
       "    </tr>\n",
       "    <tr>\n",
       "      <th>1</th>\n",
       "      <td>701</td>\n",
       "      <td>701</td>\n",
       "      <td>21584.496124</td>\n",
       "      <td>69.147287</td>\n",
       "      <td>5.675194</td>\n",
       "      <td>21.2</td>\n",
       "      <td>0</td>\n",
       "      <td>0</td>\n",
       "      <td>1</td>\n",
       "    </tr>\n",
       "  </tbody>\n",
       "</table>\n",
       "</div>"
      ],
      "text/plain": [
       "    C1   C2            C3         C4        C5    C6  Closed  Live  missing\n",
       "0  700  700  16800.000000  80.000000  6.500000  24.0       1     0        0\n",
       "1  701  701  21584.496124  69.147287  5.675194  21.2       0     0        1"
      ]
     },
     "execution_count": 189,
     "metadata": {},
     "output_type": "execute_result"
    }
   ],
   "source": [
    "xtest = test.copy()\n",
    "xtest.drop(['serial_no'], inplace=True, axis=1)\n",
    "xtest.fillna(xtrain.mean(), inplace=True)\n",
    "xtest['C8'] = xtest['C8'].fillna(value='missing')\n",
    "one_hot = pd.get_dummies(xtest['C8'])\n",
    "xtest.drop(['C8'], inplace=True, axis=1)\n",
    "xtest = xtest.join(one_hot)\n",
    "xtest.head(2)"
   ]
  },
  {
   "cell_type": "code",
   "execution_count": 190,
   "metadata": {},
   "outputs": [
    {
     "name": "stderr",
     "output_type": "stream",
     "text": [
      "C:\\Users\\Lenovo\\AppData\\Roaming\\Python\\Python36\\site-packages\\sklearn\\preprocessing\\label.py:219: DataConversionWarning: A column-vector y was passed when a 1d array was expected. Please change the shape of y to (n_samples, ), for example using ravel().\n",
      "  y = column_or_1d(y, warn=True)\n",
      "C:\\Users\\Lenovo\\AppData\\Roaming\\Python\\Python36\\site-packages\\sklearn\\preprocessing\\label.py:252: DataConversionWarning: A column-vector y was passed when a 1d array was expected. Please change the shape of y to (n_samples, ), for example using ravel().\n",
      "  y = column_or_1d(y, warn=True)\n"
     ]
    }
   ],
   "source": [
    "ytrain = xtrain[['C7']]\n",
    "xtrain.drop(['C7'], inplace=True, axis=1)\n",
    "\n",
    "enc = preprocessing.LabelEncoder()\n",
    "enc.fit(ytrain.values)\n",
    "ytrain = enc.transform(ytrain.values)"
   ]
  },
  {
   "cell_type": "code",
   "execution_count": 191,
   "metadata": {},
   "outputs": [],
   "source": [
    "pca = PCA()\n",
    "pca.fit(xtrain)\n",
    "pca_train = pca.transform(xtrain)\n",
    "pca_test = pca.transform(xtest)\n",
    "\n",
    "fulltrain = pd.concat([xtrain.reset_index(drop=True), pd.DataFrame(pca_train)], axis=1)\n",
    "fulltest = pd.concat([xtest.reset_index(drop=True), pd.DataFrame(pca_test)], axis=1)"
   ]
  },
  {
   "cell_type": "code",
   "execution_count": 137,
   "metadata": {},
   "outputs": [],
   "source": [
    "#LR = useless\n",
    "\n",
    "mod = LogisticRegressionCV(cv=5, random_state=1, multi_class='ovr', max_iter=10000)\n",
    "mod.fit(xtrain, ytrain)\n",
    "pred = mod.predict(xtest)\n",
    "pred = enc.inverse_transform(pred)"
   ]
  },
  {
   "cell_type": "code",
   "execution_count": 195,
   "metadata": {},
   "outputs": [],
   "source": [
    "#GBC = rank 1\n",
    "\n",
    "mod = OneVsRestClassifier(GradientBoostingClassifier())\n",
    "mod.fit(xtrain, ytrain)\n",
    "pred = mod.predict(xtest)\n",
    "pred = enc.inverse_transform(pred)"
   ]
  },
  {
   "cell_type": "code",
   "execution_count": null,
   "metadata": {},
   "outputs": [],
   "source": [
    "#GBC = rank 7\n",
    "\n",
    "mod = OneVsOneClassifier(GradientBoostingClassifier())\n",
    "mod.fit(xtrain, ytrain)\n",
    "pred = mod.predict(xtest)\n",
    "pred = enc.inverse_transform(pred)"
   ]
  },
  {
   "cell_type": "code",
   "execution_count": 205,
   "metadata": {},
   "outputs": [],
   "source": [
    "#GBC = rank 1\n",
    "\n",
    "mod = OneVsRestClassifier(xgb.XGBClassifier(learning_rate=0.01, n_estimators=100, \n",
    "                                            objective='multi:softmax', max_depth=6, num_class=4))\n",
    "mod.fit(xtrain, ytrain)\n",
    "pred = mod.predict(xtest)\n",
    "pred = enc.inverse_transform(pred)"
   ]
  },
  {
   "cell_type": "code",
   "execution_count": 201,
   "metadata": {},
   "outputs": [],
   "source": [
    "import xgboost as xgb\n",
    "\n",
    "xg_train = xgb.DMatrix(xtrain, label=ytrain)\n",
    "xg_test = xgb.DMatrix(xtest)\n",
    "# setup parameters for xgboost\n",
    "param = {}\n",
    "# use softmax multi-class classification\n",
    "param['objective'] = 'multi:softmax'\n",
    "# scale weight of positive examples\n",
    "param['eta'] = 0.01\n",
    "param['max_depth'] = 6\n",
    "param['silent'] = 1\n",
    "param['nthread'] = 4\n",
    "param['num_class'] = 4\n",
    "num_round=100\n",
    "\n",
    "model = xgb.train(param, xg_train, num_round)\n",
    "pred = model.predict(xg_test)\n",
    "pred = enc.inverse_transform(pred.astype(int))"
   ]
  },
  {
   "cell_type": "code",
   "execution_count": 206,
   "metadata": {},
   "outputs": [],
   "source": [
    "submission = pd.read_csv('./data_semantics_sample_random_submission.csv')\n",
    "submission['C7'] = pred\n",
    "submission.head(2)\n",
    "submission.to_csv('submission.csv', index=False)"
   ]
  }
 ],
 "metadata": {
  "kernelspec": {
   "display_name": "Python [conda env:Anaconda3]",
   "language": "python",
   "name": "conda-env-Anaconda3-py"
  },
  "language_info": {
   "codemirror_mode": {
    "name": "ipython",
    "version": 3
   },
   "file_extension": ".py",
   "mimetype": "text/x-python",
   "name": "python",
   "nbconvert_exporter": "python",
   "pygments_lexer": "ipython3",
   "version": "3.6.5"
  }
 },
 "nbformat": 4,
 "nbformat_minor": 2
}
